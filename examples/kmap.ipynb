{
 "cells": [
  {
   "cell_type": "markdown",
   "metadata": {},
   "source": [
    "# UpSet.js Jupyter Widget - Karnaugh Map\n",
    "\n",
    "UpSet.js has a basic support for a variant of Karnaugh Maps."
   ]
  },
  {
   "cell_type": "code",
   "execution_count": 1,
   "metadata": {},
   "outputs": [],
   "source": [
    "from ipywidgets import interact\n",
    "from upsetjs_jupyter_widget import UpSetJSKarnaughMapWidget\n",
    "import pandas as pd"
   ]
  },
  {
   "cell_type": "markdown",
   "metadata": {},
   "source": [
    "This wrapper is implemented in Python 3 with mypy typings and generics. The generic type `T` of the `UpSetJSKarnaughMapWidget` is type of element that we wanna handle. In the following example we handle `str` elements."
   ]
  },
  {
   "cell_type": "code",
   "execution_count": 2,
   "metadata": {},
   "outputs": [],
   "source": [
    "w = UpSetJSKarnaughMapWidget[str]()"
   ]
  },
  {
   "cell_type": "markdown",
   "metadata": {},
   "source": [
    "## Basic User Interface"
   ]
  },
  {
   "cell_type": "code",
   "execution_count": 3,
   "metadata": {},
   "outputs": [
    {
     "data": {
      "application/vnd.jupyter.widget-view+json": {
       "model_id": "4f9e4feff5f14e6a9edc1fa0495b03c5",
       "version_major": 2,
       "version_minor": 0
      },
      "text/plain": [
       "UpSetJSKarnaughMapWidget(value=None, combinations=[UpSetSetDistinctIntersection(name=one, sets={'one'}, cardin…"
      ]
     },
     "execution_count": 3,
     "metadata": {},
     "output_type": "execute_result"
    }
   ],
   "source": [
    "dict_input = dict(one = ['a', 'b', 'c', 'e', 'g', 'h', 'k', 'l', 'm'], two = ['a', 'b', 'd', 'e', 'j'], three = ['a', 'e', 'f', 'g', 'h', 'i', 'j', 'l', 'm'])\n",
    "w.from_dict(dict_input)"
   ]
  },
  {
   "cell_type": "markdown",
   "metadata": {},
   "source": [
    "## Input Formats\n",
    "\n",
    "same as UpSetJSWidget"
   ]
  },
  {
   "cell_type": "markdown",
   "metadata": {},
   "source": [
    "## Basic Attrributes\n",
    "\n",
    "same as UpSetJSWidget"
   ]
  },
  {
   "cell_type": "markdown",
   "metadata": {},
   "source": [
    "## Interaction\n",
    "\n",
    "same as UpSetJSWidget"
   ]
  },
  {
   "cell_type": "markdown",
   "metadata": {},
   "source": [
    "## Queries\n",
    "\n",
    "same as UpSetJSWidget"
   ]
  },
  {
   "cell_type": "markdown",
   "metadata": {},
   "source": [
    "## Styling\n",
    "\n",
    "same as UpSetJSWidget"
   ]
  },
  {
   "cell_type": "code",
   "execution_count": null,
   "metadata": {},
   "outputs": [],
   "source": []
  }
 ],
 "metadata": {
  "kernelspec": {
   "display_name": "Python 3.7.1 64-bit ('upsetjs_jupyter_widget': pipenv)",
   "language": "python",
   "name": "python37164bitupsetjsjupyterwidgetpipenvfee1645c874046dc9f0c363432ab7182"
  },
  "language_info": {
   "codemirror_mode": {
    "name": "ipython",
    "version": 3
   },
   "file_extension": ".py",
   "mimetype": "text/x-python",
   "name": "python",
   "nbconvert_exporter": "python",
   "pygments_lexer": "ipython3",
   "version": "3.7.1"
  },
  "widgets": {
   "application/vnd.jupyter.widget-state+json": {
    "state": {
     "0d53eac5ebec494bb2655bd95293da12": {
      "model_module": "@jupyter-widgets/base",
      "model_module_version": "2.0.0",
      "model_name": "LayoutModel",
      "state": {
       "align_self": "stretch",
       "height": "400px"
      }
     },
     "4f9e4feff5f14e6a9edc1fa0495b03c5": {
      "model_module": "@upsetjs/jupyter_widget",
      "model_module_version": "^1.3.0",
      "model_name": "UpSetModel",
      "state": {
       "_expression_data": false,
       "_model_module_version": "^1.3.0",
       "_render_mode": "kmap",
       "_view_module_version": "^1.3.0",
       "bar_padding": null,
       "color": null,
       "combinations": [
        {
         "cardinality": 2,
         "color": null,
         "degree": 1,
         "elems": [
          10,
          2
         ],
         "name": "one",
         "set_names": [
          "one"
         ],
         "type": "distinctIntersection"
        },
        {
         "cardinality": 2,
         "color": null,
         "degree": 1,
         "elems": [
          5,
          8
         ],
         "name": "three",
         "set_names": [
          "three"
         ],
         "type": "distinctIntersection"
        },
        {
         "cardinality": 1,
         "color": null,
         "degree": 1,
         "elems": [
          3
         ],
         "name": "two",
         "set_names": [
          "two"
         ],
         "type": "distinctIntersection"
        },
        {
         "cardinality": 1,
         "color": null,
         "degree": 2,
         "elems": [
          1
         ],
         "name": "(one ∩ two)",
         "set_names": [
          "one",
          "two"
         ],
         "type": "distinctIntersection"
        },
        {
         "cardinality": 4,
         "color": null,
         "degree": 2,
         "elems": [
          12,
          6,
          11,
          7
         ],
         "name": "(one ∩ three)",
         "set_names": [
          "one",
          "three"
         ],
         "type": "distinctIntersection"
        },
        {
         "cardinality": 1,
         "color": null,
         "degree": 2,
         "elems": [
          9
         ],
         "name": "(two ∩ three)",
         "set_names": [
          "two",
          "three"
         ],
         "type": "distinctIntersection"
        },
        {
         "cardinality": 2,
         "color": null,
         "degree": 3,
         "elems": [
          0,
          4
         ],
         "name": "(one ∩ two ∩ three)",
         "set_names": [
          "one",
          "two",
          "three"
         ],
         "type": "distinctIntersection"
        }
       ],
       "description": null,
       "elems": [
        "a",
        "b",
        "c",
        "d",
        "e",
        "f",
        "g",
        "h",
        "i",
        "j",
        "k",
        "l",
        "m"
       ],
       "export_buttons": null,
       "font_family": null,
       "font_sizes": {},
       "has_selection_color": null,
       "has_selection_opacity": null,
       "layout": "IPY_MODEL_0d53eac5ebec494bb2655bd95293da12",
       "mode": "hover",
       "numeric_scale": "linear",
       "opacity": null,
       "padding": null,
       "queries": [],
       "query_legend": null,
       "selection_color": null,
       "sets": [
        {
         "cardinality": 9,
         "color": null,
         "elems": [
          1,
          7,
          10,
          0,
          6,
          11,
          2,
          12,
          4
         ],
         "name": "one",
         "type": "set"
        },
        {
         "cardinality": 9,
         "color": null,
         "elems": [
          5,
          7,
          0,
          6,
          11,
          9,
          12,
          4,
          8
         ],
         "name": "three",
         "type": "set"
        },
        {
         "cardinality": 5,
         "color": null,
         "elems": [
          1,
          0,
          3,
          9,
          4
         ],
         "name": "two",
         "type": "set"
        }
       ],
       "stroke_color": null,
       "text_color": null,
       "theme": "light",
       "title": null,
       "value": null
      }
     }
    },
    "version_major": 2,
    "version_minor": 0
   }
  }
 },
 "nbformat": 4,
 "nbformat_minor": 4
}
