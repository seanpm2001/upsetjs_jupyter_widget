{
 "cells": [
  {
   "cell_type": "markdown",
   "metadata": {},
   "source": [
    "# UpSet.js Jupyter Widget - Coloring Diagrams\n",
    " \n",
    "UpSet.js allow you to color sets in UpSet plots and Venn diagrams."
   ]
  },
  {
   "cell_type": "code",
   "execution_count": 1,
   "metadata": {},
   "outputs": [],
   "source": [
    "from ipywidgets import interact\n",
    "from upsetjs_jupyter_widget import UpSetJSWidget, UpSetJSVennDiagramWidget, UpSetJSEulerDiagramWidget\n",
    "import pandas as pd"
   ]
  },
  {
   "cell_type": "code",
   "execution_count": 2,
   "metadata": {},
   "outputs": [],
   "source": [
    "dict_input = dict(s1 = ['a', 'b', 'c', 'e', 'g', 'h', 'k', 'l', 'm'], s2 = ['a', 'b', 'd', 'e', 'j'], s3 = ['a', 'e', 'f', 'g', 'h', 'i', 'j', 'l', 'm'])\n",
    "colors = {'s1': '#1f77b4', 's2': '#2ca02c', 's3': '#d62728', 's1&s2': '#9467bd', 's1&s3': '#8c564b', 's2&s3': '#e377c2', 's1&s2&s3': '#bcbd22'}"
   ]
  },
  {
   "cell_type": "code",
   "execution_count": 3,
   "metadata": {},
   "outputs": [
    {
     "data": {
      "application/vnd.jupyter.widget-view+json": {
       "model_id": "c306c22812284b8b8c5b6aee74893040",
       "version_major": 2,
       "version_minor": 0
      },
      "text/plain": [
       "UpSetJSWidget(value=None, combinations=[UpSetSetIntersection(name=s1, sets={'s1'}, elems={'e', 'b', 'k', 'a', …"
      ]
     },
     "execution_count": 3,
     "metadata": {},
     "output_type": "execute_result"
    }
   ],
   "source": [
    "w = UpSetJSWidget[str]()\n",
    "w.selection_color = ''\n",
    "w.has_selection_opacity = 0.3\n",
    "w.from_dict(dict_input, colors=colors)"
   ]
  },
  {
   "cell_type": "code",
   "execution_count": 4,
   "metadata": {},
   "outputs": [
    {
     "data": {
      "application/vnd.jupyter.widget-view+json": {
       "model_id": "3fd14d94b84a4701856a2db4517dfc60",
       "version_major": 2,
       "version_minor": 0
      },
      "text/plain": [
       "UpSetJSVennDiagramWidget(value=None, combinations=[UpSetSetDistinctIntersection(name=s1, sets={'s1'}, elems={'…"
      ]
     },
     "execution_count": 4,
     "metadata": {},
     "output_type": "execute_result"
    }
   ],
   "source": [
    "v = UpSetJSVennDiagramWidget[str]()\n",
    "v.selection_color = ''\n",
    "v.has_selection_opacity = 0.3\n",
    "v.from_dict(dict_input, colors=colors)"
   ]
  },
  {
   "cell_type": "code",
   "execution_count": 5,
   "metadata": {},
   "outputs": [
    {
     "data": {
      "application/vnd.jupyter.widget-view+json": {
       "model_id": "b02a5d9cccef42bdb4c19e1b74c22830",
       "version_major": 2,
       "version_minor": 0
      },
      "text/plain": [
       "UpSetJSEulerDiagramWidget(value=None, combinations=[UpSetSetDistinctIntersection(name=s1, sets={'s1'}, elems={…"
      ]
     },
     "execution_count": 5,
     "metadata": {},
     "output_type": "execute_result"
    }
   ],
   "source": [
    "e = UpSetJSEulerDiagramWidget[str]()\n",
    "e.selection_color = ''\n",
    "e.has_selection_opacity = 0.3\n",
    "e.from_dict(dict_input, colors=colors)"
   ]
  },
  {
   "cell_type": "code",
   "execution_count": null,
   "metadata": {},
   "outputs": [],
   "source": []
  }
 ],
 "metadata": {
  "kernelspec": {
   "display_name": "Python 3.7.1 64-bit ('upsetjs_jupyter_widget': pipenv)",
   "language": "python",
   "name": "python37164bitupsetjsjupyterwidgetpipenvfee1645c874046dc9f0c363432ab7182"
  },
  "language_info": {
   "codemirror_mode": {
    "name": "ipython",
    "version": 3
   },
   "file_extension": ".py",
   "mimetype": "text/x-python",
   "name": "python",
   "nbconvert_exporter": "python",
   "pygments_lexer": "ipython3",
   "version": "3.7.1"
  },
  "widgets": {
   "application/vnd.jupyter.widget-state+json": {
    "state": {
     "3fd14d94b84a4701856a2db4517dfc60": {
      "model_module": "@upsetjs/jupyter_widget",
      "model_module_version": "^1.1.0",
      "model_name": "UpSetModel",
      "state": {
       "_model_module_version": "^1.1.0",
       "_render_mode": "venn",
       "_view_module_version": "^1.1.0",
       "color": null,
       "combinations": [
        {
         "cardinality": 2,
         "color": "#1f77b4",
         "degree": 1,
         "elems": [
          10,
          2
         ],
         "name": "s1",
         "set_names": [
          "s1"
         ],
         "type": "distinctIntersection"
        },
        {
         "cardinality": 2,
         "color": "#d62728",
         "degree": 1,
         "elems": [
          8,
          5
         ],
         "name": "s3",
         "set_names": [
          "s3"
         ],
         "type": "distinctIntersection"
        },
        {
         "cardinality": 1,
         "color": "#2ca02c",
         "degree": 1,
         "elems": [
          3
         ],
         "name": "s2",
         "set_names": [
          "s2"
         ],
         "type": "distinctIntersection"
        },
        {
         "cardinality": 1,
         "color": "#9467bd",
         "degree": 2,
         "elems": [
          1
         ],
         "name": "(s1 ∩ s2)",
         "set_names": [
          "s1",
          "s2"
         ],
         "type": "distinctIntersection"
        },
        {
         "cardinality": 4,
         "color": "#8c564b",
         "degree": 2,
         "elems": [
          7,
          6,
          12,
          11
         ],
         "name": "(s1 ∩ s3)",
         "set_names": [
          "s1",
          "s3"
         ],
         "type": "distinctIntersection"
        },
        {
         "cardinality": 1,
         "color": "#e377c2",
         "degree": 2,
         "elems": [
          9
         ],
         "name": "(s2 ∩ s3)",
         "set_names": [
          "s2",
          "s3"
         ],
         "type": "distinctIntersection"
        },
        {
         "cardinality": 2,
         "color": "#bcbd22",
         "degree": 3,
         "elems": [
          4,
          0
         ],
         "name": "(s1 ∩ s2 ∩ s3)",
         "set_names": [
          "s1",
          "s2",
          "s3"
         ],
         "type": "distinctIntersection"
        }
       ],
       "description": null,
       "elems": [
        "a",
        "b",
        "c",
        "d",
        "e",
        "f",
        "g",
        "h",
        "i",
        "j",
        "k",
        "l",
        "m"
       ],
       "export_buttons": null,
       "font_family": null,
       "font_sizes": {},
       "has_selection_color": null,
       "has_selection_opacity": 0.3,
       "layout": "IPY_MODEL_a36281d79a1745c29f18e09cad30ecf4",
       "mode": "hover",
       "opacity": null,
       "padding": null,
       "queries": [],
       "query_legend": null,
       "selection_color": "",
       "sets": [
        {
         "cardinality": 9,
         "color": "#1f77b4",
         "elems": [
          4,
          1,
          10,
          0,
          11,
          6,
          2,
          7,
          12
         ],
         "name": "s1",
         "type": "set"
        },
        {
         "cardinality": 9,
         "color": "#d62728",
         "elems": [
          4,
          0,
          9,
          5,
          11,
          6,
          8,
          7,
          12
         ],
         "name": "s3",
         "type": "set"
        },
        {
         "cardinality": 5,
         "color": "#2ca02c",
         "elems": [
          4,
          1,
          3,
          0,
          9
         ],
         "name": "s2",
         "type": "set"
        }
       ],
       "stroke_color": null,
       "text_color": null,
       "theme": "light",
       "title": null,
       "value": null,
       "value_text_color": null
      }
     },
     "571f3011cdf74d83910258dfa37d639a": {
      "model_module": "@jupyter-widgets/base",
      "model_module_version": "2.0.0",
      "model_name": "LayoutModel",
      "state": {
       "align_self": "stretch",
       "height": "400px"
      }
     },
     "a36281d79a1745c29f18e09cad30ecf4": {
      "model_module": "@jupyter-widgets/base",
      "model_module_version": "2.0.0",
      "model_name": "LayoutModel",
      "state": {
       "align_self": "stretch",
       "height": "400px"
      }
     },
     "b02a5d9cccef42bdb4c19e1b74c22830": {
      "model_module": "@upsetjs/jupyter_widget",
      "model_module_version": "^1.1.0",
      "model_name": "UpSetModel",
      "state": {
       "_model_module_version": "^1.1.0",
       "_render_mode": "euler",
       "_view_module_version": "^1.1.0",
       "color": null,
       "combinations": [
        {
         "cardinality": 2,
         "color": "#1f77b4",
         "degree": 1,
         "elems": [
          10,
          2
         ],
         "name": "s1",
         "set_names": [
          "s1"
         ],
         "type": "distinctIntersection"
        },
        {
         "cardinality": 2,
         "color": "#d62728",
         "degree": 1,
         "elems": [
          8,
          5
         ],
         "name": "s3",
         "set_names": [
          "s3"
         ],
         "type": "distinctIntersection"
        },
        {
         "cardinality": 1,
         "color": "#2ca02c",
         "degree": 1,
         "elems": [
          3
         ],
         "name": "s2",
         "set_names": [
          "s2"
         ],
         "type": "distinctIntersection"
        },
        {
         "cardinality": 1,
         "color": "#9467bd",
         "degree": 2,
         "elems": [
          1
         ],
         "name": "(s1 ∩ s2)",
         "set_names": [
          "s1",
          "s2"
         ],
         "type": "distinctIntersection"
        },
        {
         "cardinality": 4,
         "color": "#8c564b",
         "degree": 2,
         "elems": [
          7,
          6,
          12,
          11
         ],
         "name": "(s1 ∩ s3)",
         "set_names": [
          "s1",
          "s3"
         ],
         "type": "distinctIntersection"
        },
        {
         "cardinality": 1,
         "color": "#e377c2",
         "degree": 2,
         "elems": [
          9
         ],
         "name": "(s2 ∩ s3)",
         "set_names": [
          "s2",
          "s3"
         ],
         "type": "distinctIntersection"
        },
        {
         "cardinality": 2,
         "color": "#bcbd22",
         "degree": 3,
         "elems": [
          4,
          0
         ],
         "name": "(s1 ∩ s2 ∩ s3)",
         "set_names": [
          "s3",
          "s1",
          "s2"
         ],
         "type": "distinctIntersection"
        }
       ],
       "description": null,
       "elems": [
        "a",
        "b",
        "c",
        "d",
        "e",
        "f",
        "g",
        "h",
        "i",
        "j",
        "k",
        "l",
        "m"
       ],
       "export_buttons": null,
       "font_family": null,
       "font_sizes": {},
       "has_selection_color": null,
       "has_selection_opacity": 0.3,
       "layout": "IPY_MODEL_de891e52e4bf4333b3cb7081e5889ecd",
       "mode": "hover",
       "opacity": null,
       "padding": null,
       "queries": [],
       "query_legend": null,
       "selection_color": "",
       "sets": [
        {
         "cardinality": 9,
         "color": "#1f77b4",
         "elems": [
          4,
          1,
          10,
          0,
          11,
          6,
          2,
          7,
          12
         ],
         "name": "s1",
         "type": "set"
        },
        {
         "cardinality": 9,
         "color": "#d62728",
         "elems": [
          4,
          0,
          9,
          5,
          11,
          6,
          8,
          7,
          12
         ],
         "name": "s3",
         "type": "set"
        },
        {
         "cardinality": 5,
         "color": "#2ca02c",
         "elems": [
          4,
          1,
          3,
          0,
          9
         ],
         "name": "s2",
         "type": "set"
        }
       ],
       "stroke_color": null,
       "text_color": null,
       "theme": "light",
       "title": null,
       "value": null,
       "value_text_color": null
      }
     },
     "c306c22812284b8b8c5b6aee74893040": {
      "model_module": "@upsetjs/jupyter_widget",
      "model_module_version": "^1.1.0",
      "model_name": "UpSetModel",
      "state": {
       "_model_module_version": "^1.1.0",
       "_render_mode": "upset",
       "_view_module_version": "^1.1.0",
       "alternating_background_color": null,
       "attrs": [],
       "band_scale": "band",
       "bar_label_offset": null,
       "bar_padding": null,
       "color": null,
       "combination_name": null,
       "combination_name_axis_offset": null,
       "combinations": [
        {
         "cardinality": 9,
         "color": "#1f77b4",
         "degree": 1,
         "elems": [
          4,
          1,
          10,
          0,
          11,
          6,
          2,
          7,
          12
         ],
         "name": "s1",
         "set_names": [
          "s1"
         ],
         "type": "intersection"
        },
        {
         "cardinality": 9,
         "color": "#d62728",
         "degree": 1,
         "elems": [
          4,
          0,
          9,
          5,
          11,
          6,
          8,
          7,
          12
         ],
         "name": "s3",
         "set_names": [
          "s3"
         ],
         "type": "intersection"
        },
        {
         "cardinality": 6,
         "color": "#8c564b",
         "degree": 2,
         "elems": [
          4,
          0,
          11,
          6,
          7,
          12
         ],
         "name": "(s1 ∩ s3)",
         "set_names": [
          "s3",
          "s1"
         ],
         "type": "intersection"
        },
        {
         "cardinality": 5,
         "color": "#2ca02c",
         "degree": 1,
         "elems": [
          4,
          1,
          3,
          0,
          9
         ],
         "name": "s2",
         "set_names": [
          "s2"
         ],
         "type": "intersection"
        },
        {
         "cardinality": 3,
         "color": "#9467bd",
         "degree": 2,
         "elems": [
          4,
          0,
          1
         ],
         "name": "(s1 ∩ s2)",
         "set_names": [
          "s2",
          "s1"
         ],
         "type": "intersection"
        },
        {
         "cardinality": 3,
         "color": "#e377c2",
         "degree": 2,
         "elems": [
          4,
          0,
          9
         ],
         "name": "(s2 ∩ s3)",
         "set_names": [
          "s2",
          "s3"
         ],
         "type": "intersection"
        },
        {
         "cardinality": 2,
         "color": "#bcbd22",
         "degree": 3,
         "elems": [
          4,
          0
         ],
         "name": "(s1 ∩ s2 ∩ s3)",
         "set_names": [
          "s2",
          "s3",
          "s1"
         ],
         "type": "intersection"
        }
       ],
       "description": null,
       "dot_padding": null,
       "elems": [
        "a",
        "b",
        "c",
        "d",
        "e",
        "f",
        "g",
        "h",
        "i",
        "j",
        "k",
        "l",
        "m"
       ],
       "export_buttons": null,
       "font_family": null,
       "font_sizes": {},
       "has_selection_color": null,
       "has_selection_opacity": 0.3,
       "height_ratios": [
        0.6,
        0.4
       ],
       "hover_hint_color": null,
       "layout": "IPY_MODEL_571f3011cdf74d83910258dfa37d639a",
       "mode": "hover",
       "not_member_color": null,
       "numeric_scale": "linear",
       "opacity": null,
       "padding": null,
       "queries": [],
       "query_legend": null,
       "selection_color": "",
       "set_name": null,
       "set_name_axis_offset": null,
       "sets": [
        {
         "cardinality": 9,
         "color": "#1f77b4",
         "elems": [
          4,
          1,
          10,
          0,
          11,
          6,
          2,
          7,
          12
         ],
         "name": "s1",
         "type": "set"
        },
        {
         "cardinality": 9,
         "color": "#d62728",
         "elems": [
          4,
          0,
          9,
          5,
          11,
          6,
          8,
          7,
          12
         ],
         "name": "s3",
         "type": "set"
        },
        {
         "cardinality": 5,
         "color": "#2ca02c",
         "elems": [
          4,
          1,
          3,
          0,
          9
         ],
         "name": "s2",
         "type": "set"
        }
       ],
       "text_color": null,
       "theme": "light",
       "title": null,
       "value": null,
       "width_ratios": [
        0.25,
        0.1,
        0.65
       ]
      }
     },
     "de891e52e4bf4333b3cb7081e5889ecd": {
      "model_module": "@jupyter-widgets/base",
      "model_module_version": "2.0.0",
      "model_name": "LayoutModel",
      "state": {
       "align_self": "stretch",
       "height": "400px"
      }
     }
    },
    "version_major": 2,
    "version_minor": 0
   }
  }
 },
 "nbformat": 4,
 "nbformat_minor": 4
}
