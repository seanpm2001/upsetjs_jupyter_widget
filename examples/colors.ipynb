{
 "cells": [
  {
   "cell_type": "markdown",
   "metadata": {},
   "source": [
    "# UpSet.js Jupyter Widget - Coloring Diagrams\n",
    " \n",
    "UpSet.js allow you to color sets in UpSet plots, Venn diagrams, and Karnaugh maps."
   ]
  },
  {
   "cell_type": "code",
   "execution_count": 3,
   "metadata": {},
   "outputs": [],
   "source": [
    "from ipywidgets import interact\n",
    "from upsetjs_jupyter_widget import UpSetJSWidget, UpSetJSVennDiagramWidget, UpSetJSEulerDiagramWidget, UpSetJSKarnaughMapWidget\n",
    "import pandas as pd"
   ]
  },
  {
   "cell_type": "code",
   "execution_count": 4,
   "metadata": {},
   "outputs": [],
   "source": [
    "dict_input = dict(s1 = ['a', 'b', 'c', 'e', 'g', 'h', 'k', 'l', 'm'], s2 = ['a', 'b', 'd', 'e', 'j'], s3 = ['a', 'e', 'f', 'g', 'h', 'i', 'j', 'l', 'm'])\n",
    "colors = {'s1': '#1f77b4', 's2': '#2ca02c', 's3': '#d62728', 's1&s2': '#9467bd', 's1&s3': '#8c564b', 's2&s3': '#e377c2', 's1&s2&s3': '#bcbd22'}"
   ]
  },
  {
   "cell_type": "code",
   "execution_count": 5,
   "metadata": {},
   "outputs": [
    {
     "data": {
      "application/vnd.jupyter.widget-view+json": {
       "model_id": "0a5da1a3393844a184e491f67da011ea",
       "version_major": 2,
       "version_minor": 0
      },
      "text/plain": [
       "UpSetJSWidget(value=None, combinations=[UpSetSetIntersection(name=s1, sets={'s1'}, cardinality=9, elems={'b', …"
      ]
     },
     "execution_count": 5,
     "metadata": {},
     "output_type": "execute_result"
    }
   ],
   "source": [
    "w = UpSetJSWidget[str]()\n",
    "w.selection_color = ''\n",
    "w.has_selection_opacity = 0.3\n",
    "w.from_dict(dict_input, colors=colors)"
   ]
  },
  {
   "cell_type": "code",
   "execution_count": 6,
   "metadata": {},
   "outputs": [
    {
     "data": {
      "application/vnd.jupyter.widget-view+json": {
       "model_id": "f7061c4ff76b44cd9971d4d5cb79d2ea",
       "version_major": 2,
       "version_minor": 0
      },
      "text/plain": [
       "UpSetJSVennDiagramWidget(value=None, combinations=[UpSetSetDistinctIntersection(name=s1, sets={'s1'}, cardinal…"
      ]
     },
     "execution_count": 6,
     "metadata": {},
     "output_type": "execute_result"
    }
   ],
   "source": [
    "v = UpSetJSVennDiagramWidget[str]()\n",
    "v.selection_color = ''\n",
    "v.has_selection_opacity = 0.3\n",
    "v.from_dict(dict_input, colors=colors)"
   ]
  },
  {
   "cell_type": "code",
   "execution_count": 7,
   "metadata": {},
   "outputs": [
    {
     "data": {
      "application/vnd.jupyter.widget-view+json": {
       "model_id": "415652b7f8e740b3925f8d4ac7b706cf",
       "version_major": 2,
       "version_minor": 0
      },
      "text/plain": [
       "UpSetJSEulerDiagramWidget(value=None, combinations=[UpSetSetDistinctIntersection(name=s1, sets={'s1'}, cardina…"
      ]
     },
     "execution_count": 7,
     "metadata": {},
     "output_type": "execute_result"
    }
   ],
   "source": [
    "e = UpSetJSEulerDiagramWidget[str]()\n",
    "e.selection_color = ''\n",
    "e.has_selection_opacity = 0.3\n",
    "e.from_dict(dict_input, colors=colors)"
   ]
  },
  {
   "cell_type": "code",
   "execution_count": 8,
   "metadata": {},
   "outputs": [
    {
     "data": {
      "application/vnd.jupyter.widget-view+json": {
       "model_id": "af5914b90b704240ba1195962fe5c790",
       "version_major": 2,
       "version_minor": 0
      },
      "text/plain": [
       "UpSetJSKarnaughMapWidget(value=None, combinations=[UpSetSetDistinctIntersection(name=s1, sets={'s1'}, cardinal…"
      ]
     },
     "execution_count": 8,
     "metadata": {},
     "output_type": "execute_result"
    }
   ],
   "source": [
    "k = UpSetJSKarnaughMapWidget[str]()\n",
    "k.selection_color = ''\n",
    "k.has_selection_opacity = 0.3\n",
    "k.from_dict(dict_input, colors=colors)"
   ]
  },
  {
   "cell_type": "code",
   "execution_count": null,
   "metadata": {},
   "outputs": [],
   "source": []
  }
 ],
 "metadata": {
  "kernelspec": {
   "display_name": "Python 3.7.1 64-bit ('upsetjs_jupyter_widget': pipenv)",
   "language": "python",
   "name": "python37164bitupsetjsjupyterwidgetpipenvfee1645c874046dc9f0c363432ab7182"
  },
  "language_info": {
   "codemirror_mode": {
    "name": "ipython",
    "version": 3
   },
   "file_extension": ".py",
   "mimetype": "text/x-python",
   "name": "python",
   "nbconvert_exporter": "python",
   "pygments_lexer": "ipython3",
   "version": "3.7.1"
  },
  "widgets": {
   "application/vnd.jupyter.widget-state+json": {
    "state": {
     "0a5da1a3393844a184e491f67da011ea": {
      "model_module": "@upsetjs/jupyter_widget",
      "model_module_version": "^1.3.0",
      "model_name": "UpSetModel",
      "state": {
       "_expression_data": false,
       "_model_module_version": "^1.3.0",
       "_render_mode": "upset",
       "_view_module_version": "^1.3.0",
       "alternating_background_color": null,
       "attrs": [],
       "band_scale": "band",
       "bar_label_offset": null,
       "bar_padding": null,
       "color": null,
       "combination_name": null,
       "combination_name_axis_offset": null,
       "combinations": [
        {
         "cardinality": 9,
         "color": "#1f77b4",
         "degree": 1,
         "elems": [
          1,
          6,
          0,
          4,
          7,
          10,
          2,
          11,
          12
         ],
         "name": "s1",
         "set_names": [
          "s1"
         ],
         "type": "intersection"
        },
        {
         "cardinality": 9,
         "color": "#d62728",
         "degree": 1,
         "elems": [
          8,
          6,
          7,
          0,
          4,
          9,
          11,
          5,
          12
         ],
         "name": "s3",
         "set_names": [
          "s3"
         ],
         "type": "intersection"
        },
        {
         "cardinality": 6,
         "color": "#8c564b",
         "degree": 2,
         "elems": [
          6,
          0,
          7,
          4,
          11,
          12
         ],
         "name": "(s1 ∩ s3)",
         "set_names": [
          "s3",
          "s1"
         ],
         "type": "intersection"
        },
        {
         "cardinality": 5,
         "color": "#2ca02c",
         "degree": 1,
         "elems": [
          1,
          3,
          0,
          4,
          9
         ],
         "name": "s2",
         "set_names": [
          "s2"
         ],
         "type": "intersection"
        },
        {
         "cardinality": 3,
         "color": "#9467bd",
         "degree": 2,
         "elems": [
          1,
          0,
          4
         ],
         "name": "(s1 ∩ s2)",
         "set_names": [
          "s2",
          "s1"
         ],
         "type": "intersection"
        },
        {
         "cardinality": 3,
         "color": "#e377c2",
         "degree": 2,
         "elems": [
          9,
          0,
          4
         ],
         "name": "(s2 ∩ s3)",
         "set_names": [
          "s2",
          "s3"
         ],
         "type": "intersection"
        },
        {
         "cardinality": 2,
         "color": "#bcbd22",
         "degree": 3,
         "elems": [
          0,
          4
         ],
         "name": "(s1 ∩ s2 ∩ s3)",
         "set_names": [
          "s2",
          "s3",
          "s1"
         ],
         "type": "intersection"
        }
       ],
       "description": null,
       "dot_padding": null,
       "elems": [
        "a",
        "b",
        "c",
        "d",
        "e",
        "f",
        "g",
        "h",
        "i",
        "j",
        "k",
        "l",
        "m"
       ],
       "export_buttons": null,
       "font_family": null,
       "font_sizes": {},
       "has_selection_color": null,
       "has_selection_opacity": 0.3,
       "height_ratios": [
        0.6,
        0.4
       ],
       "hover_hint_color": null,
       "layout": "IPY_MODEL_8f2bbf62f29b43499b0e372a5af0a029",
       "mode": "hover",
       "not_member_color": null,
       "numeric_scale": "linear",
       "opacity": null,
       "padding": null,
       "queries": [],
       "query_legend": null,
       "selection_color": "",
       "set_name": null,
       "set_name_axis_offset": null,
       "sets": [
        {
         "cardinality": 9,
         "color": "#1f77b4",
         "elems": [
          1,
          6,
          0,
          4,
          7,
          10,
          2,
          11,
          12
         ],
         "name": "s1",
         "type": "set"
        },
        {
         "cardinality": 9,
         "color": "#d62728",
         "elems": [
          8,
          6,
          7,
          0,
          4,
          9,
          11,
          5,
          12
         ],
         "name": "s3",
         "type": "set"
        },
        {
         "cardinality": 5,
         "color": "#2ca02c",
         "elems": [
          1,
          3,
          0,
          4,
          9
         ],
         "name": "s2",
         "type": "set"
        }
       ],
       "text_color": null,
       "theme": "light",
       "title": null,
       "value": null,
       "width_ratios": [
        0.25,
        0.1,
        0.65
       ]
      }
     },
     "415652b7f8e740b3925f8d4ac7b706cf": {
      "model_module": "@upsetjs/jupyter_widget",
      "model_module_version": "^1.3.0",
      "model_name": "UpSetModel",
      "state": {
       "_expression_data": false,
       "_model_module_version": "^1.3.0",
       "_render_mode": "euler",
       "_view_module_version": "^1.3.0",
       "color": null,
       "combinations": [
        {
         "cardinality": 2,
         "color": "#1f77b4",
         "degree": 1,
         "elems": [
          10,
          2
         ],
         "name": "s1",
         "set_names": [
          "s1"
         ],
         "type": "distinctIntersection"
        },
        {
         "cardinality": 2,
         "color": "#d62728",
         "degree": 1,
         "elems": [
          5,
          8
         ],
         "name": "s3",
         "set_names": [
          "s3"
         ],
         "type": "distinctIntersection"
        },
        {
         "cardinality": 1,
         "color": "#2ca02c",
         "degree": 1,
         "elems": [
          3
         ],
         "name": "s2",
         "set_names": [
          "s2"
         ],
         "type": "distinctIntersection"
        },
        {
         "cardinality": 1,
         "color": "#9467bd",
         "degree": 2,
         "elems": [
          1
         ],
         "name": "(s1 ∩ s2)",
         "set_names": [
          "s1",
          "s2"
         ],
         "type": "distinctIntersection"
        },
        {
         "cardinality": 4,
         "color": "#8c564b",
         "degree": 2,
         "elems": [
          11,
          12,
          6,
          7
         ],
         "name": "(s1 ∩ s3)",
         "set_names": [
          "s1",
          "s3"
         ],
         "type": "distinctIntersection"
        },
        {
         "cardinality": 1,
         "color": "#e377c2",
         "degree": 2,
         "elems": [
          9
         ],
         "name": "(s2 ∩ s3)",
         "set_names": [
          "s3",
          "s2"
         ],
         "type": "distinctIntersection"
        },
        {
         "cardinality": 2,
         "color": "#bcbd22",
         "degree": 3,
         "elems": [
          0,
          4
         ],
         "name": "(s1 ∩ s2 ∩ s3)",
         "set_names": [
          "s1",
          "s2",
          "s3"
         ],
         "type": "distinctIntersection"
        }
       ],
       "description": null,
       "elems": [
        "a",
        "b",
        "c",
        "d",
        "e",
        "f",
        "g",
        "h",
        "i",
        "j",
        "k",
        "l",
        "m"
       ],
       "export_buttons": null,
       "font_family": null,
       "font_sizes": {},
       "has_selection_color": null,
       "has_selection_opacity": 0.3,
       "layout": "IPY_MODEL_4ffcbfc1e25a4d088ee1ce681643b731",
       "mode": "hover",
       "opacity": null,
       "padding": null,
       "queries": [],
       "query_legend": null,
       "selection_color": "",
       "sets": [
        {
         "cardinality": 9,
         "color": "#1f77b4",
         "elems": [
          1,
          6,
          0,
          4,
          7,
          10,
          2,
          11,
          12
         ],
         "name": "s1",
         "type": "set"
        },
        {
         "cardinality": 9,
         "color": "#d62728",
         "elems": [
          8,
          6,
          7,
          0,
          4,
          9,
          11,
          5,
          12
         ],
         "name": "s3",
         "type": "set"
        },
        {
         "cardinality": 5,
         "color": "#2ca02c",
         "elems": [
          1,
          3,
          0,
          4,
          9
         ],
         "name": "s2",
         "type": "set"
        }
       ],
       "stroke_color": null,
       "text_color": null,
       "theme": "light",
       "title": null,
       "value": null,
       "value_text_color": null
      }
     },
     "4ffcbfc1e25a4d088ee1ce681643b731": {
      "model_module": "@jupyter-widgets/base",
      "model_module_version": "2.0.0",
      "model_name": "LayoutModel",
      "state": {
       "align_self": "stretch",
       "height": "400px"
      }
     },
     "8f2bbf62f29b43499b0e372a5af0a029": {
      "model_module": "@jupyter-widgets/base",
      "model_module_version": "2.0.0",
      "model_name": "LayoutModel",
      "state": {
       "align_self": "stretch",
       "height": "400px"
      }
     },
     "aaecd916780944c694e3995ae0c91d06": {
      "model_module": "@jupyter-widgets/base",
      "model_module_version": "2.0.0",
      "model_name": "LayoutModel",
      "state": {
       "align_self": "stretch",
       "height": "400px"
      }
     },
     "af5914b90b704240ba1195962fe5c790": {
      "model_module": "@upsetjs/jupyter_widget",
      "model_module_version": "^1.3.0",
      "model_name": "UpSetModel",
      "state": {
       "_expression_data": false,
       "_model_module_version": "^1.3.0",
       "_render_mode": "kmap",
       "_view_module_version": "^1.3.0",
       "bar_padding": null,
       "color": null,
       "combinations": [
        {
         "cardinality": 2,
         "color": "#1f77b4",
         "degree": 1,
         "elems": [
          10,
          2
         ],
         "name": "s1",
         "set_names": [
          "s1"
         ],
         "type": "distinctIntersection"
        },
        {
         "cardinality": 2,
         "color": "#d62728",
         "degree": 1,
         "elems": [
          5,
          8
         ],
         "name": "s3",
         "set_names": [
          "s3"
         ],
         "type": "distinctIntersection"
        },
        {
         "cardinality": 1,
         "color": "#2ca02c",
         "degree": 1,
         "elems": [
          3
         ],
         "name": "s2",
         "set_names": [
          "s2"
         ],
         "type": "distinctIntersection"
        },
        {
         "cardinality": 1,
         "color": "#9467bd",
         "degree": 2,
         "elems": [
          1
         ],
         "name": "(s1 ∩ s2)",
         "set_names": [
          "s2",
          "s1"
         ],
         "type": "distinctIntersection"
        },
        {
         "cardinality": 4,
         "color": "#8c564b",
         "degree": 2,
         "elems": [
          11,
          12,
          6,
          7
         ],
         "name": "(s1 ∩ s3)",
         "set_names": [
          "s3",
          "s1"
         ],
         "type": "distinctIntersection"
        },
        {
         "cardinality": 1,
         "color": "#e377c2",
         "degree": 2,
         "elems": [
          9
         ],
         "name": "(s2 ∩ s3)",
         "set_names": [
          "s2",
          "s3"
         ],
         "type": "distinctIntersection"
        },
        {
         "cardinality": 2,
         "color": "#bcbd22",
         "degree": 3,
         "elems": [
          0,
          4
         ],
         "name": "(s1 ∩ s2 ∩ s3)",
         "set_names": [
          "s2",
          "s3",
          "s1"
         ],
         "type": "distinctIntersection"
        }
       ],
       "description": null,
       "elems": [
        "a",
        "b",
        "c",
        "d",
        "e",
        "f",
        "g",
        "h",
        "i",
        "j",
        "k",
        "l",
        "m"
       ],
       "export_buttons": null,
       "font_family": null,
       "font_sizes": {},
       "has_selection_color": null,
       "has_selection_opacity": 0.3,
       "layout": "IPY_MODEL_b9ae91baf5fe43a4b2ee2838a72d49eb",
       "mode": "hover",
       "numeric_scale": "linear",
       "opacity": null,
       "padding": null,
       "queries": [],
       "query_legend": null,
       "selection_color": "",
       "sets": [
        {
         "cardinality": 9,
         "color": "#1f77b4",
         "elems": [
          1,
          6,
          0,
          4,
          7,
          10,
          2,
          11,
          12
         ],
         "name": "s1",
         "type": "set"
        },
        {
         "cardinality": 9,
         "color": "#d62728",
         "elems": [
          8,
          6,
          7,
          0,
          4,
          9,
          11,
          5,
          12
         ],
         "name": "s3",
         "type": "set"
        },
        {
         "cardinality": 5,
         "color": "#2ca02c",
         "elems": [
          1,
          3,
          0,
          4,
          9
         ],
         "name": "s2",
         "type": "set"
        }
       ],
       "stroke_color": null,
       "text_color": null,
       "theme": "light",
       "title": null,
       "value": null
      }
     },
     "b9ae91baf5fe43a4b2ee2838a72d49eb": {
      "model_module": "@jupyter-widgets/base",
      "model_module_version": "2.0.0",
      "model_name": "LayoutModel",
      "state": {
       "align_self": "stretch",
       "height": "400px"
      }
     },
     "f7061c4ff76b44cd9971d4d5cb79d2ea": {
      "model_module": "@upsetjs/jupyter_widget",
      "model_module_version": "^1.3.0",
      "model_name": "UpSetModel",
      "state": {
       "_expression_data": false,
       "_model_module_version": "^1.3.0",
       "_render_mode": "venn",
       "_view_module_version": "^1.3.0",
       "color": null,
       "combinations": [
        {
         "cardinality": 2,
         "color": "#1f77b4",
         "degree": 1,
         "elems": [
          10,
          2
         ],
         "name": "s1",
         "set_names": [
          "s1"
         ],
         "type": "distinctIntersection"
        },
        {
         "cardinality": 2,
         "color": "#d62728",
         "degree": 1,
         "elems": [
          5,
          8
         ],
         "name": "s3",
         "set_names": [
          "s3"
         ],
         "type": "distinctIntersection"
        },
        {
         "cardinality": 1,
         "color": "#2ca02c",
         "degree": 1,
         "elems": [
          3
         ],
         "name": "s2",
         "set_names": [
          "s2"
         ],
         "type": "distinctIntersection"
        },
        {
         "cardinality": 1,
         "color": "#9467bd",
         "degree": 2,
         "elems": [
          1
         ],
         "name": "(s1 ∩ s2)",
         "set_names": [
          "s2",
          "s1"
         ],
         "type": "distinctIntersection"
        },
        {
         "cardinality": 4,
         "color": "#8c564b",
         "degree": 2,
         "elems": [
          11,
          12,
          6,
          7
         ],
         "name": "(s1 ∩ s3)",
         "set_names": [
          "s3",
          "s1"
         ],
         "type": "distinctIntersection"
        },
        {
         "cardinality": 1,
         "color": "#e377c2",
         "degree": 2,
         "elems": [
          9
         ],
         "name": "(s2 ∩ s3)",
         "set_names": [
          "s2",
          "s3"
         ],
         "type": "distinctIntersection"
        },
        {
         "cardinality": 2,
         "color": "#bcbd22",
         "degree": 3,
         "elems": [
          0,
          4
         ],
         "name": "(s1 ∩ s2 ∩ s3)",
         "set_names": [
          "s2",
          "s3",
          "s1"
         ],
         "type": "distinctIntersection"
        }
       ],
       "description": null,
       "elems": [
        "a",
        "b",
        "c",
        "d",
        "e",
        "f",
        "g",
        "h",
        "i",
        "j",
        "k",
        "l",
        "m"
       ],
       "export_buttons": null,
       "font_family": null,
       "font_sizes": {},
       "has_selection_color": null,
       "has_selection_opacity": 0.3,
       "layout": "IPY_MODEL_aaecd916780944c694e3995ae0c91d06",
       "mode": "hover",
       "opacity": null,
       "padding": null,
       "queries": [],
       "query_legend": null,
       "selection_color": "",
       "sets": [
        {
         "cardinality": 9,
         "color": "#1f77b4",
         "elems": [
          1,
          6,
          0,
          4,
          7,
          10,
          2,
          11,
          12
         ],
         "name": "s1",
         "type": "set"
        },
        {
         "cardinality": 9,
         "color": "#d62728",
         "elems": [
          8,
          6,
          7,
          0,
          4,
          9,
          11,
          5,
          12
         ],
         "name": "s3",
         "type": "set"
        },
        {
         "cardinality": 5,
         "color": "#2ca02c",
         "elems": [
          1,
          3,
          0,
          4,
          9
         ],
         "name": "s2",
         "type": "set"
        }
       ],
       "stroke_color": null,
       "text_color": null,
       "theme": "light",
       "title": null,
       "value": null,
       "value_text_color": null
      }
     }
    },
    "version_major": 2,
    "version_minor": 0
   }
  }
 },
 "nbformat": 4,
 "nbformat_minor": 4
}
