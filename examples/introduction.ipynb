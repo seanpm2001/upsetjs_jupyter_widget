{
 "cells": [
  {
   "cell_type": "markdown",
   "metadata": {},
   "source": [
    "# UpSet.js Jupyter Widget\n",
    "\n",
    "[UpSet.js](https://upset.js.org) is a JavaScript re-implementation of [UpSetR](https://www.rdocumentation.org/packages/UpSetR/) which itself is based on [UpSet](http://vcg.github.io/upset/about/). \n",
    "The core library is written in React but provides also bundle editions for plain JavaScript use and this Jupyter wrapper. \n",
    "\n",
    "In this tutorial the basic widget functionality is explained.\n",
    "\n",
    "Let's begin with importing the widget and some utilities"
   ]
  },
  {
   "cell_type": "code",
   "execution_count": 4,
   "metadata": {},
   "outputs": [],
   "source": [
    "from ipywidgets import interact\n",
    "from upsetjs_jupyter_widget import UpSetJSWidget\n",
    "import pandas as pd"
   ]
  },
  {
   "cell_type": "markdown",
   "metadata": {},
   "source": [
    "This wrapper is implemented in Python 3 with mypy typings and generics. The generic type `T` of the `UpSetJSWidget` is type of element that we wanna handle. In the following example we handle `str` elements."
   ]
  },
  {
   "cell_type": "code",
   "execution_count": 5,
   "metadata": {},
   "outputs": [],
   "source": [
    "w = UpSetJSWidget[str]()"
   ]
  },
  {
   "cell_type": "markdown",
   "metadata": {},
   "source": [
    "## Basic User Interface\n",
    "\n",
    "**Note**: The input data will be described in more detail in the next section"
   ]
  },
  {
   "cell_type": "code",
   "execution_count": 6,
   "metadata": {},
   "outputs": [
    {
     "data": {
      "application/vnd.jupyter.widget-view+json": {
       "model_id": "5736d3ead6e247b7bf2d2ecee81147c1",
       "version_major": 2,
       "version_minor": 0
      },
      "text/plain": [
       "UpSetJSWidget(value=None, combinations=[UpSetSetIntersection(name=one, sets={'one'}, elems={'m', 'l', 'g', 'c'…"
      ]
     },
     "execution_count": 6,
     "metadata": {},
     "output_type": "execute_result"
    }
   ],
   "source": [
    "dict_input = dict(one = ['a', 'b', 'c', 'e', 'g', 'h', 'k', 'l', 'm'], two = ['a', 'b', 'd', 'e', 'j'], three = ['a', 'e', 'f', 'g', 'h', 'i', 'j', 'l', 'm'])\n",
    "w.from_dict(dict_input)"
   ]
  },
  {
   "cell_type": "markdown",
   "metadata": {},
   "source": [
    "An UpSet plot consists of three areas:\n",
    "\n",
    "- The bottom left area shows the list of sets as a vertical bar chart. The length of the bar corresponds to the cardinality of the set, i.e., the number of elements in this set. \n",
    "- The top right area shows the list of set intersections as a horiztonal bar chart. Again the length corresponds to the cardinality of the set\n",
    "- The bottom right area shows which intersection consists of which sets. A dark dot indicates that the set is part of this set intersection. The line connecting the dots is just to visually group the dots.\n",
    "\n",
    "Moving the mouse over a bar or a dot will automatically highlight the corresponding set or set intersection in orange. In addition, the number elements which are shared with the highlighted sets are also highlighted. This gives a quick overview how sets and set intersections are related to each other. More details, in the [Interaction](#intersection) section.\n",
    "\n",
    "In the bottom right corner there are two buttons for exporting the chart in either PNG or SVG image format."
   ]
  },
  {
   "cell_type": "markdown",
   "metadata": {},
   "source": [
    "## Input Formats\n",
    "\n",
    "In the current version the UpSet.js wrapper supports two input data formats: `dictionary` and through a Pandas `dataframe`.\n",
    "\n",
    "### Dictionary Input\n",
    "\n",
    "The first format is a dictionary of type `Dict[str, List[T]]`, `T` refers again to the elements type, in this case it is a list of `str`. The key of the dictionary entry is the set name while the value is the list of elements this set has."
   ]
  },
  {
   "cell_type": "code",
   "execution_count": 7,
   "metadata": {},
   "outputs": [
    {
     "data": {
      "application/vnd.jupyter.widget-view+json": {
       "model_id": "5736d3ead6e247b7bf2d2ecee81147c1",
       "version_major": 2,
       "version_minor": 0
      },
      "text/plain": [
       "UpSetJSWidget(value=None, combinations=[UpSetSetIntersection(name=one, sets={'one'}, elems={'m', 'l', 'g', 'c'…"
      ]
     },
     "execution_count": 7,
     "metadata": {},
     "output_type": "execute_result"
    }
   ],
   "source": [
    "w.from_dict(dict(one = ['a', 'b', 'c', 'e', 'g', 'h', 'k', 'l', 'm'], two = ['a', 'b', 'd', 'e', 'j'], three = ['a', 'e', 'f', 'g', 'h', 'i', 'j', 'l', 'm']))"
   ]
  },
  {
   "cell_type": "markdown",
   "metadata": {},
   "source": [
    "### Data Frame Input\n",
    "\n",
    "The second format is a a binary/boolean data frame. The index column contains the list of elements. Each regular color represents a sets with boolean values (e.g., 0 and 1) whether the row represented by the index value is part of the set or not.\n",
    "\n",
    "The following data frame defines the same set structure as the dictionary format before."
   ]
  },
  {
   "cell_type": "code",
   "execution_count": 8,
   "metadata": {},
   "outputs": [
    {
     "data": {
      "application/vnd.jupyter.widget-view+json": {
       "model_id": "5736d3ead6e247b7bf2d2ecee81147c1",
       "version_major": 2,
       "version_minor": 0
      },
      "text/plain": [
       "UpSetJSWidget(value=None, combinations=[UpSetSetIntersection(name=one, sets={'one'}, elems={'m', 'l', 'g', 'c'…"
      ]
     },
     "execution_count": 8,
     "metadata": {},
     "output_type": "execute_result"
    }
   ],
   "source": [
    "df = pd.DataFrame(dict(\n",
    "    one=[1, 1, 1, 0, 1, 0, 1, 1, 0, 0, 1, 1, 1], \n",
    "    two=[1, 1, 0, 1, 1, 0, 0, 0, 0, 1, 0, 0, 0], \n",
    "    three=[1, 0, 0, 0, 1, 1, 1, 1, 1, 1, 0, 1, 1]\n",
    "), index=['a', 'b', 'c', 'd', 'e', 'f', 'g', 'h', 'i', 'j', 'k', 'l', 'm'])\n",
    "w.from_dataframe(df)"
   ]
  },
  {
   "cell_type": "markdown",
   "metadata": {},
   "source": [
    "## Basic Attrributes"
   ]
  },
  {
   "cell_type": "markdown",
   "metadata": {},
   "source": [
    "`.elems` returns the list of extracted elements"
   ]
  },
  {
   "cell_type": "code",
   "execution_count": 9,
   "metadata": {},
   "outputs": [
    {
     "data": {
      "text/plain": [
       "['a', 'b', 'c', 'd', 'e', 'f', 'g', 'h', 'i', 'j', 'k', 'l', 'm']"
      ]
     },
     "execution_count": 9,
     "metadata": {},
     "output_type": "execute_result"
    }
   ],
   "source": [
    "w.elems"
   ]
  },
  {
   "cell_type": "markdown",
   "metadata": {},
   "source": [
    "`.sets` returns the list of extracted sets as `UpSetSet` objects"
   ]
  },
  {
   "cell_type": "code",
   "execution_count": 10,
   "metadata": {},
   "outputs": [
    {
     "data": {
      "text/plain": [
       "[UpSetSet(name=one, elems={'m', 'l', 'g', 'c', 'e', 'a', 'h', 'k', 'b'}),\n",
       " UpSetSet(name=three, elems={'m', 'l', 'g', 'i', 'e', 'f', 'a', 'h', 'j'}),\n",
       " UpSetSet(name=two, elems={'e', 'a', 'j', 'd', 'b'})]"
      ]
     },
     "execution_count": 10,
     "metadata": {},
     "output_type": "execute_result"
    }
   ],
   "source": [
    "w.sets"
   ]
  },
  {
   "cell_type": "markdown",
   "metadata": {},
   "source": [
    "Similariy, `.combinations` returns the list of set intersections that are visualized as `UpSetIntersection` objects. \n",
    "\n",
    "**Note**: the attribute is called `.combinations` instead of `.intersections` since one customized the generation of the set combinations that are visualized. E.g., one can also generate set unions."
   ]
  },
  {
   "cell_type": "code",
   "execution_count": 11,
   "metadata": {},
   "outputs": [
    {
     "data": {
      "text/plain": [
       "[UpSetSetIntersection(name=one, sets={'one'}, elems={'m', 'l', 'g', 'c', 'e', 'a', 'h', 'k', 'b'}),\n",
       " UpSetSetIntersection(name=three, sets={'three'}, elems={'m', 'l', 'g', 'i', 'e', 'f', 'a', 'h', 'j'}),\n",
       " UpSetSetIntersection(name=(one ∩ three), sets={'three', 'one'}, elems={'m', 'e', 'l', 'a', 'g', 'h'}),\n",
       " UpSetSetIntersection(name=two, sets={'two'}, elems={'e', 'a', 'j', 'd', 'b'}),\n",
       " UpSetSetIntersection(name=(one ∩ two), sets={'two', 'one'}, elems={'a', 'e', 'b'}),\n",
       " UpSetSetIntersection(name=(three ∩ two), sets={'three', 'two'}, elems={'a', 'j', 'e'})]"
      ]
     },
     "execution_count": 11,
     "metadata": {},
     "output_type": "execute_result"
    }
   ],
   "source": [
    "w.combinations"
   ]
  },
  {
   "cell_type": "markdown",
   "metadata": {},
   "source": [
    "`.generate_intersections`, `.generate_distinct_intersections`, and `.generate_unions` let you customize the generation of the set combinations\n",
    "\n",
    " - `min_degree` ... minimum number of sets in a set combination\n",
    " - `max_degree` ... maximum number of sets in a set combination, `None` means no limit\n",
    " - `empty` ... include empty set combinations with no elements. By default they are not included\n",
    " - `order_by` ... sort set combinations either by `cardinality` (number of elements) or by `degree` (number of sets\n",
    " - `limit` ... show only the first `limit` set combinations"
   ]
  },
  {
   "cell_type": "code",
   "execution_count": 12,
   "metadata": {},
   "outputs": [
    {
     "data": {
      "application/vnd.jupyter.widget-view+json": {
       "model_id": "5abe7219daf64333a858f76dd70b10d8",
       "version_major": 2,
       "version_minor": 0
      },
      "text/plain": [
       "UpSetJSWidget(value=None, combinations=[UpSetSetDistinctIntersection(name=(one ∩ three), sets={'three', 'one'}…"
      ]
     },
     "execution_count": 12,
     "metadata": {},
     "output_type": "execute_result"
    }
   ],
   "source": [
    "w.copy().generate_distinct_intersections()"
   ]
  },
  {
   "cell_type": "code",
   "execution_count": 13,
   "metadata": {},
   "outputs": [
    {
     "data": {
      "application/vnd.jupyter.widget-view+json": {
       "model_id": "a8817bd7edc44a6f97b3af13af7a09df",
       "version_major": 2,
       "version_minor": 0
      },
      "text/plain": [
       "UpSetJSWidget(value=None, combinations=[UpSetSetIntersection(name=(one ∩ three), sets={'three', 'one'}, elems=…"
      ]
     },
     "execution_count": 13,
     "metadata": {},
     "output_type": "execute_result"
    }
   ],
   "source": [
    "w.copy().generate_intersections(min_degree=2, max_degree=None, empty=True, order_by=\"cardinality\", limit=None)"
   ]
  },
  {
   "cell_type": "code",
   "execution_count": 14,
   "metadata": {},
   "outputs": [
    {
     "data": {
      "application/vnd.jupyter.widget-view+json": {
       "model_id": "d38a6bf151e44d41b8902952a53ce8a5",
       "version_major": 2,
       "version_minor": 0
      },
      "text/plain": [
       "UpSetJSWidget(value=None, combinations=[UpSetSetUnion(name=(), sets=set(), elems={'m', 'l', 'c', 'g', 'k', 'i'…"
      ]
     },
     "execution_count": 14,
     "metadata": {},
     "output_type": "execute_result"
    }
   ],
   "source": [
    "w.copy().generate_unions(min_degree=0, max_degree=2, empty=True, order_by=\"degree\", limit=None)"
   ]
  },
  {
   "cell_type": "markdown",
   "metadata": {},
   "source": [
    "## Interaction\n",
    "\n",
    "UpSet.js allows three intersection modes settable via `.mode`\n",
    "\n",
    "- `'hover'` (default) when the user hovers over a set or set intersection it will be highlighted. This is the default mode\n",
    "- `'click'` when the user clicks on a set or a set intersection, the selection will be updated\n",
    "- `'contextMenu'` when the user right clicks on a set or a set intersection, the selection will be updated\n",
    "- `'static'` disables interactivity"
   ]
  },
  {
   "cell_type": "code",
   "execution_count": 15,
   "metadata": {},
   "outputs": [
    {
     "data": {
      "application/vnd.jupyter.widget-view+json": {
       "model_id": "5736d3ead6e247b7bf2d2ecee81147c1",
       "version_major": 2,
       "version_minor": 0
      },
      "text/plain": [
       "UpSetJSWidget(value=None, combinations=[UpSetSetIntersection(name=one, sets={'one'}, elems={'m', 'l', 'g', 'c'…"
      ]
     },
     "execution_count": 15,
     "metadata": {},
     "output_type": "execute_result"
    }
   ],
   "source": [
    "w.mode = 'click'\n",
    "w"
   ]
  },
  {
   "cell_type": "markdown",
   "metadata": {},
   "source": [
    "with `.selection` one manually sets the selection that is currently highlighted. Manually setting the selection is only useful in `click` and `static` modes."
   ]
  },
  {
   "cell_type": "code",
   "execution_count": 16,
   "metadata": {},
   "outputs": [
    {
     "data": {
      "application/vnd.jupyter.widget-view+json": {
       "model_id": "5736d3ead6e247b7bf2d2ecee81147c1",
       "version_major": 2,
       "version_minor": 0
      },
      "text/plain": [
       "UpSetJSWidget(value={'type': 'set', 'name': 'one'}, combinations=[UpSetSetIntersection(name=one, sets={'one'},…"
      ]
     },
     "execution_count": 16,
     "metadata": {},
     "output_type": "execute_result"
    }
   ],
   "source": [
    "w.selection = w.sets[0]\n",
    "w"
   ]
  },
  {
   "cell_type": "markdown",
   "metadata": {},
   "source": [
    "The current selection is synced with the server. It is designed to work with the `interact` of the `ipywidgets` package. In the following example the current selected set will be automatically written below the chart and updated interactivly."
   ]
  },
  {
   "cell_type": "code",
   "execution_count": 17,
   "metadata": {},
   "outputs": [
    {
     "data": {
      "application/vnd.jupyter.widget-view+json": {
       "model_id": "d58ff4b7bb3446689625947b1bfdfec9",
       "version_major": 2,
       "version_minor": 0
      },
      "text/plain": [
       "interactive(children=(UpSetJSWidget(value={'type': 'set', 'name': 'one'}, combinations=[UpSetSetIntersection(n…"
      ]
     },
     "metadata": {},
     "output_type": "display_data"
    },
    {
     "data": {
      "text/plain": [
       "<function __main__.selection_changed(s)>"
      ]
     },
     "execution_count": 17,
     "metadata": {},
     "output_type": "execute_result"
    }
   ],
   "source": [
    "w.mode = 'hover'\n",
    "def selection_changed(s):\n",
    "    return s # s[\"name\"] if s else None\n",
    "interact(selection_changed, s=w)"
   ]
  },
  {
   "cell_type": "markdown",
   "metadata": {},
   "source": [
    "## Queries\n",
    "\n",
    "besides the selection UpSet.js supports defining queries. A query can be a list of elements or a set that should be highlighted. A query consists of a name, a color, and either the list of elements or the set (combination) to highlight."
   ]
  },
  {
   "cell_type": "code",
   "execution_count": 18,
   "metadata": {},
   "outputs": [
    {
     "data": {
      "application/vnd.jupyter.widget-view+json": {
       "model_id": "b05e764ab0e14fcea58db0564d021711",
       "version_major": 2,
       "version_minor": 0
      },
      "text/plain": [
       "UpSetJSWidget(value=None, combinations=[UpSetSetIntersection(name=one, sets={'one'}, elems={'m', 'l', 'g', 'c'…"
      ]
     },
     "execution_count": 18,
     "metadata": {},
     "output_type": "execute_result"
    }
   ],
   "source": [
    "wq = w.copy()\n",
    "wq.mode = 'static'\n",
    "wq.selection = None\n",
    "wq.append_query('Q1', color='red', elems=['a', 'b', 'c'])\n",
    "wq.append_query('Q1', color='blue', upset=wq.sets[1])\n",
    "wq"
   ]
  },
  {
   "cell_type": "markdown",
   "metadata": {},
   "source": [
    "## Attributes\n",
    "\n",
    "UpSet.js supports rendering boxplots as aggregations for numerical attributes of elements. The are given as part of the data frame. The attributes element can either have a list of column names or a data frame with the same index"
   ]
  },
  {
   "cell_type": "code",
   "execution_count": 19,
   "metadata": {},
   "outputs": [
    {
     "data": {
      "application/vnd.jupyter.widget-view+json": {
       "model_id": "460862d2c50444adb17227c84904feb3",
       "version_major": 2,
       "version_minor": 0
      },
      "text/plain": [
       "UpSetJSWidget(value=None, attrs=[<upsetjs_jupyter_widget._model.UpSetAttribute object at 0x000001BA8398D128>],…"
      ]
     },
     "execution_count": 19,
     "metadata": {},
     "output_type": "execute_result"
    }
   ],
   "source": [
    "df_a = pd.DataFrame(dict(\n",
    "    one=[1, 1, 1, 0, 1, 0, 1, 1, 0, 0, 1, 1, 1], \n",
    "    two=[1, 1, 0, 1, 1, 0, 0, 0, 0, 1, 0, 0, 0], \n",
    "    three=[1, 0, 0, 0, 1, 1, 1, 1, 1, 1, 0, 1, 1],\n",
    "    attr=[1, 2, 3, 4, 5, 6, 7, 8, 9, 10, 11, 12, 13]\n",
    "), index=['a', 'b', 'c', 'd', 'e', 'f', 'g', 'h', 'i', 'j', 'k', 'l', 'm'])\n",
    "wa = w.copy()\n",
    "wa.from_dataframe(df_a, attributes=['attr'])\n",
    "wa"
   ]
  },
  {
   "cell_type": "markdown",
   "metadata": {},
   "source": [
    "## Styling\n",
    "\n",
    "### Theme\n",
    "\n",
    "UpSet.js supports three themes: `light`, `dark`, and `vega`. The theme can be set by the `.theme` property"
   ]
  },
  {
   "cell_type": "code",
   "execution_count": 20,
   "metadata": {},
   "outputs": [
    {
     "data": {
      "application/vnd.jupyter.widget-view+json": {
       "model_id": "cbcf11ef66c24dd8a9cc755eddefb3b4",
       "version_major": 2,
       "version_minor": 0
      },
      "text/plain": [
       "UpSetJSWidget(value=None, combinations=[UpSetSetIntersection(name=one, sets={'one'}, elems={'m', 'l', 'g', 'c'…"
      ]
     },
     "execution_count": 20,
     "metadata": {},
     "output_type": "execute_result"
    }
   ],
   "source": [
    "w_dark = w.copy()\n",
    "w_dark.theme = 'dark'\n",
    "w_dark"
   ]
  },
  {
   "cell_type": "markdown",
   "metadata": {},
   "source": [
    "### Labels"
   ]
  },
  {
   "cell_type": "code",
   "execution_count": 21,
   "metadata": {},
   "outputs": [
    {
     "data": {
      "application/vnd.jupyter.widget-view+json": {
       "model_id": "72eb513ca31e40d78eaf09a397bc90b7",
       "version_major": 2,
       "version_minor": 0
      },
      "text/plain": [
       "UpSetJSWidget(value=None, combination_name='Combination Label', combinations=[UpSetSetIntersection(name=one, s…"
      ]
     },
     "execution_count": 21,
     "metadata": {},
     "output_type": "execute_result"
    }
   ],
   "source": [
    "w_label = w.copy()\n",
    "w_label.title = 'Chart Title'\n",
    "w_label.description = 'a long chart description'\n",
    "w_label.set_name = 'Set Label'\n",
    "w_label.combination_name = 'Combination Label'\n",
    "w_label"
   ]
  },
  {
   "cell_type": "markdown",
   "metadata": {},
   "source": [
    "### Log Scale\n",
    "\n",
    "setting `.numerical_scale = 'log'` switches to a log scale, similarly `'linear'` goes back to a linear scale"
   ]
  },
  {
   "cell_type": "code",
   "execution_count": 22,
   "metadata": {},
   "outputs": [
    {
     "data": {
      "application/vnd.jupyter.widget-view+json": {
       "model_id": "14dc69bde3b141d0bfa34c7f7614561a",
       "version_major": 2,
       "version_minor": 0
      },
      "text/plain": [
       "UpSetJSWidget(value=None, combinations=[UpSetSetIntersection(name=one, sets={'one'}, elems={'m', 'l', 'g', 'c'…"
      ]
     },
     "execution_count": 22,
     "metadata": {},
     "output_type": "execute_result"
    }
   ],
   "source": [
    "w_log = w.copy()\n",
    "w_log.numeric_scale = 'log'\n",
    "w_log"
   ]
  },
  {
   "cell_type": "markdown",
   "metadata": {},
   "source": [
    "### Size\n",
    "\n",
    "the `.width` and `.height` properties can be used to specify the width and height of the chart respectively. In general, the `.layout` of the Jupyter Widgets can be used to customize it."
   ]
  },
  {
   "cell_type": "code",
   "execution_count": 23,
   "metadata": {},
   "outputs": [
    {
     "data": {
      "application/vnd.jupyter.widget-view+json": {
       "model_id": "5736d3ead6e247b7bf2d2ecee81147c1",
       "version_major": 2,
       "version_minor": 0
      },
      "text/plain": [
       "UpSetJSWidget(value=None, combinations=[UpSetSetIntersection(name=one, sets={'one'}, elems={'m', 'l', 'g', 'c'…"
      ]
     },
     "execution_count": 23,
     "metadata": {},
     "output_type": "execute_result"
    }
   ],
   "source": [
    "w.height = 600\n",
    "w"
   ]
  },
  {
   "cell_type": "code",
   "execution_count": null,
   "metadata": {},
   "outputs": [],
   "source": []
  }
 ],
 "metadata": {
  "kernelspec": {
   "display_name": "Python 3.7.1 64-bit ('upsetjs_jupyter_widget': pipenv)",
   "language": "python",
   "name": "python37164bitupsetjsjupyterwidgetpipenvfee1645c874046dc9f0c363432ab7182"
  },
  "language_info": {
   "codemirror_mode": {
    "name": "ipython",
    "version": 3
   },
   "file_extension": ".py",
   "mimetype": "text/x-python",
   "name": "python",
   "nbconvert_exporter": "python",
   "pygments_lexer": "ipython3",
   "version": "3.7.1"
  },
  "widgets": {
   "application/vnd.jupyter.widget-state+json": {
    "state": {
     "14dc69bde3b141d0bfa34c7f7614561a": {
      "model_module": "@upsetjs/jupyter_widget",
      "model_module_version": "^1.1.0",
      "model_name": "UpSetModel",
      "state": {
       "_model_module_version": "^1.1.0",
       "_render_mode": "upset",
       "_view_module_version": "^1.1.0",
       "alternating_background_color": null,
       "attrs": [],
       "band_scale": "band",
       "bar_label_offset": null,
       "bar_padding": null,
       "color": null,
       "combination_name": null,
       "combination_name_axis_offset": null,
       "combinations": [
        {
         "cardinality": 9,
         "degree": 1,
         "elems": [
          12,
          11,
          6,
          2,
          4,
          0,
          7,
          10,
          1
         ],
         "name": "one",
         "set_names": [
          "one"
         ],
         "type": "intersection"
        },
        {
         "cardinality": 9,
         "degree": 1,
         "elems": [
          12,
          11,
          6,
          8,
          4,
          5,
          0,
          7,
          9
         ],
         "name": "three",
         "set_names": [
          "three"
         ],
         "type": "intersection"
        },
        {
         "cardinality": 6,
         "degree": 2,
         "elems": [
          12,
          11,
          6,
          4,
          0,
          7
         ],
         "name": "(one ∩ three)",
         "set_names": [
          "three",
          "one"
         ],
         "type": "intersection"
        },
        {
         "cardinality": 5,
         "degree": 1,
         "elems": [
          4,
          0,
          9,
          3,
          1
         ],
         "name": "two",
         "set_names": [
          "two"
         ],
         "type": "intersection"
        },
        {
         "cardinality": 3,
         "degree": 2,
         "elems": [
          0,
          4,
          1
         ],
         "name": "(one ∩ two)",
         "set_names": [
          "two",
          "one"
         ],
         "type": "intersection"
        },
        {
         "cardinality": 3,
         "degree": 2,
         "elems": [
          0,
          9,
          4
         ],
         "name": "(three ∩ two)",
         "set_names": [
          "three",
          "two"
         ],
         "type": "intersection"
        }
       ],
       "description": "s",
       "dot_padding": null,
       "elems": [
        "a",
        "b",
        "c",
        "d",
        "e",
        "f",
        "g",
        "h",
        "i",
        "j",
        "k",
        "l",
        "m"
       ],
       "export_buttons": null,
       "font_family": null,
       "font_sizes": {},
       "has_selection_color": null,
       "has_selection_opacity": null,
       "height_ratios": [
        0.6,
        0.4
       ],
       "hover_hint_color": null,
       "layout": "IPY_MODEL_90066ced71f342c3b26f90572af79ac7",
       "mode": "hover",
       "not_member_color": null,
       "numeric_scale": "log",
       "opacity": null,
       "padding": null,
       "queries": [],
       "query_legend": null,
       "selection_color": null,
       "set_name": null,
       "set_name_axis_offset": null,
       "sets": [
        {
         "cardinality": 9,
         "elems": [
          12,
          11,
          6,
          2,
          4,
          0,
          7,
          10,
          1
         ],
         "name": "one",
         "type": "set"
        },
        {
         "cardinality": 9,
         "elems": [
          12,
          11,
          6,
          8,
          4,
          5,
          0,
          7,
          9
         ],
         "name": "three",
         "type": "set"
        },
        {
         "cardinality": 5,
         "elems": [
          4,
          0,
          9,
          3,
          1
         ],
         "name": "two",
         "type": "set"
        }
       ],
       "text_color": null,
       "theme": "light",
       "title": null,
       "value": null,
       "width_ratios": [
        0.25,
        0.1,
        0.65
       ]
      }
     },
     "17764a85e9414b5889b38a051c891c6a": {
      "model_module": "@jupyter-widgets/base",
      "model_module_version": "2.0.0",
      "model_name": "LayoutModel",
      "state": {}
     },
     "20b48137dbed4b63938c976241c2f4fe": {
      "model_module": "@jupyter-widgets/base",
      "model_module_version": "2.0.0",
      "model_name": "LayoutModel",
      "state": {
       "align_self": "stretch",
       "height": "400px"
      }
     },
     "2cdae26b73b64bf5b805e598a1a31f9a": {
      "model_module": "@jupyter-widgets/base",
      "model_module_version": "2.0.0",
      "model_name": "LayoutModel",
      "state": {
       "align_self": "stretch",
       "height": "400px"
      }
     },
     "460862d2c50444adb17227c84904feb3": {
      "model_module": "@upsetjs/jupyter_widget",
      "model_module_version": "^1.1.0",
      "model_name": "UpSetModel",
      "state": {
       "_model_module_version": "^1.1.0",
       "_render_mode": "upset",
       "_view_module_version": "^1.1.0",
       "alternating_background_color": null,
       "attrs": [
        {
         "domain": [
          1,
          13
         ],
         "elems": null,
         "name": "attr",
         "type": "number",
         "values": [
          1,
          2,
          3,
          4,
          5,
          6,
          7,
          8,
          9,
          10,
          11,
          12,
          13
         ]
        }
       ],
       "band_scale": "band",
       "bar_label_offset": null,
       "bar_padding": null,
       "color": null,
       "combination_name": null,
       "combination_name_axis_offset": null,
       "combinations": [
        {
         "cardinality": 9,
         "degree": 1,
         "elems": [
          12,
          11,
          6,
          2,
          4,
          0,
          7,
          10,
          1
         ],
         "name": "one",
         "set_names": [
          "one"
         ],
         "type": "intersection"
        },
        {
         "cardinality": 9,
         "degree": 1,
         "elems": [
          12,
          11,
          6,
          8,
          4,
          5,
          0,
          7,
          9
         ],
         "name": "three",
         "set_names": [
          "three"
         ],
         "type": "intersection"
        },
        {
         "cardinality": 6,
         "degree": 2,
         "elems": [
          12,
          11,
          6,
          4,
          0,
          7
         ],
         "name": "(one ∩ three)",
         "set_names": [
          "three",
          "one"
         ],
         "type": "intersection"
        },
        {
         "cardinality": 5,
         "degree": 1,
         "elems": [
          4,
          0,
          9,
          3,
          1
         ],
         "name": "two",
         "set_names": [
          "two"
         ],
         "type": "intersection"
        },
        {
         "cardinality": 3,
         "degree": 2,
         "elems": [
          0,
          4,
          1
         ],
         "name": "(one ∩ two)",
         "set_names": [
          "one",
          "two"
         ],
         "type": "intersection"
        },
        {
         "cardinality": 3,
         "degree": 2,
         "elems": [
          0,
          9,
          4
         ],
         "name": "(three ∩ two)",
         "set_names": [
          "three",
          "two"
         ],
         "type": "intersection"
        }
       ],
       "description": "s",
       "dot_padding": null,
       "elems": [
        "a",
        "b",
        "c",
        "d",
        "e",
        "f",
        "g",
        "h",
        "i",
        "j",
        "k",
        "l",
        "m"
       ],
       "export_buttons": null,
       "font_family": null,
       "font_sizes": {},
       "has_selection_color": null,
       "has_selection_opacity": null,
       "height_ratios": [
        0.6,
        0.4
       ],
       "hover_hint_color": null,
       "layout": "IPY_MODEL_a0d15f246f634e71bd21515fa22daaa1",
       "mode": "hover",
       "not_member_color": null,
       "numeric_scale": "linear",
       "opacity": null,
       "padding": null,
       "queries": [],
       "query_legend": null,
       "selection_color": null,
       "set_name": null,
       "set_name_axis_offset": null,
       "sets": [
        {
         "cardinality": 9,
         "elems": [
          12,
          11,
          6,
          2,
          4,
          0,
          7,
          10,
          1
         ],
         "name": "one",
         "type": "set"
        },
        {
         "cardinality": 9,
         "elems": [
          12,
          11,
          6,
          8,
          4,
          5,
          0,
          7,
          9
         ],
         "name": "three",
         "type": "set"
        },
        {
         "cardinality": 5,
         "elems": [
          4,
          0,
          9,
          3,
          1
         ],
         "name": "two",
         "type": "set"
        }
       ],
       "text_color": null,
       "theme": "light",
       "title": null,
       "value": null,
       "width_ratios": [
        0.25,
        0.1,
        0.65
       ]
      }
     },
     "5736d3ead6e247b7bf2d2ecee81147c1": {
      "model_module": "@upsetjs/jupyter_widget",
      "model_module_version": "^1.1.0",
      "model_name": "UpSetModel",
      "state": {
       "_model_module_version": "^1.1.0",
       "_render_mode": "upset",
       "_view_module_version": "^1.1.0",
       "alternating_background_color": null,
       "attrs": [],
       "band_scale": "band",
       "bar_label_offset": null,
       "bar_padding": null,
       "color": null,
       "combination_name": null,
       "combination_name_axis_offset": null,
       "combinations": [
        {
         "cardinality": 9,
         "degree": 1,
         "elems": [
          12,
          11,
          6,
          2,
          4,
          0,
          7,
          10,
          1
         ],
         "name": "one",
         "set_names": [
          "one"
         ],
         "type": "intersection"
        },
        {
         "cardinality": 9,
         "degree": 1,
         "elems": [
          12,
          11,
          6,
          8,
          4,
          5,
          0,
          7,
          9
         ],
         "name": "three",
         "set_names": [
          "three"
         ],
         "type": "intersection"
        },
        {
         "cardinality": 6,
         "degree": 2,
         "elems": [
          12,
          11,
          6,
          4,
          0,
          7
         ],
         "name": "(one ∩ three)",
         "set_names": [
          "three",
          "one"
         ],
         "type": "intersection"
        },
        {
         "cardinality": 5,
         "degree": 1,
         "elems": [
          4,
          0,
          9,
          3,
          1
         ],
         "name": "two",
         "set_names": [
          "two"
         ],
         "type": "intersection"
        },
        {
         "cardinality": 3,
         "degree": 2,
         "elems": [
          0,
          4,
          1
         ],
         "name": "(one ∩ two)",
         "set_names": [
          "two",
          "one"
         ],
         "type": "intersection"
        },
        {
         "cardinality": 3,
         "degree": 2,
         "elems": [
          0,
          9,
          4
         ],
         "name": "(three ∩ two)",
         "set_names": [
          "three",
          "two"
         ],
         "type": "intersection"
        }
       ],
       "description": "s",
       "dot_padding": null,
       "elems": [
        "a",
        "b",
        "c",
        "d",
        "e",
        "f",
        "g",
        "h",
        "i",
        "j",
        "k",
        "l",
        "m"
       ],
       "export_buttons": null,
       "font_family": null,
       "font_sizes": {},
       "has_selection_color": null,
       "has_selection_opacity": null,
       "height_ratios": [
        0.6,
        0.4
       ],
       "hover_hint_color": null,
       "layout": "IPY_MODEL_9d796a8c76014a6089480bdc7c37cf9d",
       "mode": "hover",
       "not_member_color": null,
       "numeric_scale": "linear",
       "opacity": null,
       "padding": null,
       "queries": [],
       "query_legend": null,
       "selection_color": null,
       "set_name": null,
       "set_name_axis_offset": null,
       "sets": [
        {
         "cardinality": 9,
         "elems": [
          12,
          11,
          6,
          2,
          4,
          0,
          7,
          10,
          1
         ],
         "name": "one",
         "type": "set"
        },
        {
         "cardinality": 9,
         "elems": [
          12,
          11,
          6,
          8,
          4,
          5,
          0,
          7,
          9
         ],
         "name": "three",
         "type": "set"
        },
        {
         "cardinality": 5,
         "elems": [
          4,
          0,
          9,
          3,
          1
         ],
         "name": "two",
         "type": "set"
        }
       ],
       "text_color": null,
       "theme": "light",
       "title": null,
       "value": {
        "cardinality": 5,
        "elems": [
         4,
         0,
         9,
         3,
         1
        ],
        "name": "two",
        "type": "set"
       },
       "width_ratios": [
        0.25,
        0.1,
        0.65
       ]
      }
     },
     "5abe7219daf64333a858f76dd70b10d8": {
      "model_module": "@upsetjs/jupyter_widget",
      "model_module_version": "^1.1.0",
      "model_name": "UpSetModel",
      "state": {
       "_model_module_version": "^1.1.0",
       "_render_mode": "upset",
       "_view_module_version": "^1.1.0",
       "alternating_background_color": null,
       "attrs": [],
       "band_scale": "band",
       "bar_label_offset": null,
       "bar_padding": null,
       "color": null,
       "combination_name": null,
       "combination_name_axis_offset": null,
       "combinations": [
        {
         "cardinality": 4,
         "degree": 2,
         "elems": [
          6,
          7,
          12,
          11
         ],
         "name": "(one ∩ three)",
         "set_names": [
          "three",
          "one"
         ],
         "type": "distinctIntersection"
        },
        {
         "cardinality": 2,
         "degree": 1,
         "elems": [
          2,
          10
         ],
         "name": "one",
         "set_names": [
          "one"
         ],
         "type": "distinctIntersection"
        },
        {
         "cardinality": 2,
         "degree": 1,
         "elems": [
          8,
          5
         ],
         "name": "three",
         "set_names": [
          "three"
         ],
         "type": "distinctIntersection"
        },
        {
         "cardinality": 1,
         "degree": 1,
         "elems": [
          3
         ],
         "name": "two",
         "set_names": [
          "two"
         ],
         "type": "distinctIntersection"
        },
        {
         "cardinality": 1,
         "degree": 2,
         "elems": [
          1
         ],
         "name": "(one ∩ two)",
         "set_names": [
          "two",
          "one"
         ],
         "type": "distinctIntersection"
        },
        {
         "cardinality": 1,
         "degree": 2,
         "elems": [
          9
         ],
         "name": "(three ∩ two)",
         "set_names": [
          "three",
          "two"
         ],
         "type": "distinctIntersection"
        }
       ],
       "description": null,
       "dot_padding": null,
       "elems": [
        "a",
        "b",
        "c",
        "d",
        "e",
        "f",
        "g",
        "h",
        "i",
        "j",
        "k",
        "l",
        "m"
       ],
       "export_buttons": null,
       "font_family": null,
       "font_sizes": {},
       "has_selection_color": null,
       "has_selection_opacity": null,
       "height_ratios": [
        0.6,
        0.4
       ],
       "hover_hint_color": null,
       "layout": "IPY_MODEL_20b48137dbed4b63938c976241c2f4fe",
       "mode": "hover",
       "not_member_color": null,
       "numeric_scale": "linear",
       "opacity": null,
       "padding": null,
       "queries": [],
       "query_legend": null,
       "selection_color": null,
       "set_name": null,
       "set_name_axis_offset": null,
       "sets": [
        {
         "cardinality": 9,
         "elems": [
          12,
          11,
          6,
          2,
          4,
          0,
          7,
          10,
          1
         ],
         "name": "one",
         "type": "set"
        },
        {
         "cardinality": 9,
         "elems": [
          12,
          11,
          6,
          8,
          4,
          5,
          0,
          7,
          9
         ],
         "name": "three",
         "type": "set"
        },
        {
         "cardinality": 5,
         "elems": [
          4,
          0,
          9,
          3,
          1
         ],
         "name": "two",
         "type": "set"
        }
       ],
       "text_color": null,
       "theme": "light",
       "title": null,
       "value": null,
       "width_ratios": [
        0.25,
        0.1,
        0.65
       ]
      }
     },
     "5eaa9e9ef8174eecb3c9c370bd87a1a8": {
      "model_module": "@jupyter-widgets/base",
      "model_module_version": "2.0.0",
      "model_name": "LayoutModel",
      "state": {
       "align_self": "stretch",
       "height": "400px"
      }
     },
     "61c8c970ee8342e2b80c39bb4bb8047e": {
      "model_module": "@jupyter-widgets/base",
      "model_module_version": "2.0.0",
      "model_name": "LayoutModel",
      "state": {
       "align_self": "stretch",
       "height": "400px"
      }
     },
     "700ab1442c384e2889113bcb728b4fee": {
      "model_module": "@jupyter-widgets/base",
      "model_module_version": "2.0.0",
      "model_name": "LayoutModel",
      "state": {
       "align_self": "stretch",
       "height": "400px"
      }
     },
     "72eb513ca31e40d78eaf09a397bc90b7": {
      "model_module": "@upsetjs/jupyter_widget",
      "model_module_version": "^1.1.0",
      "model_name": "UpSetModel",
      "state": {
       "_model_module_version": "^1.1.0",
       "_render_mode": "upset",
       "_view_module_version": "^1.1.0",
       "alternating_background_color": null,
       "attrs": [],
       "band_scale": "band",
       "bar_label_offset": null,
       "bar_padding": null,
       "color": null,
       "combination_name": "Combination Label",
       "combination_name_axis_offset": null,
       "combinations": [
        {
         "cardinality": 9,
         "degree": 1,
         "elems": [
          12,
          11,
          6,
          2,
          4,
          0,
          7,
          10,
          1
         ],
         "name": "one",
         "set_names": [
          "one"
         ],
         "type": "intersection"
        },
        {
         "cardinality": 9,
         "degree": 1,
         "elems": [
          12,
          11,
          6,
          8,
          4,
          5,
          0,
          7,
          9
         ],
         "name": "three",
         "set_names": [
          "three"
         ],
         "type": "intersection"
        },
        {
         "cardinality": 6,
         "degree": 2,
         "elems": [
          12,
          11,
          6,
          4,
          0,
          7
         ],
         "name": "(one ∩ three)",
         "set_names": [
          "three",
          "one"
         ],
         "type": "intersection"
        },
        {
         "cardinality": 5,
         "degree": 1,
         "elems": [
          4,
          0,
          9,
          3,
          1
         ],
         "name": "two",
         "set_names": [
          "two"
         ],
         "type": "intersection"
        },
        {
         "cardinality": 3,
         "degree": 2,
         "elems": [
          0,
          4,
          1
         ],
         "name": "(one ∩ two)",
         "set_names": [
          "two",
          "one"
         ],
         "type": "intersection"
        },
        {
         "cardinality": 3,
         "degree": 2,
         "elems": [
          0,
          9,
          4
         ],
         "name": "(three ∩ two)",
         "set_names": [
          "three",
          "two"
         ],
         "type": "intersection"
        }
       ],
       "description": "a long chart description",
       "dot_padding": null,
       "elems": [
        "a",
        "b",
        "c",
        "d",
        "e",
        "f",
        "g",
        "h",
        "i",
        "j",
        "k",
        "l",
        "m"
       ],
       "export_buttons": null,
       "font_family": null,
       "font_sizes": {},
       "has_selection_color": null,
       "has_selection_opacity": null,
       "height_ratios": [
        0.6,
        0.4
       ],
       "hover_hint_color": null,
       "layout": "IPY_MODEL_700ab1442c384e2889113bcb728b4fee",
       "mode": "hover",
       "not_member_color": null,
       "numeric_scale": "linear",
       "opacity": null,
       "padding": null,
       "queries": [],
       "query_legend": null,
       "selection_color": null,
       "set_name": "Set Label",
       "set_name_axis_offset": null,
       "sets": [
        {
         "cardinality": 9,
         "elems": [
          12,
          11,
          6,
          2,
          4,
          0,
          7,
          10,
          1
         ],
         "name": "one",
         "type": "set"
        },
        {
         "cardinality": 9,
         "elems": [
          12,
          11,
          6,
          8,
          4,
          5,
          0,
          7,
          9
         ],
         "name": "three",
         "type": "set"
        },
        {
         "cardinality": 5,
         "elems": [
          4,
          0,
          9,
          3,
          1
         ],
         "name": "two",
         "type": "set"
        }
       ],
       "text_color": null,
       "theme": "light",
       "title": "Chart Title",
       "value": null,
       "width_ratios": [
        0.25,
        0.1,
        0.65
       ]
      }
     },
     "90066ced71f342c3b26f90572af79ac7": {
      "model_module": "@jupyter-widgets/base",
      "model_module_version": "2.0.0",
      "model_name": "LayoutModel",
      "state": {
       "align_self": "stretch",
       "height": "400px"
      }
     },
     "91546c817f634221bc3b708c3af75b31": {
      "model_module": "@jupyter-widgets/base",
      "model_module_version": "2.0.0",
      "model_name": "LayoutModel",
      "state": {}
     },
     "9d796a8c76014a6089480bdc7c37cf9d": {
      "model_module": "@jupyter-widgets/base",
      "model_module_version": "2.0.0",
      "model_name": "LayoutModel",
      "state": {
       "align_self": "stretch",
       "height": "600px"
      }
     },
     "a0d15f246f634e71bd21515fa22daaa1": {
      "model_module": "@jupyter-widgets/base",
      "model_module_version": "2.0.0",
      "model_name": "LayoutModel",
      "state": {
       "align_self": "stretch",
       "height": "400px"
      }
     },
     "a8817bd7edc44a6f97b3af13af7a09df": {
      "model_module": "@upsetjs/jupyter_widget",
      "model_module_version": "^1.1.0",
      "model_name": "UpSetModel",
      "state": {
       "_model_module_version": "^1.1.0",
       "_render_mode": "upset",
       "_view_module_version": "^1.1.0",
       "alternating_background_color": null,
       "attrs": [],
       "band_scale": "band",
       "bar_label_offset": null,
       "bar_padding": null,
       "color": null,
       "combination_name": null,
       "combination_name_axis_offset": null,
       "combinations": [
        {
         "cardinality": 6,
         "degree": 2,
         "elems": [
          12,
          11,
          6,
          4,
          0,
          7
         ],
         "name": "(one ∩ three)",
         "set_names": [
          "three",
          "one"
         ],
         "type": "intersection"
        },
        {
         "cardinality": 3,
         "degree": 2,
         "elems": [
          0,
          4,
          1
         ],
         "name": "(one ∩ two)",
         "set_names": [
          "two",
          "one"
         ],
         "type": "intersection"
        },
        {
         "cardinality": 3,
         "degree": 2,
         "elems": [
          0,
          9,
          4
         ],
         "name": "(three ∩ two)",
         "set_names": [
          "three",
          "two"
         ],
         "type": "intersection"
        }
       ],
       "description": null,
       "dot_padding": null,
       "elems": [
        "a",
        "b",
        "c",
        "d",
        "e",
        "f",
        "g",
        "h",
        "i",
        "j",
        "k",
        "l",
        "m"
       ],
       "export_buttons": null,
       "font_family": null,
       "font_sizes": {},
       "has_selection_color": null,
       "has_selection_opacity": null,
       "height_ratios": [
        0.6,
        0.4
       ],
       "hover_hint_color": null,
       "layout": "IPY_MODEL_e72e6ed782ed4af185fd77e01cc5a58c",
       "mode": "hover",
       "not_member_color": null,
       "numeric_scale": "linear",
       "opacity": null,
       "padding": null,
       "queries": [],
       "query_legend": null,
       "selection_color": null,
       "set_name": null,
       "set_name_axis_offset": null,
       "sets": [
        {
         "cardinality": 9,
         "elems": [
          12,
          11,
          6,
          2,
          4,
          0,
          7,
          10,
          1
         ],
         "name": "one",
         "type": "set"
        },
        {
         "cardinality": 9,
         "elems": [
          12,
          11,
          6,
          8,
          4,
          5,
          0,
          7,
          9
         ],
         "name": "three",
         "type": "set"
        },
        {
         "cardinality": 5,
         "elems": [
          4,
          0,
          9,
          3,
          1
         ],
         "name": "two",
         "type": "set"
        }
       ],
       "text_color": null,
       "theme": "light",
       "title": null,
       "value": null,
       "width_ratios": [
        0.25,
        0.1,
        0.65
       ]
      }
     },
     "abd6c3f549404982a88e8e0b3dcc6faa": {
      "model_module": "@jupyter-widgets/output",
      "model_module_version": "1.0.0",
      "model_name": "OutputModel",
      "state": {
       "layout": "IPY_MODEL_91546c817f634221bc3b708c3af75b31",
       "outputs": [
        {
         "data": {
          "text/plain": "UpSetSet(name=two, elems={'e', 'a', 'j', 'd', 'b'})"
         },
         "metadata": {},
         "output_type": "display_data"
        }
       ]
      }
     },
     "b05e764ab0e14fcea58db0564d021711": {
      "model_module": "@upsetjs/jupyter_widget",
      "model_module_version": "^1.1.0",
      "model_name": "UpSetModel",
      "state": {
       "_model_module_version": "^1.1.0",
       "_render_mode": "upset",
       "_view_module_version": "^1.1.0",
       "alternating_background_color": null,
       "attrs": [],
       "band_scale": "band",
       "bar_label_offset": null,
       "bar_padding": null,
       "color": null,
       "combination_name": null,
       "combination_name_axis_offset": null,
       "combinations": [
        {
         "cardinality": 9,
         "degree": 1,
         "elems": [
          12,
          11,
          6,
          2,
          4,
          0,
          7,
          10,
          1
         ],
         "name": "one",
         "set_names": [
          "one"
         ],
         "type": "intersection"
        },
        {
         "cardinality": 9,
         "degree": 1,
         "elems": [
          12,
          11,
          6,
          8,
          4,
          5,
          0,
          7,
          9
         ],
         "name": "three",
         "set_names": [
          "three"
         ],
         "type": "intersection"
        },
        {
         "cardinality": 6,
         "degree": 2,
         "elems": [
          12,
          11,
          6,
          4,
          0,
          7
         ],
         "name": "(one ∩ three)",
         "set_names": [
          "three",
          "one"
         ],
         "type": "intersection"
        },
        {
         "cardinality": 5,
         "degree": 1,
         "elems": [
          4,
          0,
          9,
          3,
          1
         ],
         "name": "two",
         "set_names": [
          "two"
         ],
         "type": "intersection"
        },
        {
         "cardinality": 3,
         "degree": 2,
         "elems": [
          0,
          4,
          1
         ],
         "name": "(one ∩ two)",
         "set_names": [
          "two",
          "one"
         ],
         "type": "intersection"
        },
        {
         "cardinality": 3,
         "degree": 2,
         "elems": [
          0,
          9,
          4
         ],
         "name": "(three ∩ two)",
         "set_names": [
          "three",
          "two"
         ],
         "type": "intersection"
        }
       ],
       "description": "s",
       "dot_padding": null,
       "elems": [
        "a",
        "b",
        "c",
        "d",
        "e",
        "f",
        "g",
        "h",
        "i",
        "j",
        "k",
        "l",
        "m"
       ],
       "export_buttons": null,
       "font_family": null,
       "font_sizes": {},
       "has_selection_color": null,
       "has_selection_opacity": null,
       "height_ratios": [
        0.6,
        0.4
       ],
       "hover_hint_color": null,
       "layout": "IPY_MODEL_2cdae26b73b64bf5b805e598a1a31f9a",
       "mode": "static",
       "not_member_color": null,
       "numeric_scale": "linear",
       "opacity": null,
       "padding": null,
       "queries": [
        {
         "color": "red",
         "elems": [
          0,
          1,
          2
         ],
         "name": "Q1"
        },
        {
         "color": "blue",
         "name": "Q1",
         "set": {
          "name": "three",
          "type": "set"
         }
        }
       ],
       "query_legend": null,
       "selection_color": null,
       "set_name": null,
       "set_name_axis_offset": null,
       "sets": [
        {
         "cardinality": 9,
         "elems": [
          12,
          11,
          6,
          2,
          4,
          0,
          7,
          10,
          1
         ],
         "name": "one",
         "type": "set"
        },
        {
         "cardinality": 9,
         "elems": [
          12,
          11,
          6,
          8,
          4,
          5,
          0,
          7,
          9
         ],
         "name": "three",
         "type": "set"
        },
        {
         "cardinality": 5,
         "elems": [
          4,
          0,
          9,
          3,
          1
         ],
         "name": "two",
         "type": "set"
        }
       ],
       "text_color": null,
       "theme": "light",
       "title": null,
       "value": null,
       "width_ratios": [
        0.25,
        0.1,
        0.65
       ]
      }
     },
     "bb868aa8ebfc49c4a8d0cff4d674ff89": {
      "model_module": "@upsetjs/jupyter_widget",
      "model_module_version": "^1.1.0",
      "model_name": "UpSetModel",
      "state": {
       "_model_module_version": "^1.1.0",
       "_render_mode": "upset",
       "_view_module_version": "^1.1.0",
       "alternating_background_color": null,
       "attrs": [],
       "band_scale": "band",
       "bar_label_offset": null,
       "bar_padding": null,
       "color": null,
       "combination_name": null,
       "combination_name_axis_offset": null,
       "combinations": [
        {
         "cardinality": 9,
         "degree": 1,
         "elems": [
          12,
          11,
          6,
          2,
          4,
          0,
          7,
          10,
          1
         ],
         "name": "one",
         "set_names": [
          "one"
         ],
         "type": "intersection"
        },
        {
         "cardinality": 9,
         "degree": 1,
         "elems": [
          12,
          11,
          6,
          8,
          4,
          5,
          0,
          7,
          9
         ],
         "name": "three",
         "set_names": [
          "three"
         ],
         "type": "intersection"
        },
        {
         "cardinality": 6,
         "degree": 2,
         "elems": [
          12,
          11,
          6,
          4,
          0,
          7
         ],
         "name": "(one ∩ three)",
         "set_names": [
          "three",
          "one"
         ],
         "type": "intersection"
        },
        {
         "cardinality": 5,
         "degree": 1,
         "elems": [
          4,
          0,
          9,
          3,
          1
         ],
         "name": "two",
         "set_names": [
          "two"
         ],
         "type": "intersection"
        },
        {
         "cardinality": 3,
         "degree": 2,
         "elems": [
          0,
          4,
          1
         ],
         "name": "(one ∩ two)",
         "set_names": [
          "one",
          "two"
         ],
         "type": "intersection"
        },
        {
         "cardinality": 3,
         "degree": 2,
         "elems": [
          0,
          9,
          4
         ],
         "name": "(three ∩ two)",
         "set_names": [
          "three",
          "two"
         ],
         "type": "intersection"
        }
       ],
       "description": null,
       "dot_padding": null,
       "elems": [
        "a",
        "b",
        "c",
        "d",
        "e",
        "f",
        "g",
        "h",
        "i",
        "j",
        "k",
        "l",
        "m"
       ],
       "export_buttons": null,
       "font_family": null,
       "font_sizes": {},
       "has_selection_color": null,
       "has_selection_opacity": null,
       "height_ratios": [
        0.6,
        0.4
       ],
       "hover_hint_color": null,
       "layout": "IPY_MODEL_ffbf38726fdc4575bda9326337ce6e84",
       "mode": "hover",
       "not_member_color": null,
       "numeric_scale": "linear",
       "opacity": null,
       "padding": null,
       "queries": [],
       "query_legend": null,
       "selection_color": null,
       "set_name": null,
       "set_name_axis_offset": null,
       "sets": [
        {
         "cardinality": 9,
         "elems": [
          12,
          11,
          6,
          2,
          4,
          0,
          7,
          10,
          1
         ],
         "name": "one",
         "type": "set"
        },
        {
         "cardinality": 9,
         "elems": [
          12,
          11,
          6,
          8,
          4,
          5,
          0,
          7,
          9
         ],
         "name": "three",
         "type": "set"
        },
        {
         "cardinality": 5,
         "elems": [
          4,
          0,
          9,
          3,
          1
         ],
         "name": "two",
         "type": "set"
        }
       ],
       "text_color": null,
       "theme": "light",
       "title": null,
       "value": null,
       "width_ratios": [
        0.25,
        0.1,
        0.65
       ]
      }
     },
     "cbcf11ef66c24dd8a9cc755eddefb3b4": {
      "model_module": "@upsetjs/jupyter_widget",
      "model_module_version": "^1.1.0",
      "model_name": "UpSetModel",
      "state": {
       "_model_module_version": "^1.1.0",
       "_render_mode": "upset",
       "_view_module_version": "^1.1.0",
       "alternating_background_color": null,
       "attrs": [],
       "band_scale": "band",
       "bar_label_offset": null,
       "bar_padding": null,
       "color": null,
       "combination_name": null,
       "combination_name_axis_offset": null,
       "combinations": [
        {
         "cardinality": 9,
         "degree": 1,
         "elems": [
          12,
          11,
          6,
          2,
          4,
          0,
          7,
          10,
          1
         ],
         "name": "one",
         "set_names": [
          "one"
         ],
         "type": "intersection"
        },
        {
         "cardinality": 9,
         "degree": 1,
         "elems": [
          12,
          11,
          6,
          8,
          4,
          5,
          0,
          7,
          9
         ],
         "name": "three",
         "set_names": [
          "three"
         ],
         "type": "intersection"
        },
        {
         "cardinality": 6,
         "degree": 2,
         "elems": [
          12,
          11,
          6,
          4,
          0,
          7
         ],
         "name": "(one ∩ three)",
         "set_names": [
          "three",
          "one"
         ],
         "type": "intersection"
        },
        {
         "cardinality": 5,
         "degree": 1,
         "elems": [
          4,
          0,
          9,
          3,
          1
         ],
         "name": "two",
         "set_names": [
          "two"
         ],
         "type": "intersection"
        },
        {
         "cardinality": 3,
         "degree": 2,
         "elems": [
          0,
          4,
          1
         ],
         "name": "(one ∩ two)",
         "set_names": [
          "two",
          "one"
         ],
         "type": "intersection"
        },
        {
         "cardinality": 3,
         "degree": 2,
         "elems": [
          0,
          9,
          4
         ],
         "name": "(three ∩ two)",
         "set_names": [
          "three",
          "two"
         ],
         "type": "intersection"
        }
       ],
       "description": "s",
       "dot_padding": null,
       "elems": [
        "a",
        "b",
        "c",
        "d",
        "e",
        "f",
        "g",
        "h",
        "i",
        "j",
        "k",
        "l",
        "m"
       ],
       "export_buttons": null,
       "font_family": null,
       "font_sizes": {},
       "has_selection_color": null,
       "has_selection_opacity": null,
       "height_ratios": [
        0.6,
        0.4
       ],
       "hover_hint_color": null,
       "layout": "IPY_MODEL_5eaa9e9ef8174eecb3c9c370bd87a1a8",
       "mode": "hover",
       "not_member_color": null,
       "numeric_scale": "linear",
       "opacity": null,
       "padding": null,
       "queries": [],
       "query_legend": null,
       "selection_color": null,
       "set_name": null,
       "set_name_axis_offset": null,
       "sets": [
        {
         "cardinality": 9,
         "elems": [
          12,
          11,
          6,
          2,
          4,
          0,
          7,
          10,
          1
         ],
         "name": "one",
         "type": "set"
        },
        {
         "cardinality": 9,
         "elems": [
          12,
          11,
          6,
          8,
          4,
          5,
          0,
          7,
          9
         ],
         "name": "three",
         "type": "set"
        },
        {
         "cardinality": 5,
         "elems": [
          4,
          0,
          9,
          3,
          1
         ],
         "name": "two",
         "type": "set"
        }
       ],
       "text_color": null,
       "theme": "dark",
       "title": null,
       "value": null,
       "width_ratios": [
        0.25,
        0.1,
        0.65
       ]
      }
     },
     "d38a6bf151e44d41b8902952a53ce8a5": {
      "model_module": "@upsetjs/jupyter_widget",
      "model_module_version": "^1.1.0",
      "model_name": "UpSetModel",
      "state": {
       "_model_module_version": "^1.1.0",
       "_render_mode": "upset",
       "_view_module_version": "^1.1.0",
       "alternating_background_color": null,
       "attrs": [],
       "band_scale": "band",
       "bar_label_offset": null,
       "bar_padding": null,
       "color": null,
       "combination_name": null,
       "combination_name_axis_offset": null,
       "combinations": [
        {
         "cardinality": 13,
         "degree": 0,
         "elems": [
          12,
          11,
          2,
          6,
          10,
          8,
          4,
          5,
          0,
          7,
          9,
          3,
          1
         ],
         "name": "()",
         "set_names": [],
         "type": "union"
        },
        {
         "cardinality": 9,
         "degree": 1,
         "elems": [
          12,
          11,
          6,
          2,
          4,
          0,
          7,
          10,
          1
         ],
         "name": "one",
         "set_names": [
          "one"
         ],
         "type": "union"
        },
        {
         "cardinality": 9,
         "degree": 1,
         "elems": [
          12,
          11,
          6,
          8,
          4,
          5,
          0,
          7,
          9
         ],
         "name": "three",
         "set_names": [
          "three"
         ],
         "type": "union"
        },
        {
         "cardinality": 5,
         "degree": 1,
         "elems": [
          4,
          0,
          9,
          3,
          1
         ],
         "name": "two",
         "set_names": [
          "two"
         ],
         "type": "union"
        },
        {
         "cardinality": 12,
         "degree": 2,
         "elems": [
          12,
          11,
          6,
          2,
          8,
          4,
          5,
          0,
          7,
          9,
          10,
          1
         ],
         "name": "(one ∪ three)",
         "set_names": [
          "three",
          "one"
         ],
         "type": "union"
        },
        {
         "cardinality": 11,
         "degree": 2,
         "elems": [
          12,
          11,
          6,
          2,
          4,
          3,
          0,
          7,
          9,
          10,
          1
         ],
         "name": "(one ∪ two)",
         "set_names": [
          "two",
          "one"
         ],
         "type": "union"
        },
        {
         "cardinality": 11,
         "degree": 2,
         "elems": [
          12,
          11,
          6,
          8,
          4,
          5,
          0,
          7,
          9,
          3,
          1
         ],
         "name": "(three ∪ two)",
         "set_names": [
          "three",
          "two"
         ],
         "type": "union"
        }
       ],
       "description": null,
       "dot_padding": null,
       "elems": [
        "a",
        "b",
        "c",
        "d",
        "e",
        "f",
        "g",
        "h",
        "i",
        "j",
        "k",
        "l",
        "m"
       ],
       "export_buttons": null,
       "font_family": null,
       "font_sizes": {},
       "has_selection_color": null,
       "has_selection_opacity": null,
       "height_ratios": [
        0.6,
        0.4
       ],
       "hover_hint_color": null,
       "layout": "IPY_MODEL_61c8c970ee8342e2b80c39bb4bb8047e",
       "mode": "hover",
       "not_member_color": null,
       "numeric_scale": "linear",
       "opacity": null,
       "padding": null,
       "queries": [],
       "query_legend": null,
       "selection_color": null,
       "set_name": null,
       "set_name_axis_offset": null,
       "sets": [
        {
         "cardinality": 9,
         "elems": [
          12,
          11,
          6,
          2,
          4,
          0,
          7,
          10,
          1
         ],
         "name": "one",
         "type": "set"
        },
        {
         "cardinality": 9,
         "elems": [
          12,
          11,
          6,
          8,
          4,
          5,
          0,
          7,
          9
         ],
         "name": "three",
         "type": "set"
        },
        {
         "cardinality": 5,
         "elems": [
          4,
          0,
          9,
          3,
          1
         ],
         "name": "two",
         "type": "set"
        }
       ],
       "text_color": null,
       "theme": "light",
       "title": null,
       "value": null,
       "width_ratios": [
        0.25,
        0.1,
        0.65
       ]
      }
     },
     "d58ff4b7bb3446689625947b1bfdfec9": {
      "model_module": "@jupyter-widgets/controls",
      "model_module_version": "2.0.0",
      "model_name": "VBoxModel",
      "state": {
       "_dom_classes": [
        "widget-interact"
       ],
       "children": [
        "IPY_MODEL_5736d3ead6e247b7bf2d2ecee81147c1",
        "IPY_MODEL_abd6c3f549404982a88e8e0b3dcc6faa"
       ],
       "layout": "IPY_MODEL_17764a85e9414b5889b38a051c891c6a"
      }
     },
     "e72e6ed782ed4af185fd77e01cc5a58c": {
      "model_module": "@jupyter-widgets/base",
      "model_module_version": "2.0.0",
      "model_name": "LayoutModel",
      "state": {
       "align_self": "stretch",
       "height": "400px"
      }
     },
     "ffbf38726fdc4575bda9326337ce6e84": {
      "model_module": "@jupyter-widgets/base",
      "model_module_version": "2.0.0",
      "model_name": "LayoutModel",
      "state": {
       "align_self": "stretch",
       "height": "400px"
      }
     }
    },
    "version_major": 2,
    "version_minor": 0
   }
  }
 },
 "nbformat": 4,
 "nbformat_minor": 4
}
