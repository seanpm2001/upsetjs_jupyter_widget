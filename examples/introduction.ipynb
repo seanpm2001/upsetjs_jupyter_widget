{
 "cells": [
  {
   "cell_type": "markdown",
   "metadata": {},
   "source": [
    "# UpSet.js Jupyter Widget\n",
    "\n",
    "[UpSet.js](https://upset.js.org) is a JavaScript re-implementation of [UpSetR](https://www.rdocumentation.org/packages/UpSetR/) which itself is based on [UpSet](http://vcg.github.io/upset/about/). \n",
    "The core library is written in React but provides also bundle editions for plain JavaScript use and this Jupyter wrapper. \n",
    "\n",
    "In this tutorial the basic widget functionality is explained.\n",
    "\n",
    "Let's begin with importing the widget and some utilities"
   ]
  },
  {
   "cell_type": "code",
   "execution_count": 39,
   "metadata": {},
   "outputs": [],
   "source": [
    "from ipywidgets import interact\n",
    "from upsetjs_jupyter_widget import UpSetWidget\n",
    "import pandas as pd"
   ]
  },
  {
   "cell_type": "markdown",
   "metadata": {},
   "source": [
    "This wrapper is implemented in Python 3 with mypy typings and generics. The generic type `T` of the `UpSetWidget` is type of element that we wanna handle. In the following example we handle `str` elements."
   ]
  },
  {
   "cell_type": "code",
   "execution_count": 40,
   "metadata": {},
   "outputs": [],
   "source": [
    "w = UpSetWidget[str]()"
   ]
  },
  {
   "cell_type": "markdown",
   "metadata": {},
   "source": [
    "## Basic User Interface\n",
    "\n",
    "**Note**: The input data will be described in more detail in the next section"
   ]
  },
  {
   "cell_type": "code",
   "execution_count": 41,
   "metadata": {},
   "outputs": [
    {
     "data": {
      "application/vnd.jupyter.widget-view+json": {
       "model_id": "14df8a2cf3d844299efb917116512fde",
       "version_major": 2,
       "version_minor": 0
      },
      "text/plain": [
       "UpSetWidget(value=None, elems=['a', 'b', 'c', 'd', 'e', 'f', 'g', 'h', 'i', 'j', 'k', 'l', 'm'], height_ratios…"
      ]
     },
     "execution_count": 41,
     "metadata": {},
     "output_type": "execute_result"
    }
   ],
   "source": [
    "dict_input = dict(one = ['a', 'b', 'c', 'e', 'g', 'h', 'k', 'l', 'm'], two = ['a', 'b', 'd', 'e', 'j'], three = ['a', 'e', 'f', 'g', 'h', 'i', 'j', 'l', 'm'])\n",
    "w.from_dict(dict_input)"
   ]
  },
  {
   "cell_type": "markdown",
   "metadata": {},
   "source": [
    "UpSet consists of three areas:\n",
    "\n",
    "- The bottom left area shows the list of sets as a vertical bar chart. The length of the bar corresponds to the cardinality of the set, i.e., the number of elements in this set. \n",
    "- The top right area shows the list of set intersections as a horiztonal bar chart. Again the length corresponds to the cardinality of the set\n",
    "- The bottom right area shows which intersection consists of which sets. A dark dot indicates that the set is part of this set intersection. The line connecting the dots is just to visually group the dots.\n",
    "\n",
    "Moving the mouse over a bar or a dot will automatically highlight the corresponding set or set intersection in orange. In addition, the number elements which are shared with the highlighted sets are also highlighted. This gives a quick overview how sets and set intersections are related to each other. More details, in the [Interaction](#intersection) section.\n",
    "\n",
    "In the bottom right corner there are two buttons for exporting the chart in either PNG or SVG image format."
   ]
  },
  {
   "cell_type": "markdown",
   "metadata": {},
   "source": [
    "## Input Formats\n",
    "\n",
    "In the current version the UpSet wrapper supports two input data formats: `dictionary` and through a Pandas `dataframe`.\n",
    "\n",
    "### Dictionary Input\n",
    "\n",
    "The first format is a dictionary of type `Dict[str, List[T]]`, `T` refers again to the elements type, in this case it is a list of `str`. The key of the dictionary entry is the set name while the value is the list of elements this set has."
   ]
  },
  {
   "cell_type": "code",
   "execution_count": 42,
   "metadata": {},
   "outputs": [
    {
     "data": {
      "application/vnd.jupyter.widget-view+json": {
       "model_id": "14df8a2cf3d844299efb917116512fde",
       "version_major": 2,
       "version_minor": 0
      },
      "text/plain": [
       "UpSetWidget(value=None, elems=['a', 'b', 'c', 'd', 'e', 'f', 'g', 'h', 'i', 'j', 'k', 'l', 'm'], height_ratios…"
      ]
     },
     "execution_count": 42,
     "metadata": {},
     "output_type": "execute_result"
    }
   ],
   "source": [
    "w.from_dict(dict(one = ['a', 'b', 'c', 'e', 'g', 'h', 'k', 'l', 'm'], two = ['a', 'b', 'd', 'e', 'j'], three = ['a', 'e', 'f', 'g', 'h', 'i', 'j', 'l', 'm']))"
   ]
  },
  {
   "cell_type": "markdown",
   "metadata": {},
   "source": [
    "### Data Frame Input\n",
    "\n",
    "The second format is a a binary/boolean data frame. The index column contains the list of elements. Each regular color represents a sets with boolean values (e.g., 0 and 1) whether the row represented by the index value is part of the set or not.\n",
    "\n",
    "The following data frame defines the same set structure as the dictionary format before."
   ]
  },
  {
   "cell_type": "code",
   "execution_count": 43,
   "metadata": {},
   "outputs": [
    {
     "data": {
      "application/vnd.jupyter.widget-view+json": {
       "model_id": "14df8a2cf3d844299efb917116512fde",
       "version_major": 2,
       "version_minor": 0
      },
      "text/plain": [
       "UpSetWidget(value=None, elems=['a', 'b', 'c', 'd', 'e', 'f', 'g', 'h', 'i', 'j', 'k', 'l', 'm'], height_ratios…"
      ]
     },
     "execution_count": 43,
     "metadata": {},
     "output_type": "execute_result"
    }
   ],
   "source": [
    "df = pd.DataFrame(dict(\n",
    "    one=[1, 1, 1, 0, 1, 0, 1, 1, 0, 0, 1, 1, 1], \n",
    "    two=[1, 1, 0, 1, 1, 0, 0, 0, 0, 1, 0, 0, 0], \n",
    "    three=[1, 0, 0, 0, 1, 1, 1, 1, 1, 1, 0, 1, 1]\n",
    "), index=['a', 'b', 'c', 'd', 'e', 'f', 'g', 'h', 'i', 'j', 'k', 'l', 'm'])\n",
    "w.from_dataframe(df)"
   ]
  },
  {
   "cell_type": "markdown",
   "metadata": {},
   "source": [
    "## Basic Attrributes"
   ]
  },
  {
   "cell_type": "markdown",
   "metadata": {},
   "source": [
    "`.elems` returns the list of extracted elements"
   ]
  },
  {
   "cell_type": "code",
   "execution_count": 44,
   "metadata": {},
   "outputs": [
    {
     "data": {
      "text/plain": [
       "['a', 'b', 'c', 'd', 'e', 'f', 'g', 'h', 'i', 'j', 'k', 'l', 'm']"
      ]
     },
     "execution_count": 44,
     "metadata": {},
     "output_type": "execute_result"
    }
   ],
   "source": [
    "w.elems"
   ]
  },
  {
   "cell_type": "markdown",
   "metadata": {},
   "source": [
    "`.sets` returns the list of extracted sets as `UpSetSet` objects"
   ]
  },
  {
   "cell_type": "code",
   "execution_count": 45,
   "metadata": {},
   "outputs": [
    {
     "data": {
      "text/plain": [
       "[UpSetSet(name=one, elems={'b', 'g', 'a', 'm', 'e', 'h', 'l', 'c', 'k'}),\n",
       " UpSetSet(name=three, elems={'f', 'g', 'a', 'i', 'j', 'm', 'e', 'h', 'l'}),\n",
       " UpSetSet(name=two, elems={'b', 'e', 'd', 'j', 'a'})]"
      ]
     },
     "execution_count": 45,
     "metadata": {},
     "output_type": "execute_result"
    }
   ],
   "source": [
    "w.sets"
   ]
  },
  {
   "cell_type": "markdown",
   "metadata": {},
   "source": [
    "Similariy, `.combinations` returns the list of set intersections that are visualized as `UpSetIntersection` objects. \n",
    "\n",
    "**Note**: the attribute is called `.combinations` instead of `.intersections` since one customized the generation of the set combinations that are visualized. E.g., one can also generate set unions."
   ]
  },
  {
   "cell_type": "code",
   "execution_count": 46,
   "metadata": {},
   "outputs": [
    {
     "data": {
      "text/plain": [
       "[UpSetSetIntersection(name=one, sets={'one'}, elems={'b', 'g', 'a', 'm', 'e', 'h', 'l', 'c', 'k'}),\n",
       " UpSetSetIntersection(name=three, sets={'three'}, elems={'f', 'g', 'a', 'i', 'j', 'm', 'e', 'h', 'l'}),\n",
       " UpSetSetIntersection(name=(one ∩ three), sets={'three', 'one'}, elems={'e', 'h', 'l', 'g', 'a', 'm'}),\n",
       " UpSetSetIntersection(name=two, sets={'two'}, elems={'b', 'e', 'd', 'j', 'a'}),\n",
       " UpSetSetIntersection(name=(one ∩ two), sets={'one', 'two'}, elems={'b', 'e', 'a'}),\n",
       " UpSetSetIntersection(name=(three ∩ two), sets={'three', 'two'}, elems={'e', 'j', 'a'})]"
      ]
     },
     "execution_count": 46,
     "metadata": {},
     "output_type": "execute_result"
    }
   ],
   "source": [
    "w.combinations"
   ]
  },
  {
   "cell_type": "markdown",
   "metadata": {},
   "source": [
    "`.generate_intersections` and `.generate_unions` let you customize the generation of the set combinations\n",
    "\n",
    " - `min_degree` ... minimum number of sets in a set combination\n",
    " - `max_degree` ... maximum number of sets in a set combination, `None` means no limit\n",
    " - `empty` ... include empty set combinations with no elements. By default they are not included\n",
    " - `order_by` ... sort set combinations either by `cardinality` (number of elements) or by `degree` (number of sets\n",
    " - `limit` ... show only the first `limit` set combinations"
   ]
  },
  {
   "cell_type": "code",
   "execution_count": 47,
   "metadata": {},
   "outputs": [
    {
     "data": {
      "application/vnd.jupyter.widget-view+json": {
       "model_id": "bce7b2e4c4d54a1fa89b446a81bd98d5",
       "version_major": 2,
       "version_minor": 0
      },
      "text/plain": [
       "UpSetWidget(value=None, elems=['a', 'b', 'c', 'd', 'e', 'f', 'g', 'h', 'i', 'j', 'k', 'l', 'm'], height_ratios…"
      ]
     },
     "execution_count": 47,
     "metadata": {},
     "output_type": "execute_result"
    }
   ],
   "source": [
    "w.copy().generate_intersections(min_degree=2, max_degree=None, empty=True, order_by=\"cardinality\", limit=None)"
   ]
  },
  {
   "cell_type": "code",
   "execution_count": 48,
   "metadata": {},
   "outputs": [
    {
     "data": {
      "application/vnd.jupyter.widget-view+json": {
       "model_id": "46a0b7fc4e484f1ca7015da8ae264d0d",
       "version_major": 2,
       "version_minor": 0
      },
      "text/plain": [
       "UpSetWidget(value=None, elems=['a', 'b', 'c', 'd', 'e', 'f', 'g', 'h', 'i', 'j', 'k', 'l', 'm'], height_ratios…"
      ]
     },
     "execution_count": 48,
     "metadata": {},
     "output_type": "execute_result"
    }
   ],
   "source": [
    "w.copy().generate_unions(min_degree=0, max_degree=2, empty=True, order_by=\"degree\", limit=None)"
   ]
  },
  {
   "cell_type": "markdown",
   "metadata": {},
   "source": [
    "## Interaction\n",
    "\n",
    "UpSet allows three intersection modes settable via `.mode`\n",
    "\n",
    "- `'hover'` (default) when the user hovers over a set or set intersection it will be highlighted. This is the default mode\n",
    "- `'click'` when the user clicks on a set or a set intersection, the selection will be updated\n",
    "- `'static'` disables interactivity"
   ]
  },
  {
   "cell_type": "code",
   "execution_count": 49,
   "metadata": {},
   "outputs": [
    {
     "data": {
      "application/vnd.jupyter.widget-view+json": {
       "model_id": "14df8a2cf3d844299efb917116512fde",
       "version_major": 2,
       "version_minor": 0
      },
      "text/plain": [
       "UpSetWidget(value=None, elems=['a', 'b', 'c', 'd', 'e', 'f', 'g', 'h', 'i', 'j', 'k', 'l', 'm'], height_ratios…"
      ]
     },
     "execution_count": 49,
     "metadata": {},
     "output_type": "execute_result"
    }
   ],
   "source": [
    "w.mode = 'click'\n",
    "w"
   ]
  },
  {
   "cell_type": "markdown",
   "metadata": {},
   "source": [
    "with `.selection` one manually sets the selection that is currently highlighted. Manually setting the selection is only useful in `click` and `static` modes."
   ]
  },
  {
   "cell_type": "code",
   "execution_count": 50,
   "metadata": {},
   "outputs": [
    {
     "data": {
      "application/vnd.jupyter.widget-view+json": {
       "model_id": "14df8a2cf3d844299efb917116512fde",
       "version_major": 2,
       "version_minor": 0
      },
      "text/plain": [
       "UpSetWidget(value={'type': 'set', 'name': 'one'}, elems=['a', 'b', 'c', 'd', 'e', 'f', 'g', 'h', 'i', 'j', 'k'…"
      ]
     },
     "execution_count": 50,
     "metadata": {},
     "output_type": "execute_result"
    }
   ],
   "source": [
    "w.selection = w.sets[0]\n",
    "w"
   ]
  },
  {
   "cell_type": "markdown",
   "metadata": {},
   "source": [
    "The current selection is synced with the server. It is designed to work with the `interact` of the `ipywidgets` package. In the following example the current selected set will be automatically written below the chart and updated interactivly."
   ]
  },
  {
   "cell_type": "code",
   "execution_count": 51,
   "metadata": {},
   "outputs": [
    {
     "data": {
      "application/vnd.jupyter.widget-view+json": {
       "model_id": "260d73948d044e04aa174ffcba0b9073",
       "version_major": 2,
       "version_minor": 0
      },
      "text/plain": [
       "interactive(children=(UpSetWidget(value={'type': 'set', 'name': 'one'}, elems=['a', 'b', 'c', 'd', 'e', 'f', '…"
      ]
     },
     "metadata": {},
     "output_type": "display_data"
    },
    {
     "data": {
      "text/plain": [
       "<function __main__.selection_changed(s)>"
      ]
     },
     "execution_count": 51,
     "metadata": {},
     "output_type": "execute_result"
    }
   ],
   "source": [
    "w.mode = 'hover'\n",
    "def selection_changed(s):\n",
    "    return s # s[\"name\"] if s else None\n",
    "interact(selection_changed, s=w)"
   ]
  },
  {
   "cell_type": "markdown",
   "metadata": {},
   "source": [
    "## Queries\n",
    "\n",
    "besides the selection UpSet supports defining queries. A query can be a list of elements or a set that should be highlighted. A query consists of a name, a color, and either the list of elements or the upset set (combination) to highlight."
   ]
  },
  {
   "cell_type": "code",
   "execution_count": 52,
   "metadata": {},
   "outputs": [
    {
     "data": {
      "application/vnd.jupyter.widget-view+json": {
       "model_id": "281fa78dfffd4acda9c77710e5dc1874",
       "version_major": 2,
       "version_minor": 0
      },
      "text/plain": [
       "UpSetWidget(value=None, elems=['a', 'b', 'c', 'd', 'e', 'f', 'g', 'h', 'i', 'j', 'k', 'l', 'm'], height_ratios…"
      ]
     },
     "execution_count": 52,
     "metadata": {},
     "output_type": "execute_result"
    }
   ],
   "source": [
    "wq = w.copy()\n",
    "wq.mode = 'static'\n",
    "wq.selection = None\n",
    "wq.append_query('Q1', color='red', elems=['a', 'b', 'c'])\n",
    "wq.append_query('Q1', color='blue', upset=wq.sets[1])\n",
    "wq"
   ]
  },
  {
   "cell_type": "markdown",
   "metadata": {},
   "source": [
    "## Styling\n",
    "\n",
    "### Theme\n",
    "\n",
    "UpSet.js supports two themes: `light` and `dark`. The theme can be set by the `.theme` property"
   ]
  },
  {
   "cell_type": "code",
   "execution_count": 53,
   "metadata": {},
   "outputs": [
    {
     "data": {
      "application/vnd.jupyter.widget-view+json": {
       "model_id": "d1cdcfb9adad4ff49443823415ce9c9a",
       "version_major": 2,
       "version_minor": 0
      },
      "text/plain": [
       "UpSetWidget(value=None, elems=['a', 'b', 'c', 'd', 'e', 'f', 'g', 'h', 'i', 'j', 'k', 'l', 'm'], height_ratios…"
      ]
     },
     "execution_count": 53,
     "metadata": {},
     "output_type": "execute_result"
    }
   ],
   "source": [
    "w_dark = w.copy()\n",
    "w_dark.theme = 'dark'\n",
    "w_dark"
   ]
  },
  {
   "cell_type": "markdown",
   "metadata": {},
   "source": [
    "### Labels"
   ]
  },
  {
   "cell_type": "code",
   "execution_count": 54,
   "metadata": {},
   "outputs": [
    {
     "data": {
      "application/vnd.jupyter.widget-view+json": {
       "model_id": "5d64e9c4cd34453b99fa9edd59280ee9",
       "version_major": 2,
       "version_minor": 0
      },
      "text/plain": [
       "UpSetWidget(value=None, combination_name='Combination Label', elems=['a', 'b', 'c', 'd', 'e', 'f', 'g', 'h', '…"
      ]
     },
     "execution_count": 54,
     "metadata": {},
     "output_type": "execute_result"
    }
   ],
   "source": [
    "w_label = w.copy()\n",
    "w_label.set_name = 'Set Label'\n",
    "w_label.combination_name = 'Combination Label'\n",
    "w_label"
   ]
  },
  {
   "cell_type": "markdown",
   "metadata": {},
   "source": [
    "### Log Scale\n",
    "\n",
    "setting `.numerical_scale = 'log'` switches to a log scale, similarly `'linear'` goes back to a linear scale"
   ]
  },
  {
   "cell_type": "code",
   "execution_count": 55,
   "metadata": {},
   "outputs": [
    {
     "data": {
      "application/vnd.jupyter.widget-view+json": {
       "model_id": "57c32cbe747b4bb3a3b6f2e0408bf7e6",
       "version_major": 2,
       "version_minor": 0
      },
      "text/plain": [
       "UpSetWidget(value=None, elems=['a', 'b', 'c', 'd', 'e', 'f', 'g', 'h', 'i', 'j', 'k', 'l', 'm'], height_ratios…"
      ]
     },
     "execution_count": 55,
     "metadata": {},
     "output_type": "execute_result"
    }
   ],
   "source": [
    "w_log = w.copy()\n",
    "w_log.numeric_scale = 'log'\n",
    "w_log"
   ]
  },
  {
   "cell_type": "markdown",
   "metadata": {},
   "source": [
    "### Size\n",
    "\n",
    "the `.width` and `.height` properties can be used to specify the width and height of the chart respectively. In general, the `.layout` of the Jupyter Widgets can be used to customize it."
   ]
  },
  {
   "cell_type": "code",
   "execution_count": 56,
   "metadata": {},
   "outputs": [
    {
     "data": {
      "application/vnd.jupyter.widget-view+json": {
       "model_id": "14df8a2cf3d844299efb917116512fde",
       "version_major": 2,
       "version_minor": 0
      },
      "text/plain": [
       "UpSetWidget(value=None, elems=['a', 'b', 'c', 'd', 'e', 'f', 'g', 'h', 'i', 'j', 'k', 'l', 'm'], height_ratios…"
      ]
     },
     "execution_count": 56,
     "metadata": {},
     "output_type": "execute_result"
    }
   ],
   "source": [
    "w.height = 600\n",
    "w"
   ]
  },
  {
   "cell_type": "code",
   "execution_count": null,
   "metadata": {},
   "outputs": [],
   "source": []
  }
 ],
 "metadata": {
  "kernelspec": {
   "display_name": "Python 3.7.1 64-bit ('upsetjs_jupyter_widget': pipenv)",
   "language": "python",
   "name": "python37164bitupsetjsjupyterwidgetpipenvfee1645c874046dc9f0c363432ab7182"
  },
  "language_info": {
   "codemirror_mode": {
    "name": "ipython",
    "version": 3
   },
   "file_extension": ".py",
   "mimetype": "text/x-python",
   "name": "python",
   "nbconvert_exporter": "python",
   "pygments_lexer": "ipython3",
   "version": "3.7.1"
  },
  "widgets": {
   "application/vnd.jupyter.widget-state+json": {
    "state": {
     "022cffdccb9f4e5491d7a897ab1cde24": {
      "model_module": "@upsetjs/jupyter_widget",
      "model_module_version": "^0.4.2",
      "model_name": "UpSetModel",
      "state": {
       "_combinations": [
        {
         "cardinality": 9,
         "degree": 1,
         "elems": [
          1,
          6,
          0,
          12,
          4,
          7,
          11,
          2,
          10
         ],
         "name": "one",
         "set_names": [
          "one"
         ],
         "type": "union"
        },
        {
         "cardinality": 9,
         "degree": 1,
         "elems": [
          5,
          6,
          0,
          8,
          9,
          12,
          4,
          7,
          11
         ],
         "name": "three",
         "set_names": [
          "three"
         ],
         "type": "union"
        },
        {
         "cardinality": 5,
         "degree": 1,
         "elems": [
          1,
          3,
          9,
          0,
          4
         ],
         "name": "two",
         "set_names": [
          "two"
         ],
         "type": "union"
        },
        {
         "cardinality": 13,
         "degree": 0,
         "elems": [
          1,
          5,
          3,
          6,
          0,
          8,
          9,
          12,
          4,
          7,
          11,
          2,
          10
         ],
         "name": "()",
         "set_names": [],
         "type": "union"
        }
       ],
       "_model_module_version": "^0.4.2",
       "_queries": [],
       "_sets": [
        {
         "cardinality": 9,
         "elems": [
          1,
          6,
          0,
          12,
          4,
          7,
          11,
          2,
          10
         ],
         "name": "one",
         "type": "set"
        },
        {
         "cardinality": 9,
         "elems": [
          5,
          6,
          0,
          8,
          9,
          12,
          4,
          7,
          11
         ],
         "name": "three",
         "type": "set"
        },
        {
         "cardinality": 5,
         "elems": [
          1,
          3,
          9,
          0,
          4
         ],
         "name": "two",
         "type": "set"
        }
       ],
       "_view_module_version": "^0.4.2",
       "alternating_background_color": null,
       "band_scale": "band",
       "bar_label_offset": null,
       "bar_padding": null,
       "color": null,
       "combination_name": null,
       "combination_name_axis_offset": null,
       "dot_padding": null,
       "elems": [
        "a",
        "b",
        "c",
        "d",
        "e",
        "f",
        "g",
        "h",
        "i",
        "j",
        "k",
        "l",
        "m"
       ],
       "export_buttons": null,
       "font_family": null,
       "font_sizes": {},
       "height_ratios": [
        0.6,
        0.4
       ],
       "hover_hint_color": null,
       "layout": "IPY_MODEL_8ce32a065cd34c2aa2a8075fc1b0d289",
       "mode": "hover",
       "not_member_color": null,
       "numeric_scale": "linear",
       "padding": null,
       "query_legend": null,
       "selection_color": null,
       "set_name": null,
       "set_name_axis_offset": null,
       "text_color": null,
       "theme": "light",
       "value": null,
       "width_ratios": [
        0.25,
        0.1,
        0.65
       ]
      }
     },
     "0f4a8347d2ac43e5ad1d61571f4d9d48": {
      "model_module": "@jupyter-widgets/base",
      "model_module_version": "2.0.0",
      "model_name": "LayoutModel",
      "state": {}
     },
     "14df8a2cf3d844299efb917116512fde": {
      "model_module": "@upsetjs/jupyter_widget",
      "model_module_version": "^0.4.2",
      "model_name": "UpSetModel",
      "state": {
       "_combinations": [
        {
         "cardinality": 9,
         "degree": 1,
         "elems": [
          1,
          6,
          0,
          12,
          4,
          7,
          11,
          2,
          10
         ],
         "name": "one",
         "set_names": [
          "one"
         ],
         "type": "intersection"
        },
        {
         "cardinality": 9,
         "degree": 1,
         "elems": [
          5,
          6,
          0,
          8,
          9,
          12,
          4,
          7,
          11
         ],
         "name": "three",
         "set_names": [
          "three"
         ],
         "type": "intersection"
        },
        {
         "cardinality": 6,
         "degree": 2,
         "elems": [
          6,
          0,
          12,
          4,
          7,
          11
         ],
         "name": "(one ∩ three)",
         "set_names": [
          "three",
          "one"
         ],
         "type": "intersection"
        },
        {
         "cardinality": 5,
         "degree": 1,
         "elems": [
          1,
          3,
          9,
          0,
          4
         ],
         "name": "two",
         "set_names": [
          "two"
         ],
         "type": "intersection"
        },
        {
         "cardinality": 3,
         "degree": 2,
         "elems": [
          1,
          4,
          0
         ],
         "name": "(one ∩ two)",
         "set_names": [
          "two",
          "one"
         ],
         "type": "intersection"
        },
        {
         "cardinality": 3,
         "degree": 2,
         "elems": [
          4,
          9,
          0
         ],
         "name": "(three ∩ two)",
         "set_names": [
          "two",
          "three"
         ],
         "type": "intersection"
        }
       ],
       "_model_module_version": "^0.4.2",
       "_queries": [],
       "_sets": [
        {
         "cardinality": 9,
         "elems": [
          1,
          6,
          0,
          12,
          4,
          7,
          11,
          2,
          10
         ],
         "name": "one",
         "type": "set"
        },
        {
         "cardinality": 9,
         "elems": [
          5,
          6,
          0,
          8,
          9,
          12,
          4,
          7,
          11
         ],
         "name": "three",
         "type": "set"
        },
        {
         "cardinality": 5,
         "elems": [
          1,
          3,
          9,
          0,
          4
         ],
         "name": "two",
         "type": "set"
        }
       ],
       "_view_module_version": "^0.4.2",
       "alternating_background_color": null,
       "band_scale": "band",
       "bar_label_offset": null,
       "bar_padding": null,
       "color": null,
       "combination_name": null,
       "combination_name_axis_offset": null,
       "dot_padding": null,
       "elems": [
        "a",
        "b",
        "c",
        "d",
        "e",
        "f",
        "g",
        "h",
        "i",
        "j",
        "k",
        "l",
        "m"
       ],
       "export_buttons": null,
       "font_family": null,
       "font_sizes": {},
       "height_ratios": [
        0.6,
        0.4
       ],
       "hover_hint_color": null,
       "layout": "IPY_MODEL_28f210467b4c4781bbfe5596a00c6eca",
       "mode": "hover",
       "not_member_color": null,
       "numeric_scale": "linear",
       "padding": null,
       "query_legend": null,
       "selection_color": null,
       "set_name": null,
       "set_name_axis_offset": null,
       "text_color": null,
       "theme": "light",
       "value": null,
       "width_ratios": [
        0.25,
        0.1,
        0.65
       ]
      }
     },
     "15f8d20b21a147d9b6807dbbb0cd78c9": {
      "model_module": "@jupyter-widgets/base",
      "model_module_version": "2.0.0",
      "model_name": "LayoutModel",
      "state": {
       "align_self": "stretch",
       "height": "400px"
      }
     },
     "1a52df1bfa784f05abe6b8e51701ee26": {
      "model_module": "@jupyter-widgets/base",
      "model_module_version": "2.0.0",
      "model_name": "LayoutModel",
      "state": {
       "align_self": "stretch",
       "height": "400px"
      }
     },
     "1ff7367cae894eeb8faf1d38ae4e7af1": {
      "model_module": "@jupyter-widgets/base",
      "model_module_version": "2.0.0",
      "model_name": "LayoutModel",
      "state": {
       "align_self": "stretch",
       "height": "400px"
      }
     },
     "260d73948d044e04aa174ffcba0b9073": {
      "model_module": "@jupyter-widgets/controls",
      "model_module_version": "2.0.0",
      "model_name": "VBoxModel",
      "state": {
       "_dom_classes": [
        "widget-interact"
       ],
       "children": [
        "IPY_MODEL_14df8a2cf3d844299efb917116512fde",
        "IPY_MODEL_8fb6e090c86d4049af5e296d8f3a4167"
       ],
       "layout": "IPY_MODEL_8f6e17850b904939bcb5efeeea540edf"
      }
     },
     "264529cb247041f6846dbeac7f336be4": {
      "model_module": "@jupyter-widgets/base",
      "model_module_version": "2.0.0",
      "model_name": "LayoutModel",
      "state": {
       "align_self": "stretch",
       "height": "400px"
      }
     },
     "281fa78dfffd4acda9c77710e5dc1874": {
      "model_module": "@upsetjs/jupyter_widget",
      "model_module_version": "^0.4.2",
      "model_name": "UpSetModel",
      "state": {
       "_combinations": [
        {
         "cardinality": 9,
         "degree": 1,
         "elems": [
          1,
          6,
          0,
          12,
          4,
          7,
          11,
          2,
          10
         ],
         "name": "one",
         "set_names": [
          "one"
         ],
         "type": "intersection"
        },
        {
         "cardinality": 9,
         "degree": 1,
         "elems": [
          5,
          6,
          0,
          8,
          9,
          12,
          4,
          7,
          11
         ],
         "name": "three",
         "set_names": [
          "three"
         ],
         "type": "intersection"
        },
        {
         "cardinality": 6,
         "degree": 2,
         "elems": [
          6,
          0,
          12,
          4,
          7,
          11
         ],
         "name": "(one ∩ three)",
         "set_names": [
          "three",
          "one"
         ],
         "type": "intersection"
        },
        {
         "cardinality": 5,
         "degree": 1,
         "elems": [
          1,
          3,
          9,
          0,
          4
         ],
         "name": "two",
         "set_names": [
          "two"
         ],
         "type": "intersection"
        },
        {
         "cardinality": 3,
         "degree": 2,
         "elems": [
          1,
          4,
          0
         ],
         "name": "(one ∩ two)",
         "set_names": [
          "two",
          "one"
         ],
         "type": "intersection"
        },
        {
         "cardinality": 3,
         "degree": 2,
         "elems": [
          4,
          9,
          0
         ],
         "name": "(three ∩ two)",
         "set_names": [
          "two",
          "three"
         ],
         "type": "intersection"
        }
       ],
       "_model_module_version": "^0.4.2",
       "_queries": [
        {
         "color": "red",
         "elems": [
          0,
          1,
          2
         ],
         "name": "Q1"
        },
        {
         "color": "blue",
         "name": "Q1",
         "set": {
          "name": "three",
          "type": "set"
         }
        }
       ],
       "_sets": [
        {
         "cardinality": 9,
         "elems": [
          1,
          6,
          0,
          12,
          4,
          7,
          11,
          2,
          10
         ],
         "name": "one",
         "type": "set"
        },
        {
         "cardinality": 9,
         "elems": [
          5,
          6,
          0,
          8,
          9,
          12,
          4,
          7,
          11
         ],
         "name": "three",
         "type": "set"
        },
        {
         "cardinality": 5,
         "elems": [
          1,
          3,
          9,
          0,
          4
         ],
         "name": "two",
         "type": "set"
        }
       ],
       "_view_module_version": "^0.4.2",
       "alternating_background_color": null,
       "band_scale": "band",
       "bar_label_offset": null,
       "bar_padding": null,
       "color": null,
       "combination_name": null,
       "combination_name_axis_offset": null,
       "dot_padding": null,
       "elems": [
        "a",
        "b",
        "c",
        "d",
        "e",
        "f",
        "g",
        "h",
        "i",
        "j",
        "k",
        "l",
        "m"
       ],
       "export_buttons": null,
       "font_family": null,
       "font_sizes": {},
       "height_ratios": [
        0.6,
        0.4
       ],
       "hover_hint_color": null,
       "layout": "IPY_MODEL_f22c5f1d4147473da5c3ad276bbbbb09",
       "mode": "static",
       "not_member_color": null,
       "numeric_scale": "linear",
       "padding": null,
       "query_legend": null,
       "selection_color": null,
       "set_name": null,
       "set_name_axis_offset": null,
       "text_color": null,
       "theme": "light",
       "value": null,
       "width_ratios": [
        0.25,
        0.1,
        0.65
       ]
      }
     },
     "28f210467b4c4781bbfe5596a00c6eca": {
      "model_module": "@jupyter-widgets/base",
      "model_module_version": "2.0.0",
      "model_name": "LayoutModel",
      "state": {
       "align_self": "stretch",
       "height": "600px"
      }
     },
     "3844e14363be4261b024c58b66c47ac3": {
      "model_module": "@jupyter-widgets/base",
      "model_module_version": "2.0.0",
      "model_name": "LayoutModel",
      "state": {
       "align_self": "stretch",
       "height": "400px"
      }
     },
     "3d0952d24762449791de03ad48e53a4a": {
      "model_module": "@upsetjs/jupyter_widget",
      "model_module_version": "^0.4.2",
      "model_name": "UpSetModel",
      "state": {
       "_combinations": [
        {
         "cardinality": 9,
         "degree": 1,
         "elems": [
          1,
          6,
          0,
          12,
          4,
          7,
          11,
          2,
          10
         ],
         "name": "one",
         "set_names": [
          "one"
         ],
         "type": "intersection"
        },
        {
         "cardinality": 9,
         "degree": 1,
         "elems": [
          5,
          6,
          0,
          8,
          9,
          12,
          4,
          7,
          11
         ],
         "name": "three",
         "set_names": [
          "three"
         ],
         "type": "intersection"
        },
        {
         "cardinality": 6,
         "degree": 2,
         "elems": [
          6,
          0,
          12,
          4,
          7,
          11
         ],
         "name": "(one ∩ three)",
         "set_names": [
          "one",
          "three"
         ],
         "type": "intersection"
        },
        {
         "cardinality": 5,
         "degree": 1,
         "elems": [
          1,
          3,
          9,
          0,
          4
         ],
         "name": "two",
         "set_names": [
          "two"
         ],
         "type": "intersection"
        },
        {
         "cardinality": 3,
         "degree": 2,
         "elems": [
          1,
          4,
          0
         ],
         "name": "(one ∩ two)",
         "set_names": [
          "two",
          "one"
         ],
         "type": "intersection"
        },
        {
         "cardinality": 3,
         "degree": 2,
         "elems": [
          4,
          9,
          0
         ],
         "name": "(three ∩ two)",
         "set_names": [
          "two",
          "three"
         ],
         "type": "intersection"
        }
       ],
       "_model_module_version": "^0.4.2",
       "_queries": [],
       "_sets": [
        {
         "cardinality": 9,
         "elems": [
          1,
          6,
          0,
          12,
          4,
          7,
          11,
          2,
          10
         ],
         "name": "one",
         "type": "set"
        },
        {
         "cardinality": 9,
         "elems": [
          5,
          6,
          0,
          8,
          9,
          12,
          4,
          7,
          11
         ],
         "name": "three",
         "type": "set"
        },
        {
         "cardinality": 5,
         "elems": [
          1,
          3,
          9,
          0,
          4
         ],
         "name": "two",
         "type": "set"
        }
       ],
       "_view_module_version": "^0.4.2",
       "alternating_background_color": null,
       "band_scale": "band",
       "bar_label_offset": null,
       "bar_padding": null,
       "color": null,
       "combination_name": "Combination Label",
       "combination_name_axis_offset": null,
       "dot_padding": null,
       "elems": [
        "a",
        "b",
        "c",
        "d",
        "e",
        "f",
        "g",
        "h",
        "i",
        "j",
        "k",
        "l",
        "m"
       ],
       "export_buttons": null,
       "font_family": null,
       "font_sizes": {},
       "height_ratios": [
        0.6,
        0.4
       ],
       "hover_hint_color": null,
       "layout": "IPY_MODEL_1ff7367cae894eeb8faf1d38ae4e7af1",
       "mode": "hover",
       "not_member_color": null,
       "numeric_scale": "linear",
       "padding": null,
       "query_legend": null,
       "selection_color": null,
       "set_name": "Set Label",
       "set_name_axis_offset": null,
       "text_color": null,
       "theme": "dark",
       "value": null,
       "width_ratios": [
        0.25,
        0.1,
        0.65
       ]
      }
     },
     "402034205d754fd0b21b5f3339d60256": {
      "model_module": "@jupyter-widgets/base",
      "model_module_version": "2.0.0",
      "model_name": "LayoutModel",
      "state": {
       "align_self": "stretch",
       "height": "400px"
      }
     },
     "46a0b7fc4e484f1ca7015da8ae264d0d": {
      "model_module": "@upsetjs/jupyter_widget",
      "model_module_version": "^0.4.2",
      "model_name": "UpSetModel",
      "state": {
       "_combinations": [
        {
         "cardinality": 9,
         "degree": 1,
         "elems": [
          1,
          6,
          0,
          12,
          4,
          7,
          11,
          2,
          10
         ],
         "name": "one",
         "set_names": [
          "one"
         ],
         "type": "union"
        },
        {
         "cardinality": 9,
         "degree": 1,
         "elems": [
          5,
          6,
          0,
          8,
          9,
          12,
          4,
          7,
          11
         ],
         "name": "three",
         "set_names": [
          "three"
         ],
         "type": "union"
        },
        {
         "cardinality": 5,
         "degree": 1,
         "elems": [
          1,
          3,
          9,
          0,
          4
         ],
         "name": "two",
         "set_names": [
          "two"
         ],
         "type": "union"
        },
        {
         "cardinality": 13,
         "degree": 0,
         "elems": [
          1,
          5,
          3,
          6,
          0,
          8,
          9,
          12,
          4,
          7,
          11,
          2,
          10
         ],
         "name": "()",
         "set_names": [],
         "type": "union"
        }
       ],
       "_model_module_version": "^0.4.2",
       "_queries": [],
       "_sets": [
        {
         "cardinality": 9,
         "elems": [
          1,
          6,
          0,
          12,
          4,
          7,
          11,
          2,
          10
         ],
         "name": "one",
         "type": "set"
        },
        {
         "cardinality": 9,
         "elems": [
          5,
          6,
          0,
          8,
          9,
          12,
          4,
          7,
          11
         ],
         "name": "three",
         "type": "set"
        },
        {
         "cardinality": 5,
         "elems": [
          1,
          3,
          9,
          0,
          4
         ],
         "name": "two",
         "type": "set"
        }
       ],
       "_view_module_version": "^0.4.2",
       "alternating_background_color": null,
       "band_scale": "band",
       "bar_label_offset": null,
       "bar_padding": null,
       "color": null,
       "combination_name": null,
       "combination_name_axis_offset": null,
       "dot_padding": null,
       "elems": [
        "a",
        "b",
        "c",
        "d",
        "e",
        "f",
        "g",
        "h",
        "i",
        "j",
        "k",
        "l",
        "m"
       ],
       "export_buttons": null,
       "font_family": null,
       "font_sizes": {},
       "height_ratios": [
        0.6,
        0.4
       ],
       "hover_hint_color": null,
       "layout": "IPY_MODEL_1a52df1bfa784f05abe6b8e51701ee26",
       "mode": "hover",
       "not_member_color": null,
       "numeric_scale": "linear",
       "padding": null,
       "query_legend": null,
       "selection_color": null,
       "set_name": null,
       "set_name_axis_offset": null,
       "text_color": null,
       "theme": "light",
       "value": null,
       "width_ratios": [
        0.25,
        0.1,
        0.65
       ]
      }
     },
     "4c0f6c18f92e43a8b64146a0aef4aab4": {
      "model_module": "@jupyter-widgets/base",
      "model_module_version": "2.0.0",
      "model_name": "LayoutModel",
      "state": {
       "align_self": "stretch",
       "height": "400px"
      }
     },
     "5200ad4372584cb9bd1415600cf85d5b": {
      "model_module": "@upsetjs/jupyter_widget",
      "model_module_version": "^0.4.2",
      "model_name": "UpSetModel",
      "state": {
       "_combinations": [
        {
         "cardinality": 9,
         "degree": 1,
         "elems": [
          1,
          6,
          0,
          12,
          4,
          7,
          11,
          2,
          10
         ],
         "name": "one",
         "set_names": [
          "one"
         ],
         "type": "intersection"
        },
        {
         "cardinality": 9,
         "degree": 1,
         "elems": [
          5,
          6,
          0,
          8,
          9,
          12,
          4,
          7,
          11
         ],
         "name": "three",
         "set_names": [
          "three"
         ],
         "type": "intersection"
        },
        {
         "cardinality": 6,
         "degree": 2,
         "elems": [
          6,
          0,
          12,
          4,
          7,
          11
         ],
         "name": "(one ∩ three)",
         "set_names": [
          "one",
          "three"
         ],
         "type": "intersection"
        },
        {
         "cardinality": 5,
         "degree": 1,
         "elems": [
          1,
          3,
          9,
          0,
          4
         ],
         "name": "two",
         "set_names": [
          "two"
         ],
         "type": "intersection"
        },
        {
         "cardinality": 3,
         "degree": 2,
         "elems": [
          1,
          4,
          0
         ],
         "name": "(one ∩ two)",
         "set_names": [
          "two",
          "one"
         ],
         "type": "intersection"
        },
        {
         "cardinality": 3,
         "degree": 2,
         "elems": [
          4,
          9,
          0
         ],
         "name": "(three ∩ two)",
         "set_names": [
          "two",
          "three"
         ],
         "type": "intersection"
        }
       ],
       "_model_module_version": "^0.4.2",
       "_queries": [],
       "_sets": [
        {
         "cardinality": 9,
         "elems": [
          1,
          6,
          0,
          12,
          4,
          7,
          11,
          2,
          10
         ],
         "name": "one",
         "type": "set"
        },
        {
         "cardinality": 9,
         "elems": [
          5,
          6,
          0,
          8,
          9,
          12,
          4,
          7,
          11
         ],
         "name": "three",
         "type": "set"
        },
        {
         "cardinality": 5,
         "elems": [
          1,
          3,
          9,
          0,
          4
         ],
         "name": "two",
         "type": "set"
        }
       ],
       "_view_module_version": "^0.4.2",
       "alternating_background_color": null,
       "band_scale": "band",
       "bar_label_offset": null,
       "bar_padding": null,
       "color": null,
       "combination_name": null,
       "combination_name_axis_offset": null,
       "dot_padding": null,
       "elems": [
        "a",
        "b",
        "c",
        "d",
        "e",
        "f",
        "g",
        "h",
        "i",
        "j",
        "k",
        "l",
        "m"
       ],
       "export_buttons": null,
       "font_family": null,
       "font_sizes": {},
       "height_ratios": [
        0.6,
        0.4
       ],
       "hover_hint_color": null,
       "layout": "IPY_MODEL_77efeb8745644cfdbd774d96c9d56049",
       "mode": "hover",
       "not_member_color": null,
       "numeric_scale": "linear",
       "padding": null,
       "query_legend": null,
       "selection_color": null,
       "set_name": null,
       "set_name_axis_offset": null,
       "text_color": null,
       "theme": "dark",
       "value": null,
       "width_ratios": [
        0.25,
        0.1,
        0.65
       ]
      }
     },
     "56aaa2b7521c431188be9db53ebd647a": {
      "model_module": "@upsetjs/jupyter_widget",
      "model_module_version": "^0.4.2",
      "model_name": "UpSetModel",
      "state": {
       "_combinations": [
        {
         "cardinality": 9,
         "degree": 1,
         "elems": [
          1,
          6,
          0,
          12,
          4,
          7,
          11,
          2,
          10
         ],
         "name": "one",
         "set_names": [
          "one"
         ],
         "type": "intersection"
        },
        {
         "cardinality": 9,
         "degree": 1,
         "elems": [
          5,
          6,
          0,
          8,
          9,
          12,
          4,
          7,
          11
         ],
         "name": "three",
         "set_names": [
          "three"
         ],
         "type": "intersection"
        },
        {
         "cardinality": 6,
         "degree": 2,
         "elems": [
          6,
          0,
          12,
          4,
          7,
          11
         ],
         "name": "(one ∩ three)",
         "set_names": [
          "one",
          "three"
         ],
         "type": "intersection"
        },
        {
         "cardinality": 5,
         "degree": 1,
         "elems": [
          1,
          3,
          9,
          0,
          4
         ],
         "name": "two",
         "set_names": [
          "two"
         ],
         "type": "intersection"
        },
        {
         "cardinality": 3,
         "degree": 2,
         "elems": [
          1,
          4,
          0
         ],
         "name": "(one ∩ two)",
         "set_names": [
          "two",
          "one"
         ],
         "type": "intersection"
        },
        {
         "cardinality": 3,
         "degree": 2,
         "elems": [
          4,
          9,
          0
         ],
         "name": "(three ∩ two)",
         "set_names": [
          "two",
          "three"
         ],
         "type": "intersection"
        }
       ],
       "_model_module_version": "^0.4.2",
       "_queries": [],
       "_sets": [
        {
         "cardinality": 9,
         "elems": [
          1,
          6,
          0,
          12,
          4,
          7,
          11,
          2,
          10
         ],
         "name": "one",
         "type": "set"
        },
        {
         "cardinality": 9,
         "elems": [
          5,
          6,
          0,
          8,
          9,
          12,
          4,
          7,
          11
         ],
         "name": "three",
         "type": "set"
        },
        {
         "cardinality": 5,
         "elems": [
          1,
          3,
          9,
          0,
          4
         ],
         "name": "two",
         "type": "set"
        }
       ],
       "_view_module_version": "^0.4.2",
       "alternating_background_color": null,
       "band_scale": "band",
       "bar_label_offset": null,
       "bar_padding": null,
       "color": null,
       "combination_name": null,
       "combination_name_axis_offset": null,
       "dot_padding": null,
       "elems": [
        "a",
        "b",
        "c",
        "d",
        "e",
        "f",
        "g",
        "h",
        "i",
        "j",
        "k",
        "l",
        "m"
       ],
       "export_buttons": null,
       "font_family": null,
       "font_sizes": {},
       "height_ratios": [
        0.6,
        0.4
       ],
       "hover_hint_color": null,
       "layout": "IPY_MODEL_86d76b0fd1a6432d9dbbca082168481f",
       "mode": "hover",
       "not_member_color": null,
       "numeric_scale": "linear",
       "padding": null,
       "query_legend": null,
       "selection_color": null,
       "set_name": null,
       "set_name_axis_offset": null,
       "text_color": null,
       "theme": "dark",
       "value": null,
       "width_ratios": [
        0.25,
        0.1,
        0.65
       ]
      }
     },
     "57c32cbe747b4bb3a3b6f2e0408bf7e6": {
      "model_module": "@upsetjs/jupyter_widget",
      "model_module_version": "^0.4.2",
      "model_name": "UpSetModel",
      "state": {
       "_combinations": [
        {
         "cardinality": 9,
         "degree": 1,
         "elems": [
          1,
          6,
          0,
          12,
          4,
          7,
          11,
          2,
          10
         ],
         "name": "one",
         "set_names": [
          "one"
         ],
         "type": "intersection"
        },
        {
         "cardinality": 9,
         "degree": 1,
         "elems": [
          5,
          6,
          0,
          8,
          9,
          12,
          4,
          7,
          11
         ],
         "name": "three",
         "set_names": [
          "three"
         ],
         "type": "intersection"
        },
        {
         "cardinality": 6,
         "degree": 2,
         "elems": [
          6,
          0,
          12,
          4,
          7,
          11
         ],
         "name": "(one ∩ three)",
         "set_names": [
          "three",
          "one"
         ],
         "type": "intersection"
        },
        {
         "cardinality": 5,
         "degree": 1,
         "elems": [
          1,
          3,
          9,
          0,
          4
         ],
         "name": "two",
         "set_names": [
          "two"
         ],
         "type": "intersection"
        },
        {
         "cardinality": 3,
         "degree": 2,
         "elems": [
          1,
          4,
          0
         ],
         "name": "(one ∩ two)",
         "set_names": [
          "two",
          "one"
         ],
         "type": "intersection"
        },
        {
         "cardinality": 3,
         "degree": 2,
         "elems": [
          4,
          9,
          0
         ],
         "name": "(three ∩ two)",
         "set_names": [
          "two",
          "three"
         ],
         "type": "intersection"
        }
       ],
       "_model_module_version": "^0.4.2",
       "_queries": [],
       "_sets": [
        {
         "cardinality": 9,
         "elems": [
          1,
          6,
          0,
          12,
          4,
          7,
          11,
          2,
          10
         ],
         "name": "one",
         "type": "set"
        },
        {
         "cardinality": 9,
         "elems": [
          5,
          6,
          0,
          8,
          9,
          12,
          4,
          7,
          11
         ],
         "name": "three",
         "type": "set"
        },
        {
         "cardinality": 5,
         "elems": [
          1,
          3,
          9,
          0,
          4
         ],
         "name": "two",
         "type": "set"
        }
       ],
       "_view_module_version": "^0.4.2",
       "alternating_background_color": null,
       "band_scale": "band",
       "bar_label_offset": null,
       "bar_padding": null,
       "color": null,
       "combination_name": null,
       "combination_name_axis_offset": null,
       "dot_padding": null,
       "elems": [
        "a",
        "b",
        "c",
        "d",
        "e",
        "f",
        "g",
        "h",
        "i",
        "j",
        "k",
        "l",
        "m"
       ],
       "export_buttons": null,
       "font_family": null,
       "font_sizes": {},
       "height_ratios": [
        0.6,
        0.4
       ],
       "hover_hint_color": null,
       "layout": "IPY_MODEL_264529cb247041f6846dbeac7f336be4",
       "mode": "hover",
       "not_member_color": null,
       "numeric_scale": "log",
       "padding": null,
       "query_legend": null,
       "selection_color": null,
       "set_name": null,
       "set_name_axis_offset": null,
       "text_color": null,
       "theme": "light",
       "value": null,
       "width_ratios": [
        0.25,
        0.1,
        0.65
       ]
      }
     },
     "5970fa0449c84b39969e84ee2f915777": {
      "model_module": "@upsetjs/jupyter_widget",
      "model_module_version": "^0.4.2",
      "model_name": "UpSetModel",
      "state": {
       "_combinations": [
        {
         "cardinality": 9,
         "degree": 1,
         "elems": [
          1,
          6,
          0,
          12,
          4,
          7,
          11,
          2,
          10
         ],
         "name": "one",
         "set_names": [
          "one"
         ],
         "type": "union"
        },
        {
         "cardinality": 9,
         "degree": 1,
         "elems": [
          5,
          6,
          0,
          8,
          9,
          12,
          4,
          7,
          11
         ],
         "name": "three",
         "set_names": [
          "three"
         ],
         "type": "union"
        },
        {
         "cardinality": 5,
         "degree": 1,
         "elems": [
          1,
          3,
          9,
          0,
          4
         ],
         "name": "two",
         "set_names": [
          "two"
         ],
         "type": "union"
        },
        {
         "cardinality": 13,
         "degree": 0,
         "elems": [
          1,
          5,
          3,
          6,
          0,
          8,
          9,
          12,
          4,
          7,
          11,
          2,
          10
         ],
         "name": "()",
         "set_names": [],
         "type": "union"
        }
       ],
       "_model_module_version": "^0.4.2",
       "_queries": [],
       "_sets": [
        {
         "cardinality": 9,
         "elems": [
          1,
          6,
          0,
          12,
          4,
          7,
          11,
          2,
          10
         ],
         "name": "one",
         "type": "set"
        },
        {
         "cardinality": 9,
         "elems": [
          5,
          6,
          0,
          8,
          9,
          12,
          4,
          7,
          11
         ],
         "name": "three",
         "type": "set"
        },
        {
         "cardinality": 5,
         "elems": [
          1,
          3,
          9,
          0,
          4
         ],
         "name": "two",
         "type": "set"
        }
       ],
       "_view_module_version": "^0.4.2",
       "alternating_background_color": null,
       "band_scale": "band",
       "bar_label_offset": null,
       "bar_padding": null,
       "color": null,
       "combination_name": null,
       "combination_name_axis_offset": null,
       "dot_padding": null,
       "elems": [
        "a",
        "b",
        "c",
        "d",
        "e",
        "f",
        "g",
        "h",
        "i",
        "j",
        "k",
        "l",
        "m"
       ],
       "export_buttons": null,
       "font_family": null,
       "font_sizes": {},
       "height_ratios": [
        0.6,
        0.4
       ],
       "hover_hint_color": null,
       "layout": "IPY_MODEL_5e398dc6ffef48a7aa6851704698b2f6",
       "mode": "hover",
       "not_member_color": null,
       "numeric_scale": "linear",
       "padding": null,
       "query_legend": null,
       "selection_color": null,
       "set_name": null,
       "set_name_axis_offset": null,
       "text_color": null,
       "theme": "light",
       "value": null,
       "width_ratios": [
        0.25,
        0.1,
        0.65
       ]
      }
     },
     "5d64e9c4cd34453b99fa9edd59280ee9": {
      "model_module": "@upsetjs/jupyter_widget",
      "model_module_version": "^0.4.2",
      "model_name": "UpSetModel",
      "state": {
       "_combinations": [
        {
         "cardinality": 9,
         "degree": 1,
         "elems": [
          1,
          6,
          0,
          12,
          4,
          7,
          11,
          2,
          10
         ],
         "name": "one",
         "set_names": [
          "one"
         ],
         "type": "intersection"
        },
        {
         "cardinality": 9,
         "degree": 1,
         "elems": [
          5,
          6,
          0,
          8,
          9,
          12,
          4,
          7,
          11
         ],
         "name": "three",
         "set_names": [
          "three"
         ],
         "type": "intersection"
        },
        {
         "cardinality": 6,
         "degree": 2,
         "elems": [
          6,
          0,
          12,
          4,
          7,
          11
         ],
         "name": "(one ∩ three)",
         "set_names": [
          "three",
          "one"
         ],
         "type": "intersection"
        },
        {
         "cardinality": 5,
         "degree": 1,
         "elems": [
          1,
          3,
          9,
          0,
          4
         ],
         "name": "two",
         "set_names": [
          "two"
         ],
         "type": "intersection"
        },
        {
         "cardinality": 3,
         "degree": 2,
         "elems": [
          1,
          4,
          0
         ],
         "name": "(one ∩ two)",
         "set_names": [
          "two",
          "one"
         ],
         "type": "intersection"
        },
        {
         "cardinality": 3,
         "degree": 2,
         "elems": [
          4,
          9,
          0
         ],
         "name": "(three ∩ two)",
         "set_names": [
          "two",
          "three"
         ],
         "type": "intersection"
        }
       ],
       "_model_module_version": "^0.4.2",
       "_queries": [],
       "_sets": [
        {
         "cardinality": 9,
         "elems": [
          1,
          6,
          0,
          12,
          4,
          7,
          11,
          2,
          10
         ],
         "name": "one",
         "type": "set"
        },
        {
         "cardinality": 9,
         "elems": [
          5,
          6,
          0,
          8,
          9,
          12,
          4,
          7,
          11
         ],
         "name": "three",
         "type": "set"
        },
        {
         "cardinality": 5,
         "elems": [
          1,
          3,
          9,
          0,
          4
         ],
         "name": "two",
         "type": "set"
        }
       ],
       "_view_module_version": "^0.4.2",
       "alternating_background_color": null,
       "band_scale": "band",
       "bar_label_offset": null,
       "bar_padding": null,
       "color": null,
       "combination_name": "Combination Label",
       "combination_name_axis_offset": null,
       "dot_padding": null,
       "elems": [
        "a",
        "b",
        "c",
        "d",
        "e",
        "f",
        "g",
        "h",
        "i",
        "j",
        "k",
        "l",
        "m"
       ],
       "export_buttons": null,
       "font_family": null,
       "font_sizes": {},
       "height_ratios": [
        0.6,
        0.4
       ],
       "hover_hint_color": null,
       "layout": "IPY_MODEL_6bb318a5ad88402d83957cbc9467e243",
       "mode": "hover",
       "not_member_color": null,
       "numeric_scale": "linear",
       "padding": null,
       "query_legend": null,
       "selection_color": null,
       "set_name": "Set Label",
       "set_name_axis_offset": null,
       "text_color": null,
       "theme": "light",
       "value": null,
       "width_ratios": [
        0.25,
        0.1,
        0.65
       ]
      }
     },
     "5e398dc6ffef48a7aa6851704698b2f6": {
      "model_module": "@jupyter-widgets/base",
      "model_module_version": "2.0.0",
      "model_name": "LayoutModel",
      "state": {
       "align_self": "stretch",
       "height": "400px"
      }
     },
     "67e5fefe785147a1a291a9f12ad18d52": {
      "model_module": "@jupyter-widgets/base",
      "model_module_version": "2.0.0",
      "model_name": "LayoutModel",
      "state": {}
     },
     "6bb318a5ad88402d83957cbc9467e243": {
      "model_module": "@jupyter-widgets/base",
      "model_module_version": "2.0.0",
      "model_name": "LayoutModel",
      "state": {
       "align_self": "stretch",
       "height": "400px"
      }
     },
     "6e01966d5514461593c4c92b44e96233": {
      "model_module": "@upsetjs/jupyter_widget",
      "model_module_version": "^0.4.2",
      "model_name": "UpSetModel",
      "state": {
       "_combinations": [
        {
         "cardinality": 9,
         "degree": 1,
         "elems": [
          1,
          6,
          0,
          12,
          4,
          7,
          11,
          2,
          10
         ],
         "name": "one",
         "set_names": [
          "one"
         ],
         "type": "intersection"
        },
        {
         "cardinality": 9,
         "degree": 1,
         "elems": [
          5,
          6,
          0,
          8,
          9,
          12,
          4,
          7,
          11
         ],
         "name": "three",
         "set_names": [
          "three"
         ],
         "type": "intersection"
        },
        {
         "cardinality": 6,
         "degree": 2,
         "elems": [
          6,
          0,
          12,
          4,
          7,
          11
         ],
         "name": "(one ∩ three)",
         "set_names": [
          "one",
          "three"
         ],
         "type": "intersection"
        },
        {
         "cardinality": 5,
         "degree": 1,
         "elems": [
          1,
          3,
          9,
          0,
          4
         ],
         "name": "two",
         "set_names": [
          "two"
         ],
         "type": "intersection"
        },
        {
         "cardinality": 3,
         "degree": 2,
         "elems": [
          1,
          4,
          0
         ],
         "name": "(one ∩ two)",
         "set_names": [
          "two",
          "one"
         ],
         "type": "intersection"
        },
        {
         "cardinality": 3,
         "degree": 2,
         "elems": [
          4,
          9,
          0
         ],
         "name": "(three ∩ two)",
         "set_names": [
          "two",
          "three"
         ],
         "type": "intersection"
        }
       ],
       "_model_module_version": "^0.4.2",
       "_queries": [
        {
         "color": "red",
         "elems": [
          0,
          1,
          2
         ],
         "name": "Q1"
        },
        {
         "color": "blue",
         "name": "Q1",
         "set": {
          "name": "three",
          "type": "set"
         }
        }
       ],
       "_sets": [
        {
         "cardinality": 9,
         "elems": [
          1,
          6,
          0,
          12,
          4,
          7,
          11,
          2,
          10
         ],
         "name": "one",
         "type": "set"
        },
        {
         "cardinality": 9,
         "elems": [
          5,
          6,
          0,
          8,
          9,
          12,
          4,
          7,
          11
         ],
         "name": "three",
         "type": "set"
        },
        {
         "cardinality": 5,
         "elems": [
          1,
          3,
          9,
          0,
          4
         ],
         "name": "two",
         "type": "set"
        }
       ],
       "_view_module_version": "^0.4.2",
       "alternating_background_color": null,
       "band_scale": "band",
       "bar_label_offset": null,
       "bar_padding": null,
       "color": null,
       "combination_name": null,
       "combination_name_axis_offset": null,
       "dot_padding": null,
       "elems": [
        "a",
        "b",
        "c",
        "d",
        "e",
        "f",
        "g",
        "h",
        "i",
        "j",
        "k",
        "l",
        "m"
       ],
       "export_buttons": null,
       "font_family": null,
       "font_sizes": {},
       "height_ratios": [
        0.6,
        0.4
       ],
       "hover_hint_color": null,
       "layout": "IPY_MODEL_d0a122a609814c2ebd7be92213e260c7",
       "mode": "static",
       "not_member_color": null,
       "numeric_scale": "linear",
       "padding": null,
       "query_legend": null,
       "selection_color": null,
       "set_name": null,
       "set_name_axis_offset": null,
       "text_color": null,
       "theme": "light",
       "value": null,
       "width_ratios": [
        0.25,
        0.1,
        0.65
       ]
      }
     },
     "771ad27c062e46c5bdea23853d4f05c5": {
      "model_module": "@jupyter-widgets/base",
      "model_module_version": "2.0.0",
      "model_name": "LayoutModel",
      "state": {
       "align_self": "stretch",
       "height": "400px"
      }
     },
     "77efeb8745644cfdbd774d96c9d56049": {
      "model_module": "@jupyter-widgets/base",
      "model_module_version": "2.0.0",
      "model_name": "LayoutModel",
      "state": {
       "align_self": "stretch",
       "height": "400px"
      }
     },
     "78bf14596d654bb5bc2c3d6acfe76d0f": {
      "model_module": "@upsetjs/jupyter_widget",
      "model_module_version": "^0.4.2",
      "model_name": "UpSetModel",
      "state": {
       "_combinations": [
        {
         "cardinality": 6,
         "degree": 2,
         "elems": [
          6,
          0,
          12,
          4,
          7,
          11
         ],
         "name": "(one ∩ three)",
         "set_names": [
          "one",
          "three"
         ],
         "type": "intersection"
        },
        {
         "cardinality": 3,
         "degree": 2,
         "elems": [
          1,
          4,
          0
         ],
         "name": "(one ∩ two)",
         "set_names": [
          "two",
          "one"
         ],
         "type": "intersection"
        },
        {
         "cardinality": 3,
         "degree": 2,
         "elems": [
          4,
          9,
          0
         ],
         "name": "(three ∩ two)",
         "set_names": [
          "two",
          "three"
         ],
         "type": "intersection"
        }
       ],
       "_model_module_version": "^0.4.2",
       "_queries": [],
       "_sets": [
        {
         "cardinality": 9,
         "elems": [
          1,
          6,
          0,
          12,
          4,
          7,
          11,
          2,
          10
         ],
         "name": "one",
         "type": "set"
        },
        {
         "cardinality": 9,
         "elems": [
          5,
          6,
          0,
          8,
          9,
          12,
          4,
          7,
          11
         ],
         "name": "three",
         "type": "set"
        },
        {
         "cardinality": 5,
         "elems": [
          1,
          3,
          9,
          0,
          4
         ],
         "name": "two",
         "type": "set"
        }
       ],
       "_view_module_version": "^0.4.2",
       "alternating_background_color": null,
       "band_scale": "band",
       "bar_label_offset": null,
       "bar_padding": null,
       "color": null,
       "combination_name": null,
       "combination_name_axis_offset": null,
       "dot_padding": null,
       "elems": [
        "a",
        "b",
        "c",
        "d",
        "e",
        "f",
        "g",
        "h",
        "i",
        "j",
        "k",
        "l",
        "m"
       ],
       "export_buttons": null,
       "font_family": null,
       "font_sizes": {},
       "height_ratios": [
        0.6,
        0.4
       ],
       "hover_hint_color": null,
       "layout": "IPY_MODEL_e26d8fcd0405472ebe77e92aab87e807",
       "mode": "hover",
       "not_member_color": null,
       "numeric_scale": "linear",
       "padding": null,
       "query_legend": null,
       "selection_color": null,
       "set_name": null,
       "set_name_axis_offset": null,
       "text_color": null,
       "theme": "light",
       "value": null,
       "width_ratios": [
        0.25,
        0.1,
        0.65
       ]
      }
     },
     "801c686645ca4572a5963aaa01fb9537": {
      "model_module": "@jupyter-widgets/base",
      "model_module_version": "2.0.0",
      "model_name": "LayoutModel",
      "state": {
       "align_self": "stretch",
       "height": "600px"
      }
     },
     "86d76b0fd1a6432d9dbbca082168481f": {
      "model_module": "@jupyter-widgets/base",
      "model_module_version": "2.0.0",
      "model_name": "LayoutModel",
      "state": {
       "align_self": "stretch",
       "height": "400px"
      }
     },
     "8ce32a065cd34c2aa2a8075fc1b0d289": {
      "model_module": "@jupyter-widgets/base",
      "model_module_version": "2.0.0",
      "model_name": "LayoutModel",
      "state": {
       "align_self": "stretch",
       "height": "400px"
      }
     },
     "8f6e17850b904939bcb5efeeea540edf": {
      "model_module": "@jupyter-widgets/base",
      "model_module_version": "2.0.0",
      "model_name": "LayoutModel",
      "state": {}
     },
     "8fb6e090c86d4049af5e296d8f3a4167": {
      "model_module": "@jupyter-widgets/output",
      "model_module_version": "1.0.0",
      "model_name": "OutputModel",
      "state": {
       "layout": "IPY_MODEL_ab8dc8b6b2bd444784a01daefecb669a",
       "outputs": [
        {
         "data": {
          "text/plain": "UpSetSet(name=one, elems={'b', 'g', 'a', 'm', 'e', 'h', 'l', 'c', 'k'})"
         },
         "metadata": {},
         "output_type": "display_data"
        }
       ]
      }
     },
     "9bab31af58d84735930c4ba9a4115aa8": {
      "model_module": "@jupyter-widgets/base",
      "model_module_version": "2.0.0",
      "model_name": "LayoutModel",
      "state": {
       "align_self": "stretch",
       "height": "400px"
      }
     },
     "ab8dc8b6b2bd444784a01daefecb669a": {
      "model_module": "@jupyter-widgets/base",
      "model_module_version": "2.0.0",
      "model_name": "LayoutModel",
      "state": {}
     },
     "af2b66c4d6594660ad543b9f62efb9f8": {
      "model_module": "@upsetjs/jupyter_widget",
      "model_module_version": "^0.4.2",
      "model_name": "UpSetModel",
      "state": {
       "_combinations": [
        {
         "cardinality": 6,
         "degree": 2,
         "elems": [
          6,
          0,
          12,
          4,
          7,
          11
         ],
         "name": "(one ∩ three)",
         "set_names": [
          "one",
          "three"
         ],
         "type": "intersection"
        },
        {
         "cardinality": 3,
         "degree": 2,
         "elems": [
          1,
          4,
          0
         ],
         "name": "(one ∩ two)",
         "set_names": [
          "one",
          "two"
         ],
         "type": "intersection"
        },
        {
         "cardinality": 3,
         "degree": 2,
         "elems": [
          4,
          9,
          0
         ],
         "name": "(three ∩ two)",
         "set_names": [
          "two",
          "three"
         ],
         "type": "intersection"
        }
       ],
       "_model_module_version": "^0.4.2",
       "_queries": [],
       "_sets": [
        {
         "cardinality": 9,
         "elems": [
          1,
          6,
          0,
          12,
          4,
          7,
          11,
          2,
          10
         ],
         "name": "one",
         "type": "set"
        },
        {
         "cardinality": 9,
         "elems": [
          5,
          6,
          0,
          8,
          9,
          12,
          4,
          7,
          11
         ],
         "name": "three",
         "type": "set"
        },
        {
         "cardinality": 5,
         "elems": [
          1,
          3,
          9,
          0,
          4
         ],
         "name": "two",
         "type": "set"
        }
       ],
       "_view_module_version": "^0.4.2",
       "alternating_background_color": null,
       "band_scale": "band",
       "bar_label_offset": null,
       "bar_padding": null,
       "color": null,
       "combination_name": null,
       "combination_name_axis_offset": null,
       "dot_padding": null,
       "elems": [
        "a",
        "b",
        "c",
        "d",
        "e",
        "f",
        "g",
        "h",
        "i",
        "j",
        "k",
        "l",
        "m"
       ],
       "export_buttons": null,
       "font_family": null,
       "font_sizes": {},
       "height_ratios": [
        0.6,
        0.4
       ],
       "hover_hint_color": null,
       "layout": "IPY_MODEL_15f8d20b21a147d9b6807dbbb0cd78c9",
       "mode": "hover",
       "not_member_color": null,
       "numeric_scale": "linear",
       "padding": null,
       "query_legend": null,
       "selection_color": null,
       "set_name": null,
       "set_name_axis_offset": null,
       "text_color": null,
       "theme": "light",
       "value": null,
       "width_ratios": [
        0.25,
        0.1,
        0.65
       ]
      }
     },
     "b01b3a067a384f76a1e52eedd91c0b68": {
      "model_module": "@jupyter-widgets/base",
      "model_module_version": "2.0.0",
      "model_name": "LayoutModel",
      "state": {}
     },
     "b0c5ebcaf0dc4e71a52019f256d04617": {
      "model_module": "@jupyter-widgets/controls",
      "model_module_version": "2.0.0",
      "model_name": "VBoxModel",
      "state": {
       "_dom_classes": [
        "widget-interact"
       ],
       "children": [
        "IPY_MODEL_56aaa2b7521c431188be9db53ebd647a",
        "IPY_MODEL_f2bbf968d3d44f67997ea0dad619a365"
       ],
       "layout": "IPY_MODEL_0f4a8347d2ac43e5ad1d61571f4d9d48"
      }
     },
     "b160f4c39bd84cd4b8f285d35502a0a0": {
      "model_module": "@jupyter-widgets/base",
      "model_module_version": "2.0.0",
      "model_name": "LayoutModel",
      "state": {
       "align_self": "stretch",
       "height": "400px"
      }
     },
     "b4313306eba84746b33aa65bbe0c7d43": {
      "model_module": "@jupyter-widgets/base",
      "model_module_version": "2.0.0",
      "model_name": "LayoutModel",
      "state": {}
     },
     "b45e0caeaf874b6b93135f233639fe46": {
      "model_module": "@upsetjs/jupyter_widget",
      "model_module_version": "^0.4.2",
      "model_name": "UpSetModel",
      "state": {
       "_combinations": [
        {
         "cardinality": 9,
         "degree": 1,
         "elems": [
          1,
          6,
          0,
          12,
          4,
          7,
          11,
          2,
          10
         ],
         "name": "one",
         "set_names": [
          "one"
         ],
         "type": "intersection"
        },
        {
         "cardinality": 9,
         "degree": 1,
         "elems": [
          5,
          6,
          0,
          8,
          9,
          12,
          4,
          7,
          11
         ],
         "name": "three",
         "set_names": [
          "three"
         ],
         "type": "intersection"
        },
        {
         "cardinality": 6,
         "degree": 2,
         "elems": [
          6,
          0,
          12,
          4,
          7,
          11
         ],
         "name": "(one ∩ three)",
         "set_names": [
          "one",
          "three"
         ],
         "type": "intersection"
        },
        {
         "cardinality": 5,
         "degree": 1,
         "elems": [
          1,
          3,
          9,
          0,
          4
         ],
         "name": "two",
         "set_names": [
          "two"
         ],
         "type": "intersection"
        },
        {
         "cardinality": 3,
         "degree": 2,
         "elems": [
          1,
          4,
          0
         ],
         "name": "(one ∩ two)",
         "set_names": [
          "one",
          "two"
         ],
         "type": "intersection"
        },
        {
         "cardinality": 3,
         "degree": 2,
         "elems": [
          4,
          9,
          0
         ],
         "name": "(three ∩ two)",
         "set_names": [
          "two",
          "three"
         ],
         "type": "intersection"
        }
       ],
       "_model_module_version": "^0.4.2",
       "_queries": [],
       "_sets": [
        {
         "cardinality": 9,
         "elems": [
          1,
          6,
          0,
          12,
          4,
          7,
          11,
          2,
          10
         ],
         "name": "one",
         "type": "set"
        },
        {
         "cardinality": 9,
         "elems": [
          5,
          6,
          0,
          8,
          9,
          12,
          4,
          7,
          11
         ],
         "name": "three",
         "type": "set"
        },
        {
         "cardinality": 5,
         "elems": [
          1,
          3,
          9,
          0,
          4
         ],
         "name": "two",
         "type": "set"
        }
       ],
       "_view_module_version": "^0.4.2",
       "alternating_background_color": null,
       "band_scale": "band",
       "bar_label_offset": null,
       "bar_padding": null,
       "color": null,
       "combination_name": "Combination Label",
       "combination_name_axis_offset": null,
       "dot_padding": null,
       "elems": [
        "a",
        "b",
        "c",
        "d",
        "e",
        "f",
        "g",
        "h",
        "i",
        "j",
        "k",
        "l",
        "m"
       ],
       "export_buttons": null,
       "font_family": null,
       "font_sizes": {},
       "height_ratios": [
        0.6,
        0.4
       ],
       "hover_hint_color": null,
       "layout": "IPY_MODEL_4c0f6c18f92e43a8b64146a0aef4aab4",
       "mode": "hover",
       "not_member_color": null,
       "numeric_scale": "log",
       "padding": null,
       "query_legend": null,
       "selection_color": null,
       "set_name": "Set Label",
       "set_name_axis_offset": null,
       "text_color": null,
       "theme": "dark",
       "value": {
        "name": "one",
        "type": "set"
       },
       "width_ratios": [
        0.25,
        0.1,
        0.65
       ]
      }
     },
     "b755886085c541e89c5892ce81f79113": {
      "model_module": "@jupyter-widgets/base",
      "model_module_version": "2.0.0",
      "model_name": "LayoutModel",
      "state": {
       "align_self": "stretch",
       "height": "400px"
      }
     },
     "bce7b2e4c4d54a1fa89b446a81bd98d5": {
      "model_module": "@upsetjs/jupyter_widget",
      "model_module_version": "^0.4.2",
      "model_name": "UpSetModel",
      "state": {
       "_combinations": [
        {
         "cardinality": 6,
         "degree": 2,
         "elems": [
          6,
          0,
          12,
          4,
          7,
          11
         ],
         "name": "(one ∩ three)",
         "set_names": [
          "three",
          "one"
         ],
         "type": "intersection"
        },
        {
         "cardinality": 3,
         "degree": 2,
         "elems": [
          1,
          4,
          0
         ],
         "name": "(one ∩ two)",
         "set_names": [
          "two",
          "one"
         ],
         "type": "intersection"
        },
        {
         "cardinality": 3,
         "degree": 2,
         "elems": [
          4,
          9,
          0
         ],
         "name": "(three ∩ two)",
         "set_names": [
          "two",
          "three"
         ],
         "type": "intersection"
        }
       ],
       "_model_module_version": "^0.4.2",
       "_queries": [],
       "_sets": [
        {
         "cardinality": 9,
         "elems": [
          1,
          6,
          0,
          12,
          4,
          7,
          11,
          2,
          10
         ],
         "name": "one",
         "type": "set"
        },
        {
         "cardinality": 9,
         "elems": [
          5,
          6,
          0,
          8,
          9,
          12,
          4,
          7,
          11
         ],
         "name": "three",
         "type": "set"
        },
        {
         "cardinality": 5,
         "elems": [
          1,
          3,
          9,
          0,
          4
         ],
         "name": "two",
         "type": "set"
        }
       ],
       "_view_module_version": "^0.4.2",
       "alternating_background_color": null,
       "band_scale": "band",
       "bar_label_offset": null,
       "bar_padding": null,
       "color": null,
       "combination_name": null,
       "combination_name_axis_offset": null,
       "dot_padding": null,
       "elems": [
        "a",
        "b",
        "c",
        "d",
        "e",
        "f",
        "g",
        "h",
        "i",
        "j",
        "k",
        "l",
        "m"
       ],
       "export_buttons": null,
       "font_family": null,
       "font_sizes": {},
       "height_ratios": [
        0.6,
        0.4
       ],
       "hover_hint_color": null,
       "layout": "IPY_MODEL_402034205d754fd0b21b5f3339d60256",
       "mode": "hover",
       "not_member_color": null,
       "numeric_scale": "linear",
       "padding": null,
       "query_legend": null,
       "selection_color": null,
       "set_name": null,
       "set_name_axis_offset": null,
       "text_color": null,
       "theme": "light",
       "value": null,
       "width_ratios": [
        0.25,
        0.1,
        0.65
       ]
      }
     },
     "cbac9cab09934d239e5d62c92c3df88e": {
      "model_module": "@upsetjs/jupyter_widget",
      "model_module_version": "^0.4.2",
      "model_name": "UpSetModel",
      "state": {
       "_combinations": [
        {
         "cardinality": 9,
         "degree": 1,
         "elems": [
          1,
          6,
          0,
          12,
          4,
          7,
          11,
          2,
          10
         ],
         "name": "one",
         "set_names": [
          "one"
         ],
         "type": "intersection"
        },
        {
         "cardinality": 9,
         "degree": 1,
         "elems": [
          5,
          6,
          0,
          8,
          9,
          12,
          4,
          7,
          11
         ],
         "name": "three",
         "set_names": [
          "three"
         ],
         "type": "intersection"
        },
        {
         "cardinality": 6,
         "degree": 2,
         "elems": [
          6,
          0,
          12,
          4,
          7,
          11
         ],
         "name": "(one ∩ three)",
         "set_names": [
          "one",
          "three"
         ],
         "type": "intersection"
        },
        {
         "cardinality": 5,
         "degree": 1,
         "elems": [
          1,
          3,
          9,
          0,
          4
         ],
         "name": "two",
         "set_names": [
          "two"
         ],
         "type": "intersection"
        },
        {
         "cardinality": 3,
         "degree": 2,
         "elems": [
          1,
          4,
          0
         ],
         "name": "(one ∩ two)",
         "set_names": [
          "one",
          "two"
         ],
         "type": "intersection"
        },
        {
         "cardinality": 3,
         "degree": 2,
         "elems": [
          4,
          9,
          0
         ],
         "name": "(three ∩ two)",
         "set_names": [
          "two",
          "three"
         ],
         "type": "intersection"
        }
       ],
       "_model_module_version": "^0.4.2",
       "_queries": [],
       "_sets": [
        {
         "cardinality": 9,
         "elems": [
          1,
          6,
          0,
          12,
          4,
          7,
          11,
          2,
          10
         ],
         "name": "one",
         "type": "set"
        },
        {
         "cardinality": 9,
         "elems": [
          5,
          6,
          0,
          8,
          9,
          12,
          4,
          7,
          11
         ],
         "name": "three",
         "type": "set"
        },
        {
         "cardinality": 5,
         "elems": [
          1,
          3,
          9,
          0,
          4
         ],
         "name": "two",
         "type": "set"
        }
       ],
       "_view_module_version": "^0.4.2",
       "alternating_background_color": null,
       "band_scale": "band",
       "bar_label_offset": null,
       "bar_padding": null,
       "color": null,
       "combination_name": "Combination Label",
       "combination_name_axis_offset": null,
       "dot_padding": null,
       "elems": [
        "a",
        "b",
        "c",
        "d",
        "e",
        "f",
        "g",
        "h",
        "i",
        "j",
        "k",
        "l",
        "m"
       ],
       "export_buttons": null,
       "font_family": null,
       "font_sizes": {},
       "height_ratios": [
        0.6,
        0.4
       ],
       "hover_hint_color": null,
       "layout": "IPY_MODEL_b160f4c39bd84cd4b8f285d35502a0a0",
       "mode": "hover",
       "not_member_color": null,
       "numeric_scale": "linear",
       "padding": null,
       "query_legend": null,
       "selection_color": null,
       "set_name": "Set Label",
       "set_name_axis_offset": null,
       "text_color": null,
       "theme": "dark",
       "value": {
        "name": "one",
        "type": "set"
       },
       "width_ratios": [
        0.25,
        0.1,
        0.65
       ]
      }
     },
     "ce1be225b5ce4276a70450e4c9c99628": {
      "model_module": "@upsetjs/jupyter_widget",
      "model_module_version": "^0.4.2",
      "model_name": "UpSetModel",
      "state": {
       "_combinations": [
        {
         "cardinality": 9,
         "degree": 1,
         "elems": [
          1,
          6,
          0,
          12,
          4,
          7,
          11,
          2,
          10
         ],
         "name": "one",
         "set_names": [
          "one"
         ],
         "type": "intersection"
        },
        {
         "cardinality": 9,
         "degree": 1,
         "elems": [
          5,
          6,
          0,
          8,
          9,
          12,
          4,
          7,
          11
         ],
         "name": "three",
         "set_names": [
          "three"
         ],
         "type": "intersection"
        },
        {
         "cardinality": 6,
         "degree": 2,
         "elems": [
          6,
          0,
          12,
          4,
          7,
          11
         ],
         "name": "(one ∩ three)",
         "set_names": [
          "one",
          "three"
         ],
         "type": "intersection"
        },
        {
         "cardinality": 5,
         "degree": 1,
         "elems": [
          1,
          3,
          9,
          0,
          4
         ],
         "name": "two",
         "set_names": [
          "two"
         ],
         "type": "intersection"
        },
        {
         "cardinality": 3,
         "degree": 2,
         "elems": [
          1,
          4,
          0
         ],
         "name": "(one ∩ two)",
         "set_names": [
          "one",
          "two"
         ],
         "type": "intersection"
        },
        {
         "cardinality": 3,
         "degree": 2,
         "elems": [
          4,
          9,
          0
         ],
         "name": "(three ∩ two)",
         "set_names": [
          "two",
          "three"
         ],
         "type": "intersection"
        }
       ],
       "_model_module_version": "^0.4.2",
       "_queries": [],
       "_sets": [
        {
         "cardinality": 9,
         "elems": [
          1,
          6,
          0,
          12,
          4,
          7,
          11,
          2,
          10
         ],
         "name": "one",
         "type": "set"
        },
        {
         "cardinality": 9,
         "elems": [
          5,
          6,
          0,
          8,
          9,
          12,
          4,
          7,
          11
         ],
         "name": "three",
         "type": "set"
        },
        {
         "cardinality": 5,
         "elems": [
          1,
          3,
          9,
          0,
          4
         ],
         "name": "two",
         "type": "set"
        }
       ],
       "_view_module_version": "^0.4.2",
       "alternating_background_color": null,
       "band_scale": "band",
       "bar_label_offset": null,
       "bar_padding": null,
       "color": null,
       "combination_name": "Combination Label",
       "combination_name_axis_offset": null,
       "dot_padding": null,
       "elems": [
        "a",
        "b",
        "c",
        "d",
        "e",
        "f",
        "g",
        "h",
        "i",
        "j",
        "k",
        "l",
        "m"
       ],
       "export_buttons": null,
       "font_family": null,
       "font_sizes": {},
       "height_ratios": [
        0.6,
        0.4
       ],
       "hover_hint_color": null,
       "layout": "IPY_MODEL_b755886085c541e89c5892ce81f79113",
       "mode": "hover",
       "not_member_color": null,
       "numeric_scale": "log",
       "padding": null,
       "query_legend": null,
       "selection_color": null,
       "set_name": "Set Label",
       "set_name_axis_offset": null,
       "text_color": null,
       "theme": "dark",
       "value": {
        "name": "one",
        "type": "set"
       },
       "width_ratios": [
        0.25,
        0.1,
        0.65
       ]
      }
     },
     "d0a122a609814c2ebd7be92213e260c7": {
      "model_module": "@jupyter-widgets/base",
      "model_module_version": "2.0.0",
      "model_name": "LayoutModel",
      "state": {
       "align_self": "stretch",
       "height": "400px"
      }
     },
     "d1cdcfb9adad4ff49443823415ce9c9a": {
      "model_module": "@upsetjs/jupyter_widget",
      "model_module_version": "^0.4.2",
      "model_name": "UpSetModel",
      "state": {
       "_combinations": [
        {
         "cardinality": 9,
         "degree": 1,
         "elems": [
          1,
          6,
          0,
          12,
          4,
          7,
          11,
          2,
          10
         ],
         "name": "one",
         "set_names": [
          "one"
         ],
         "type": "intersection"
        },
        {
         "cardinality": 9,
         "degree": 1,
         "elems": [
          5,
          6,
          0,
          8,
          9,
          12,
          4,
          7,
          11
         ],
         "name": "three",
         "set_names": [
          "three"
         ],
         "type": "intersection"
        },
        {
         "cardinality": 6,
         "degree": 2,
         "elems": [
          6,
          0,
          12,
          4,
          7,
          11
         ],
         "name": "(one ∩ three)",
         "set_names": [
          "three",
          "one"
         ],
         "type": "intersection"
        },
        {
         "cardinality": 5,
         "degree": 1,
         "elems": [
          1,
          3,
          9,
          0,
          4
         ],
         "name": "two",
         "set_names": [
          "two"
         ],
         "type": "intersection"
        },
        {
         "cardinality": 3,
         "degree": 2,
         "elems": [
          1,
          4,
          0
         ],
         "name": "(one ∩ two)",
         "set_names": [
          "two",
          "one"
         ],
         "type": "intersection"
        },
        {
         "cardinality": 3,
         "degree": 2,
         "elems": [
          4,
          9,
          0
         ],
         "name": "(three ∩ two)",
         "set_names": [
          "two",
          "three"
         ],
         "type": "intersection"
        }
       ],
       "_model_module_version": "^0.4.2",
       "_queries": [],
       "_sets": [
        {
         "cardinality": 9,
         "elems": [
          1,
          6,
          0,
          12,
          4,
          7,
          11,
          2,
          10
         ],
         "name": "one",
         "type": "set"
        },
        {
         "cardinality": 9,
         "elems": [
          5,
          6,
          0,
          8,
          9,
          12,
          4,
          7,
          11
         ],
         "name": "three",
         "type": "set"
        },
        {
         "cardinality": 5,
         "elems": [
          1,
          3,
          9,
          0,
          4
         ],
         "name": "two",
         "type": "set"
        }
       ],
       "_view_module_version": "^0.4.2",
       "alternating_background_color": null,
       "band_scale": "band",
       "bar_label_offset": null,
       "bar_padding": null,
       "color": null,
       "combination_name": null,
       "combination_name_axis_offset": null,
       "dot_padding": null,
       "elems": [
        "a",
        "b",
        "c",
        "d",
        "e",
        "f",
        "g",
        "h",
        "i",
        "j",
        "k",
        "l",
        "m"
       ],
       "export_buttons": null,
       "font_family": null,
       "font_sizes": {},
       "height_ratios": [
        0.6,
        0.4
       ],
       "hover_hint_color": null,
       "layout": "IPY_MODEL_771ad27c062e46c5bdea23853d4f05c5",
       "mode": "hover",
       "not_member_color": null,
       "numeric_scale": "linear",
       "padding": null,
       "query_legend": null,
       "selection_color": null,
       "set_name": null,
       "set_name_axis_offset": null,
       "text_color": null,
       "theme": "dark",
       "value": null,
       "width_ratios": [
        0.25,
        0.1,
        0.65
       ]
      }
     },
     "d3bca2e8a0dc4d81b3c533230ba0123e": {
      "model_module": "@jupyter-widgets/output",
      "model_module_version": "1.0.0",
      "model_name": "OutputModel",
      "state": {
       "layout": "IPY_MODEL_b01b3a067a384f76a1e52eedd91c0b68",
       "outputs": [
        {
         "data": {
          "text/plain": "UpSetSet(name=one, elems={'b', 'g', 'a', 'm', 'e', 'h', 'l', 'c', 'k'})"
         },
         "metadata": {},
         "output_type": "display_data"
        }
       ]
      }
     },
     "dbc524f1d2494e6c8064a699c76e0230": {
      "model_module": "@jupyter-widgets/controls",
      "model_module_version": "2.0.0",
      "model_name": "VBoxModel",
      "state": {
       "_dom_classes": [
        "widget-interact"
       ],
       "children": [
        "IPY_MODEL_ee35c982936c48ae8e5fc2c11be555e1",
        "IPY_MODEL_d3bca2e8a0dc4d81b3c533230ba0123e"
       ],
       "layout": "IPY_MODEL_67e5fefe785147a1a291a9f12ad18d52"
      }
     },
     "e26d8fcd0405472ebe77e92aab87e807": {
      "model_module": "@jupyter-widgets/base",
      "model_module_version": "2.0.0",
      "model_name": "LayoutModel",
      "state": {
       "align_self": "stretch",
       "height": "400px"
      }
     },
     "e4d6c20865454156b86b9e72b49b297c": {
      "model_module": "@upsetjs/jupyter_widget",
      "model_module_version": "^0.4.2",
      "model_name": "UpSetModel",
      "state": {
       "_combinations": [
        {
         "cardinality": 9,
         "degree": 1,
         "elems": [
          1,
          6,
          0,
          12,
          4,
          7,
          11,
          2,
          10
         ],
         "name": "one",
         "set_names": [
          "one"
         ],
         "type": "intersection"
        },
        {
         "cardinality": 9,
         "degree": 1,
         "elems": [
          5,
          6,
          0,
          8,
          9,
          12,
          4,
          7,
          11
         ],
         "name": "three",
         "set_names": [
          "three"
         ],
         "type": "intersection"
        },
        {
         "cardinality": 6,
         "degree": 2,
         "elems": [
          6,
          0,
          12,
          4,
          7,
          11
         ],
         "name": "(one ∩ three)",
         "set_names": [
          "one",
          "three"
         ],
         "type": "intersection"
        },
        {
         "cardinality": 5,
         "degree": 1,
         "elems": [
          1,
          3,
          9,
          0,
          4
         ],
         "name": "two",
         "set_names": [
          "two"
         ],
         "type": "intersection"
        },
        {
         "cardinality": 3,
         "degree": 2,
         "elems": [
          1,
          4,
          0
         ],
         "name": "(one ∩ two)",
         "set_names": [
          "one",
          "two"
         ],
         "type": "intersection"
        },
        {
         "cardinality": 3,
         "degree": 2,
         "elems": [
          4,
          9,
          0
         ],
         "name": "(three ∩ two)",
         "set_names": [
          "two",
          "three"
         ],
         "type": "intersection"
        }
       ],
       "_model_module_version": "^0.4.2",
       "_queries": [
        {
         "color": "red",
         "elems": [
          0,
          1,
          2
         ],
         "name": "Q1"
        },
        {
         "color": "red",
         "name": "Q1",
         "set": {
          "name": "three",
          "type": "set"
         }
        }
       ],
       "_sets": [
        {
         "cardinality": 9,
         "elems": [
          1,
          6,
          0,
          12,
          4,
          7,
          11,
          2,
          10
         ],
         "name": "one",
         "type": "set"
        },
        {
         "cardinality": 9,
         "elems": [
          5,
          6,
          0,
          8,
          9,
          12,
          4,
          7,
          11
         ],
         "name": "three",
         "type": "set"
        },
        {
         "cardinality": 5,
         "elems": [
          1,
          3,
          9,
          0,
          4
         ],
         "name": "two",
         "type": "set"
        }
       ],
       "_view_module_version": "^0.4.2",
       "alternating_background_color": null,
       "band_scale": "band",
       "bar_label_offset": null,
       "bar_padding": null,
       "color": null,
       "combination_name": null,
       "combination_name_axis_offset": null,
       "dot_padding": null,
       "elems": [
        "a",
        "b",
        "c",
        "d",
        "e",
        "f",
        "g",
        "h",
        "i",
        "j",
        "k",
        "l",
        "m"
       ],
       "export_buttons": null,
       "font_family": null,
       "font_sizes": {},
       "height_ratios": [
        0.6,
        0.4
       ],
       "hover_hint_color": null,
       "layout": "IPY_MODEL_9bab31af58d84735930c4ba9a4115aa8",
       "mode": "static",
       "not_member_color": null,
       "numeric_scale": "linear",
       "padding": null,
       "query_legend": null,
       "selection_color": null,
       "set_name": null,
       "set_name_axis_offset": null,
       "text_color": null,
       "theme": "light",
       "value": null,
       "width_ratios": [
        0.25,
        0.1,
        0.65
       ]
      }
     },
     "ee35c982936c48ae8e5fc2c11be555e1": {
      "model_module": "@upsetjs/jupyter_widget",
      "model_module_version": "^0.4.2",
      "model_name": "UpSetModel",
      "state": {
       "_combinations": [
        {
         "cardinality": 9,
         "degree": 1,
         "elems": [
          1,
          6,
          0,
          12,
          4,
          7,
          11,
          2,
          10
         ],
         "name": "one",
         "set_names": [
          "one"
         ],
         "type": "intersection"
        },
        {
         "cardinality": 9,
         "degree": 1,
         "elems": [
          5,
          6,
          0,
          8,
          9,
          12,
          4,
          7,
          11
         ],
         "name": "three",
         "set_names": [
          "three"
         ],
         "type": "intersection"
        },
        {
         "cardinality": 6,
         "degree": 2,
         "elems": [
          6,
          0,
          12,
          4,
          7,
          11
         ],
         "name": "(one ∩ three)",
         "set_names": [
          "one",
          "three"
         ],
         "type": "intersection"
        },
        {
         "cardinality": 5,
         "degree": 1,
         "elems": [
          1,
          3,
          9,
          0,
          4
         ],
         "name": "two",
         "set_names": [
          "two"
         ],
         "type": "intersection"
        },
        {
         "cardinality": 3,
         "degree": 2,
         "elems": [
          1,
          4,
          0
         ],
         "name": "(one ∩ two)",
         "set_names": [
          "one",
          "two"
         ],
         "type": "intersection"
        },
        {
         "cardinality": 3,
         "degree": 2,
         "elems": [
          4,
          9,
          0
         ],
         "name": "(three ∩ two)",
         "set_names": [
          "two",
          "three"
         ],
         "type": "intersection"
        }
       ],
       "_model_module_version": "^0.4.2",
       "_queries": [],
       "_sets": [
        {
         "cardinality": 9,
         "elems": [
          1,
          6,
          0,
          12,
          4,
          7,
          11,
          2,
          10
         ],
         "name": "one",
         "type": "set"
        },
        {
         "cardinality": 9,
         "elems": [
          5,
          6,
          0,
          8,
          9,
          12,
          4,
          7,
          11
         ],
         "name": "three",
         "type": "set"
        },
        {
         "cardinality": 5,
         "elems": [
          1,
          3,
          9,
          0,
          4
         ],
         "name": "two",
         "type": "set"
        }
       ],
       "_view_module_version": "^0.4.2",
       "alternating_background_color": null,
       "band_scale": "band",
       "bar_label_offset": null,
       "bar_padding": null,
       "color": null,
       "combination_name": "Combination Label",
       "combination_name_axis_offset": null,
       "dot_padding": null,
       "elems": [
        "a",
        "b",
        "c",
        "d",
        "e",
        "f",
        "g",
        "h",
        "i",
        "j",
        "k",
        "l",
        "m"
       ],
       "export_buttons": null,
       "font_family": null,
       "font_sizes": {},
       "height_ratios": [
        0.6,
        0.4
       ],
       "hover_hint_color": null,
       "layout": "IPY_MODEL_801c686645ca4572a5963aaa01fb9537",
       "mode": "hover",
       "not_member_color": null,
       "numeric_scale": "linear",
       "padding": null,
       "query_legend": null,
       "selection_color": null,
       "set_name": "Set Label",
       "set_name_axis_offset": null,
       "text_color": null,
       "theme": "dark",
       "value": {
        "name": "one",
        "type": "set"
       },
       "width_ratios": [
        0.25,
        0.1,
        0.65
       ]
      }
     },
     "f22c5f1d4147473da5c3ad276bbbbb09": {
      "model_module": "@jupyter-widgets/base",
      "model_module_version": "2.0.0",
      "model_name": "LayoutModel",
      "state": {
       "align_self": "stretch",
       "height": "400px"
      }
     },
     "f2bbf968d3d44f67997ea0dad619a365": {
      "model_module": "@jupyter-widgets/output",
      "model_module_version": "1.0.0",
      "model_name": "OutputModel",
      "state": {
       "layout": "IPY_MODEL_b4313306eba84746b33aa65bbe0c7d43",
       "outputs": [
        {
         "data": {
          "text/plain": "UpSetSet(name=one, elems={'b', 'g', 'a', 'm', 'e', 'h', 'l', 'c', 'k'})"
         },
         "metadata": {},
         "output_type": "display_data"
        }
       ]
      }
     },
     "f6c16f0a39024adfaf92c4e0b0cebe0f": {
      "model_module": "@upsetjs/jupyter_widget",
      "model_module_version": "^0.4.2",
      "model_name": "UpSetModel",
      "state": {
       "_combinations": [
        {
         "cardinality": 9,
         "degree": 1,
         "elems": [
          1,
          6,
          0,
          12,
          4,
          7,
          11,
          2,
          10
         ],
         "name": "one",
         "set_names": [
          "one"
         ],
         "type": "intersection"
        },
        {
         "cardinality": 9,
         "degree": 1,
         "elems": [
          5,
          6,
          0,
          8,
          9,
          12,
          4,
          7,
          11
         ],
         "name": "three",
         "set_names": [
          "three"
         ],
         "type": "intersection"
        },
        {
         "cardinality": 6,
         "degree": 2,
         "elems": [
          6,
          0,
          12,
          4,
          7,
          11
         ],
         "name": "(one ∩ three)",
         "set_names": [
          "one",
          "three"
         ],
         "type": "intersection"
        },
        {
         "cardinality": 5,
         "degree": 1,
         "elems": [
          1,
          3,
          9,
          0,
          4
         ],
         "name": "two",
         "set_names": [
          "two"
         ],
         "type": "intersection"
        },
        {
         "cardinality": 3,
         "degree": 2,
         "elems": [
          1,
          4,
          0
         ],
         "name": "(one ∩ two)",
         "set_names": [
          "one",
          "two"
         ],
         "type": "intersection"
        },
        {
         "cardinality": 3,
         "degree": 2,
         "elems": [
          4,
          9,
          0
         ],
         "name": "(three ∩ two)",
         "set_names": [
          "two",
          "three"
         ],
         "type": "intersection"
        }
       ],
       "_model_module_version": "^0.4.2",
       "_queries": [
        {
         "color": "red",
         "elems": [
          0,
          1,
          2
         ],
         "name": "Q1"
        },
        {
         "color": "blue",
         "name": "Q1",
         "set": {
          "name": "three",
          "type": "set"
         }
        }
       ],
       "_sets": [
        {
         "cardinality": 9,
         "elems": [
          1,
          6,
          0,
          12,
          4,
          7,
          11,
          2,
          10
         ],
         "name": "one",
         "type": "set"
        },
        {
         "cardinality": 9,
         "elems": [
          5,
          6,
          0,
          8,
          9,
          12,
          4,
          7,
          11
         ],
         "name": "three",
         "type": "set"
        },
        {
         "cardinality": 5,
         "elems": [
          1,
          3,
          9,
          0,
          4
         ],
         "name": "two",
         "type": "set"
        }
       ],
       "_view_module_version": "^0.4.2",
       "alternating_background_color": null,
       "band_scale": "band",
       "bar_label_offset": null,
       "bar_padding": null,
       "color": null,
       "combination_name": null,
       "combination_name_axis_offset": null,
       "dot_padding": null,
       "elems": [
        "a",
        "b",
        "c",
        "d",
        "e",
        "f",
        "g",
        "h",
        "i",
        "j",
        "k",
        "l",
        "m"
       ],
       "export_buttons": null,
       "font_family": null,
       "font_sizes": {},
       "height_ratios": [
        0.6,
        0.4
       ],
       "hover_hint_color": null,
       "layout": "IPY_MODEL_3844e14363be4261b024c58b66c47ac3",
       "mode": "static",
       "not_member_color": null,
       "numeric_scale": "linear",
       "padding": null,
       "query_legend": null,
       "selection_color": null,
       "set_name": null,
       "set_name_axis_offset": null,
       "text_color": null,
       "theme": "light",
       "value": null,
       "width_ratios": [
        0.25,
        0.1,
        0.65
       ]
      }
     }
    },
    "version_major": 2,
    "version_minor": 0
   }
  }
 },
 "nbformat": 4,
 "nbformat_minor": 4
}
