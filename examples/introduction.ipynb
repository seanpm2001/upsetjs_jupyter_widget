{
 "cells": [
  {
   "cell_type": "markdown",
   "metadata": {},
   "source": [
    "# Introduction"
   ]
  },
  {
   "cell_type": "code",
   "execution_count": 1,
   "metadata": {},
   "outputs": [],
   "source": [
    "from ipywidgets import interact\n",
    "from upsetjs_jupyter_widget import UpSetWidget\n",
    "import pandas as pd"
   ]
  },
  {
   "cell_type": "code",
   "execution_count": 2,
   "metadata": {},
   "outputs": [],
   "source": [
    "w = UpSetWidget[str]()\n",
    "w.theme = 'dark'\n",
    "w.mode = 'hover'"
   ]
  },
  {
   "cell_type": "code",
   "execution_count": 8,
   "metadata": {},
   "outputs": [],
   "source": [
    "w.from_dict(dict(one = ['a', 'b', 'c', 'e', 'g', 'h', 'k', 'l', 'm'], two = ['a', 'b', 'd', 'e', 'j'], three = ['a', 'e', 'f', 'g', 'h', 'i', 'j', 'l', 'm']))\n",
    "pass"
   ]
  },
  {
   "cell_type": "code",
   "execution_count": 11,
   "metadata": {},
   "outputs": [],
   "source": [
    "df = pd.DataFrame(dict(\n",
    "    one=[1, 1, 1, 0, 1, 0, 1, 1, 0, 0, 1, 1, 1], \n",
    "    two=[1, 1, 0, 1, 1, 0, 0, 0, 0, 1, 0, 0, 0], \n",
    "    three=[1, 0, 0, 0, 1, 1, 1, 1, 1, 1, 0, 1, 1]\n",
    "), index=['a', 'b', 'c', 'd', 'e', 'f', 'g', 'h', 'i', 'j', 'k', 'l', 'm'])\n",
    "w.from_dataframe(df)\n",
    "pass"
   ]
  },
  {
   "cell_type": "code",
   "execution_count": 12,
   "metadata": {},
   "outputs": [
    {
     "data": {
      "text/plain": [
       "[UpSetSet(name=one, elems={'l', 'g', 'a', 'k', 'm', 'b', 'h', 'e', 'c'}),\n",
       " UpSetSet(name=three, elems={'l', 'g', 'a', 'm', 'f', 'h', 'j', 'i', 'e'}),\n",
       " UpSetSet(name=two, elems={'a', 'j', 'b', 'e', 'd'})]"
      ]
     },
     "execution_count": 12,
     "metadata": {},
     "output_type": "execute_result"
    }
   ],
   "source": [
    "w.sets"
   ]
  },
  {
   "cell_type": "code",
   "execution_count": 9,
   "metadata": {},
   "outputs": [
    {
     "data": {
      "text/plain": [
       "[UpSetSetIntersection(name=one, sets={'one'}, elems={'l', 'g', 'a', 'k', 'm', 'b', 'h', 'e', 'c'}),\n",
       " UpSetSetIntersection(name=three, sets={'three'}, elems={'l', 'g', 'a', 'm', 'f', 'h', 'j', 'i', 'e'}),\n",
       " UpSetSetIntersection(name=(one ∩ three), sets={'three', 'one'}, elems={'l', 'g', 'a', 'm', 'e', 'h'}),\n",
       " UpSetSetIntersection(name=two, sets={'two'}, elems={'a', 'j', 'b', 'e', 'd'}),\n",
       " UpSetSetIntersection(name=(one ∩ two), sets={'one', 'two'}, elems={'b', 'a', 'e'}),\n",
       " UpSetSetIntersection(name=(three ∩ two), sets={'three', 'two'}, elems={'a', 'e', 'j'})]"
      ]
     },
     "execution_count": 9,
     "metadata": {},
     "output_type": "execute_result"
    }
   ],
   "source": [
    "w.combinations"
   ]
  },
  {
   "cell_type": "code",
   "execution_count": 7,
   "metadata": {},
   "outputs": [
    {
     "data": {
      "application/vnd.jupyter.widget-view+json": {
       "model_id": "7330bfbf87cf4acab3d2cc6ed858d103",
       "version_major": 2,
       "version_minor": 0
      },
      "text/plain": [
       "UpSetWidget(value=None, elems=['a', 'b', 'c', 'd', 'e', 'f', 'g', 'h', 'i', 'j', 'k', 'l', 'm'], height_ratios…"
      ]
     },
     "execution_count": 7,
     "metadata": {},
     "output_type": "execute_result"
    }
   ],
   "source": [
    "w"
   ]
  },
  {
   "cell_type": "code",
   "execution_count": 7,
   "metadata": {},
   "outputs": [
    {
     "data": {
      "application/vnd.jupyter.widget-view+json": {
       "model_id": "bd403c6b4ccb4d0bbb590994e6218913",
       "version_major": 2,
       "version_minor": 0
      },
      "text/plain": [
       "interactive(children=(IntSlider(value=10, description='s', max=30, min=-10), UpSetWidget(value=None, elems=['a…"
      ]
     },
     "metadata": {},
     "output_type": "display_data"
    },
    {
     "data": {
      "text/plain": [
       "<function __main__.selection_changed(s, ws)>"
      ]
     },
     "execution_count": 7,
     "metadata": {},
     "output_type": "execute_result"
    }
   ],
   "source": [
    "def selection_changed(s, ws):\n",
    "    # w.selection = ws[\"name\"] if ws else None\n",
    "    return s, ws # s[\"name\"] if s else None\n",
    "interact(selection_changed, s=10, ws=w)"
   ]
  },
  {
   "cell_type": "code",
   "execution_count": null,
   "metadata": {},
   "outputs": [],
   "source": []
  },
  {
   "cell_type": "code",
   "execution_count": null,
   "metadata": {},
   "outputs": [],
   "source": []
  }
 ],
 "metadata": {
  "kernelspec": {
   "display_name": "Python 3.7.1 64-bit ('upsetjs_jupyter_widget': pipenv)",
   "language": "python",
   "name": "python37164bitupsetjsjupyterwidgetpipenvfee1645c874046dc9f0c363432ab7182"
  },
  "language_info": {
   "codemirror_mode": {
    "name": "ipython",
    "version": 3
   },
   "file_extension": ".py",
   "mimetype": "text/x-python",
   "name": "python",
   "nbconvert_exporter": "python",
   "pygments_lexer": "ipython3",
   "version": "3.7.1"
  }
 },
 "nbformat": 4,
 "nbformat_minor": 4
}
