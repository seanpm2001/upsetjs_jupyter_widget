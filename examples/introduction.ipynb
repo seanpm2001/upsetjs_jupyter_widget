{
 "cells": [
  {
   "cell_type": "markdown",
   "metadata": {},
   "source": [
    "# Introduction"
   ]
  },
  {
   "cell_type": "code",
   "execution_count": 1,
   "metadata": {},
   "outputs": [],
   "source": [
    "from ipywidgets import interact\n",
    "from upsetjs_jupyter_widget import UpSetWidget\n",
    "import pandas as pd"
   ]
  },
  {
   "cell_type": "code",
   "execution_count": 2,
   "metadata": {},
   "outputs": [],
   "source": [
    "w = UpSetWidget[str]()\n",
    "#w.theme = 'dark'\n",
    "w.mode = 'hover'"
   ]
  },
  {
   "cell_type": "code",
   "execution_count": 3,
   "metadata": {},
   "outputs": [
    {
     "data": {
      "application/vnd.jupyter.widget-view+json": {
       "model_id": "9f63d0f5fada4ebda553e24583e2e722",
       "version_major": 2,
       "version_minor": 0
      },
      "text/plain": [
       "UpSetWidget(value=None, elems=['a', 'b', 'c', 'd', 'e', 'f', 'g', 'h', 'i', 'j', 'k', 'l', 'm'], height_ratios…"
      ]
     },
     "execution_count": 3,
     "metadata": {},
     "output_type": "execute_result"
    }
   ],
   "source": [
    "w.from_dict(dict(one = ['a', 'b', 'c', 'e', 'g', 'h', 'k', 'l', 'm'], two = ['a', 'b', 'd', 'e', 'j'], three = ['a', 'e', 'f', 'g', 'h', 'i', 'j', 'l', 'm']))\n",
    "w"
   ]
  },
  {
   "cell_type": "code",
   "execution_count": 4,
   "metadata": {},
   "outputs": [
    {
     "data": {
      "application/vnd.jupyter.widget-view+json": {
       "model_id": "9f63d0f5fada4ebda553e24583e2e722",
       "version_major": 2,
       "version_minor": 0
      },
      "text/plain": [
       "UpSetWidget(value=None, elems=['a', 'b', 'c', 'd', 'e', 'f', 'g', 'h', 'i', 'j', 'k', 'l', 'm'], height_ratios…"
      ]
     },
     "execution_count": 4,
     "metadata": {},
     "output_type": "execute_result"
    }
   ],
   "source": [
    "df = pd.DataFrame(dict(\n",
    "    one=[1, 1, 1, 0, 1, 0, 1, 1, 0, 0, 1, 1, 1], \n",
    "    two=[1, 1, 0, 1, 1, 0, 0, 0, 0, 1, 0, 0, 0], \n",
    "    three=[1, 0, 0, 0, 1, 1, 1, 1, 1, 1, 0, 1, 1]\n",
    "), index=['a', 'b', 'c', 'd', 'e', 'f', 'g', 'h', 'i', 'j', 'k', 'l', 'm'])\n",
    "w.from_dataframe(df)\n",
    "w"
   ]
  },
  {
   "cell_type": "code",
   "execution_count": 5,
   "metadata": {},
   "outputs": [
    {
     "data": {
      "text/plain": [
       "[UpSetSet(name=one, elems={'g', 'm', 'k', 'c', 'e', 'h', 'b', 'l', 'a'}),\n",
       " UpSetSet(name=three, elems={'f', 'g', 'm', 'e', 'h', 'l', 'a', 'i', 'j'}),\n",
       " UpSetSet(name=two, elems={'d', 'e', 'b', 'a', 'j'})]"
      ]
     },
     "execution_count": 5,
     "metadata": {},
     "output_type": "execute_result"
    }
   ],
   "source": [
    "w.sets"
   ]
  },
  {
   "cell_type": "code",
   "execution_count": 6,
   "metadata": {},
   "outputs": [
    {
     "data": {
      "text/plain": [
       "[UpSetSetIntersection(name=one, sets={'one'}, elems={'g', 'm', 'k', 'c', 'e', 'h', 'b', 'l', 'a'}),\n",
       " UpSetSetIntersection(name=three, sets={'three'}, elems={'f', 'g', 'm', 'e', 'h', 'l', 'a', 'i', 'j'}),\n",
       " UpSetSetIntersection(name=(one ∩ three), sets={'three', 'one'}, elems={'e', 'h', 'l', 'g', 'm', 'a'}),\n",
       " UpSetSetIntersection(name=two, sets={'two'}, elems={'d', 'e', 'b', 'a', 'j'}),\n",
       " UpSetSetIntersection(name=(one ∩ two), sets={'two', 'one'}, elems={'e', 'b', 'a'}),\n",
       " UpSetSetIntersection(name=(three ∩ two), sets={'two', 'three'}, elems={'e', 'a', 'j'})]"
      ]
     },
     "execution_count": 6,
     "metadata": {},
     "output_type": "execute_result"
    }
   ],
   "source": [
    "w.combinations"
   ]
  },
  {
   "cell_type": "code",
   "execution_count": 7,
   "metadata": {},
   "outputs": [
    {
     "data": {
      "application/vnd.jupyter.widget-view+json": {
       "model_id": "9f63d0f5fada4ebda553e24583e2e722",
       "version_major": 2,
       "version_minor": 0
      },
      "text/plain": [
       "UpSetWidget(value={'name': 'three', 'type': 'set', 'cardinality': 9, 'elems': [5, 6, 12, 4, 7, 11, 0, 8, 9]}, …"
      ]
     },
     "execution_count": 7,
     "metadata": {},
     "output_type": "execute_result"
    }
   ],
   "source": [
    "w"
   ]
  },
  {
   "cell_type": "code",
   "execution_count": 8,
   "metadata": {},
   "outputs": [
    {
     "data": {
      "application/vnd.jupyter.widget-view+json": {
       "model_id": "f73fd34c4c884011b2e36324506e5afb",
       "version_major": 2,
       "version_minor": 0
      },
      "text/plain": [
       "interactive(children=(IntSlider(value=10, description='s', max=30, min=-10), UpSetWidget(value=None, elems=['a…"
      ]
     },
     "metadata": {},
     "output_type": "display_data"
    },
    {
     "data": {
      "text/plain": [
       "<function __main__.selection_changed(s, ws)>"
      ]
     },
     "execution_count": 8,
     "metadata": {},
     "output_type": "execute_result"
    }
   ],
   "source": [
    "def selection_changed(s, ws):\n",
    "    # w.selection = ws[\"name\"] if ws else None\n",
    "    return s, ws # s[\"name\"] if s else None\n",
    "interact(selection_changed, s=10, ws=w)"
   ]
  },
  {
   "cell_type": "code",
   "execution_count": 9,
   "metadata": {},
   "outputs": [
    {
     "data": {
      "application/vnd.jupyter.widget-view+json": {
       "model_id": "9f63d0f5fada4ebda553e24583e2e722",
       "version_major": 2,
       "version_minor": 0
      },
      "text/plain": [
       "UpSetWidget(value=None, elems=['a', 'b', 'c', 'd', 'e', 'f', 'g', 'h', 'i', 'j', 'k', 'l', 'm'], height_ratios…"
      ]
     },
     "execution_count": 9,
     "metadata": {},
     "output_type": "execute_result"
    }
   ],
   "source": [
    "w.height = 600\n",
    "w"
   ]
  },
  {
   "cell_type": "code",
   "execution_count": null,
   "metadata": {},
   "outputs": [],
   "source": []
  }
 ],
 "metadata": {
  "kernelspec": {
   "display_name": "Python 3.7.1 64-bit ('upsetjs_jupyter_widget': pipenv)",
   "language": "python",
   "name": "python37164bitupsetjsjupyterwidgetpipenvfee1645c874046dc9f0c363432ab7182"
  },
  "language_info": {
   "codemirror_mode": {
    "name": "ipython",
    "version": 3
   },
   "file_extension": ".py",
   "mimetype": "text/x-python",
   "name": "python",
   "nbconvert_exporter": "python",
   "pygments_lexer": "ipython3",
   "version": "3.7.1"
  },
  "widgets": {
   "application/vnd.jupyter.widget-state+json": {
    "state": {
     "28a4489798a942cfa5dd81b77a16237d": {
      "model_module": "@jupyter-widgets/output",
      "model_module_version": "1.0.0",
      "model_name": "OutputModel",
      "state": {
       "layout": "IPY_MODEL_9bad5f78f41a448b986c4cfc5013cf9c",
       "outputs": [
        {
         "data": {
          "text/plain": "(30, None)"
         },
         "metadata": {},
         "output_type": "display_data"
        }
       ]
      }
     },
     "9bad5f78f41a448b986c4cfc5013cf9c": {
      "model_module": "@jupyter-widgets/base",
      "model_module_version": "2.0.0",
      "model_name": "LayoutModel",
      "state": {}
     },
     "9f63d0f5fada4ebda553e24583e2e722": {
      "model_module": "@upsetjs/jupyter_widget",
      "model_module_version": "^0.4.2",
      "model_name": "UpSetModel",
      "state": {
       "_combinations": [
        {
         "cardinality": 9,
         "degree": 1,
         "elems": [
          6,
          12,
          10,
          2,
          4,
          7,
          1,
          11,
          0
         ],
         "name": "one",
         "set_names": [
          "one"
         ],
         "type": "intersection"
        },
        {
         "cardinality": 9,
         "degree": 1,
         "elems": [
          5,
          6,
          12,
          4,
          7,
          11,
          0,
          8,
          9
         ],
         "name": "three",
         "set_names": [
          "three"
         ],
         "type": "intersection"
        },
        {
         "cardinality": 6,
         "degree": 2,
         "elems": [
          6,
          12,
          4,
          7,
          11,
          0
         ],
         "name": "(one ∩ three)",
         "set_names": [
          "one",
          "three"
         ],
         "type": "intersection"
        },
        {
         "cardinality": 5,
         "degree": 1,
         "elems": [
          3,
          4,
          1,
          0,
          9
         ],
         "name": "two",
         "set_names": [
          "two"
         ],
         "type": "intersection"
        },
        {
         "cardinality": 3,
         "degree": 2,
         "elems": [
          4,
          1,
          0
         ],
         "name": "(one ∩ two)",
         "set_names": [
          "two",
          "one"
         ],
         "type": "intersection"
        },
        {
         "cardinality": 3,
         "degree": 2,
         "elems": [
          4,
          0,
          9
         ],
         "name": "(three ∩ two)",
         "set_names": [
          "two",
          "three"
         ],
         "type": "intersection"
        }
       ],
       "_model_module_version": "^0.4.2",
       "_queries": [],
       "_sets": [
        {
         "cardinality": 9,
         "elems": [
          6,
          12,
          10,
          2,
          4,
          7,
          1,
          11,
          0
         ],
         "name": "one",
         "type": "set"
        },
        {
         "cardinality": 9,
         "elems": [
          5,
          6,
          12,
          4,
          7,
          11,
          0,
          8,
          9
         ],
         "name": "three",
         "type": "set"
        },
        {
         "cardinality": 5,
         "elems": [
          3,
          4,
          1,
          0,
          9
         ],
         "name": "two",
         "type": "set"
        }
       ],
       "_view_module_version": "^0.4.2",
       "alternating_background_color": null,
       "band_scale": "band",
       "bar_label_offset": null,
       "bar_padding": null,
       "color": null,
       "combination_name": null,
       "combination_name_axis_offset": null,
       "dot_padding": null,
       "elems": [
        "a",
        "b",
        "c",
        "d",
        "e",
        "f",
        "g",
        "h",
        "i",
        "j",
        "k",
        "l",
        "m"
       ],
       "export_buttons": null,
       "font_family": null,
       "font_sizes": {},
       "height_ratios": [
        0.6,
        0.4
       ],
       "hover_hint_color": null,
       "layout": "IPY_MODEL_c3d7be629cec454fb094cc02aa073ecb",
       "mode": "hover",
       "not_member_color": null,
       "numeric_scale": "linear",
       "padding": null,
       "query_legend": null,
       "selection_color": null,
       "set_name": null,
       "set_name_axis_offset": null,
       "text_color": null,
       "theme": "light",
       "value": null,
       "width_ratios": [
        0.25,
        0.1,
        0.65
       ]
      }
     },
     "b2b1c5723adc45059a8a009c154a92a4": {
      "model_module": "@jupyter-widgets/base",
      "model_module_version": "2.0.0",
      "model_name": "LayoutModel",
      "state": {}
     },
     "b8d8101aed914ae3ada8051212f12512": {
      "model_module": "@jupyter-widgets/controls",
      "model_module_version": "2.0.0",
      "model_name": "IntSliderModel",
      "state": {
       "description": "s",
       "layout": "IPY_MODEL_b2b1c5723adc45059a8a009c154a92a4",
       "max": 30,
       "min": -10,
       "style": "IPY_MODEL_d26282309c4146e8a4b11f139538ff89",
       "value": 30
      }
     },
     "c3d7be629cec454fb094cc02aa073ecb": {
      "model_module": "@jupyter-widgets/base",
      "model_module_version": "2.0.0",
      "model_name": "LayoutModel",
      "state": {
       "align_self": "stretch",
       "height": "600px"
      }
     },
     "d26282309c4146e8a4b11f139538ff89": {
      "model_module": "@jupyter-widgets/controls",
      "model_module_version": "2.0.0",
      "model_name": "SliderStyleModel",
      "state": {
       "description_width": ""
      }
     },
     "f73fd34c4c884011b2e36324506e5afb": {
      "model_module": "@jupyter-widgets/controls",
      "model_module_version": "2.0.0",
      "model_name": "VBoxModel",
      "state": {
       "_dom_classes": [
        "widget-interact"
       ],
       "children": [
        "IPY_MODEL_b8d8101aed914ae3ada8051212f12512",
        "IPY_MODEL_9f63d0f5fada4ebda553e24583e2e722",
        "IPY_MODEL_28a4489798a942cfa5dd81b77a16237d"
       ],
       "layout": "IPY_MODEL_fb14300a97784f1bb2c5d1d533f74c33"
      }
     },
     "fb14300a97784f1bb2c5d1d533f74c33": {
      "model_module": "@jupyter-widgets/base",
      "model_module_version": "2.0.0",
      "model_name": "LayoutModel",
      "state": {}
     }
    },
    "version_major": 2,
    "version_minor": 0
   }
  }
 },
 "nbformat": 4,
 "nbformat_minor": 4
}
