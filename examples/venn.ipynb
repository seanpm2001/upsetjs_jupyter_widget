{
 "cells": [
  {
   "cell_type": "markdown",
   "metadata": {},
   "source": [
    "# UpSet.js Jupyter Widget - Venn and Euler Diagram\n",
    "\n",
    "UpSet.js has a basic support for classical Venn diagrams for up to five sets."
   ]
  },
  {
   "cell_type": "code",
   "execution_count": 1,
   "metadata": {},
   "outputs": [],
   "source": [
    "from ipywidgets import interact\n",
    "from upsetjs_jupyter_widget import UpSetJSVennDiagramWidget, UpSetJSEulerDiagramWidget\n",
    "import pandas as pd"
   ]
  },
  {
   "cell_type": "markdown",
   "metadata": {},
   "source": [
    "This wrapper is implemented in Python 3 with mypy typings and generics. The generic type `T` of the `UpSetJSVennDiagramWidget` is type of element that we wanna handle. In the following example we handle `str` elements."
   ]
  },
  {
   "cell_type": "code",
   "execution_count": 2,
   "metadata": {},
   "outputs": [],
   "source": [
    "w = UpSetJSVennDiagramWidget[str]()"
   ]
  },
  {
   "cell_type": "code",
   "execution_count": 3,
   "metadata": {},
   "outputs": [],
   "source": [
    "e = UpSetJSEulerDiagramWidget[str]()"
   ]
  },
  {
   "cell_type": "markdown",
   "metadata": {},
   "source": [
    "## Basic User Interface"
   ]
  },
  {
   "cell_type": "code",
   "execution_count": 12,
   "metadata": {},
   "outputs": [
    {
     "data": {
      "application/vnd.jupyter.widget-view+json": {
       "model_id": "d357f362e65849cebf0855db74ec3c2a",
       "version_major": 2,
       "version_minor": 0
      },
      "text/plain": [
       "UpSetJSVennDiagramWidget(value=None, combinations=[UpSetSetDistinctIntersection(name=one, sets={'one'}, cardin…"
      ]
     },
     "execution_count": 12,
     "metadata": {},
     "output_type": "execute_result"
    }
   ],
   "source": [
    "dict_input = dict(one = ['a', 'b', 'c', 'e', 'g', 'h', 'k', 'l', 'm'], two = ['a', 'b', 'd', 'e', 'j'], three = ['a', 'e', 'f', 'g', 'h', 'i', 'j', 'l', 'm'])\n",
    "w.from_dict(dict_input)"
   ]
  },
  {
   "cell_type": "code",
   "execution_count": 11,
   "metadata": {},
   "outputs": [
    {
     "data": {
      "application/vnd.jupyter.widget-view+json": {
       "model_id": "d0472425431a4ed2b928487bf92e241a",
       "version_major": 2,
       "version_minor": 0
      },
      "text/plain": [
       "UpSetJSVennDiagramWidget(value=None, combinations=[UpSetSetDistinctIntersection(name=five, sets={'five'}, card…"
      ]
     },
     "execution_count": 11,
     "metadata": {},
     "output_type": "execute_result"
    }
   ],
   "source": [
    "dict_input5 = dict(one = ['a', 'b', 'c', 'e', 'g', 'h', 'k', 'l', 'm'], two = ['a', 'b', 'd', 'e', 'j'], \n",
    "                   three = ['a', 'e', 'f', 'g', 'h', 'i', 'j', 'l', 'm'], \n",
    "                   four = ['a', 'e', 'f', 'g', 'h', 'i', 'j', 'l', 'm'], \n",
    "                   five = ['a', 'e', 'f', 'g', 'h', 'i', 'j', 'l', 'm'])\n",
    "w.copy().from_dict(dict_input5)"
   ]
  },
  {
   "cell_type": "code",
   "execution_count": 5,
   "metadata": {},
   "outputs": [
    {
     "data": {
      "application/vnd.jupyter.widget-view+json": {
       "model_id": "36e1c9e250b040a6a292285b8fc1969a",
       "version_major": 2,
       "version_minor": 0
      },
      "text/plain": [
       "UpSetJSEulerDiagramWidget(value=None, combinations=[UpSetSetDistinctIntersection(name=one, sets={'one'}, cardi…"
      ]
     },
     "execution_count": 5,
     "metadata": {},
     "output_type": "execute_result"
    }
   ],
   "source": [
    "e.from_dict(dict_input)"
   ]
  },
  {
   "cell_type": "markdown",
   "metadata": {},
   "source": [
    "## Input Formats\n",
    "\n",
    "see UpSetSJWidget"
   ]
  },
  {
   "cell_type": "markdown",
   "metadata": {},
   "source": [
    "## Basic Attrributes\n",
    "\n",
    "see UpsetJSWidget"
   ]
  },
  {
   "cell_type": "markdown",
   "metadata": {},
   "source": [
    "## Interaction\n",
    "\n",
    "see UpSetJSWidget"
   ]
  },
  {
   "cell_type": "markdown",
   "metadata": {},
   "source": [
    "## Queries\n",
    "\n",
    "see UpSetJSWidget"
   ]
  },
  {
   "cell_type": "markdown",
   "metadata": {},
   "source": [
    "## Styling\n",
    "\n",
    "see UpSetJSWidget"
   ]
  },
  {
   "cell_type": "code",
   "execution_count": null,
   "metadata": {},
   "outputs": [],
   "source": []
  }
 ],
 "metadata": {
  "kernelspec": {
   "display_name": "Python 3.7.1 64-bit ('upsetjs_jupyter_widget': pipenv)",
   "language": "python",
   "name": "python37164bitupsetjsjupyterwidgetpipenvfee1645c874046dc9f0c363432ab7182"
  },
  "language_info": {
   "codemirror_mode": {
    "name": "ipython",
    "version": 3
   },
   "file_extension": ".py",
   "mimetype": "text/x-python",
   "name": "python",
   "nbconvert_exporter": "python",
   "pygments_lexer": "ipython3",
   "version": "3.7.1"
  },
  "widgets": {
   "application/vnd.jupyter.widget-state+json": {
    "state": {
     "36e1c9e250b040a6a292285b8fc1969a": {
      "model_module": "@upsetjs/jupyter_widget",
      "model_module_version": "^1.3.0",
      "model_name": "UpSetModel",
      "state": {
       "_expression_data": false,
       "_model_module_version": "^1.3.0",
       "_render_mode": "euler",
       "_view_module_version": "^1.3.0",
       "color": null,
       "combinations": [
        {
         "cardinality": 2,
         "color": null,
         "degree": 1,
         "elems": [
          2,
          10
         ],
         "name": "one",
         "set_names": [
          "one"
         ],
         "type": "distinctIntersection"
        },
        {
         "cardinality": 2,
         "color": null,
         "degree": 1,
         "elems": [
          5,
          8
         ],
         "name": "three",
         "set_names": [
          "three"
         ],
         "type": "distinctIntersection"
        },
        {
         "cardinality": 1,
         "color": null,
         "degree": 1,
         "elems": [
          3
         ],
         "name": "two",
         "set_names": [
          "two"
         ],
         "type": "distinctIntersection"
        },
        {
         "cardinality": 1,
         "color": null,
         "degree": 2,
         "elems": [
          1
         ],
         "name": "(one ∩ two)",
         "set_names": [
          "two",
          "one"
         ],
         "type": "distinctIntersection"
        },
        {
         "cardinality": 4,
         "color": null,
         "degree": 2,
         "elems": [
          6,
          12,
          7,
          11
         ],
         "name": "(one ∩ three)",
         "set_names": [
          "three",
          "one"
         ],
         "type": "distinctIntersection"
        },
        {
         "cardinality": 1,
         "color": null,
         "degree": 2,
         "elems": [
          9
         ],
         "name": "(two ∩ three)",
         "set_names": [
          "two",
          "three"
         ],
         "type": "distinctIntersection"
        },
        {
         "cardinality": 2,
         "color": null,
         "degree": 3,
         "elems": [
          0,
          4
         ],
         "name": "(one ∩ two ∩ three)",
         "set_names": [
          "two",
          "three",
          "one"
         ],
         "type": "distinctIntersection"
        }
       ],
       "description": null,
       "elems": [
        "a",
        "b",
        "c",
        "d",
        "e",
        "f",
        "g",
        "h",
        "i",
        "j",
        "k",
        "l",
        "m"
       ],
       "export_buttons": null,
       "font_family": null,
       "font_sizes": {},
       "has_selection_color": null,
       "has_selection_opacity": null,
       "layout": "IPY_MODEL_f855e1e4722b48eabc2cf978408a3877",
       "mode": "hover",
       "opacity": null,
       "padding": null,
       "queries": [],
       "query_legend": null,
       "selection_color": null,
       "sets": [
        {
         "cardinality": 9,
         "color": null,
         "elems": [
          12,
          7,
          2,
          6,
          10,
          1,
          11,
          0,
          4
         ],
         "name": "one",
         "type": "set"
        },
        {
         "cardinality": 9,
         "color": null,
         "elems": [
          12,
          7,
          8,
          6,
          11,
          5,
          0,
          9,
          4
         ],
         "name": "three",
         "type": "set"
        },
        {
         "cardinality": 5,
         "color": null,
         "elems": [
          1,
          3,
          0,
          9,
          4
         ],
         "name": "two",
         "type": "set"
        }
       ],
       "stroke_color": null,
       "text_color": null,
       "theme": "light",
       "title": null,
       "value": null,
       "value_text_color": null
      }
     },
     "7cea33f01d0247f288c27633e4c6e20a": {
      "model_module": "@jupyter-widgets/base",
      "model_module_version": "2.0.0",
      "model_name": "LayoutModel",
      "state": {
       "align_self": "stretch",
       "height": "400px"
      }
     },
     "d0472425431a4ed2b928487bf92e241a": {
      "model_module": "@upsetjs/jupyter_widget",
      "model_module_version": "^1.3.0",
      "model_name": "UpSetModel",
      "state": {
       "_expression_data": false,
       "_model_module_version": "^1.3.0",
       "_render_mode": "venn",
       "_view_module_version": "^1.3.0",
       "color": null,
       "combinations": [
        {
         "cardinality": 0,
         "color": null,
         "degree": 1,
         "elems": [],
         "name": "five",
         "set_names": [
          "five"
         ],
         "type": "distinctIntersection"
        },
        {
         "cardinality": 0,
         "color": null,
         "degree": 1,
         "elems": [],
         "name": "four",
         "set_names": [
          "four"
         ],
         "type": "distinctIntersection"
        },
        {
         "cardinality": 2,
         "color": null,
         "degree": 1,
         "elems": [
          2,
          10
         ],
         "name": "one",
         "set_names": [
          "one"
         ],
         "type": "distinctIntersection"
        },
        {
         "cardinality": 0,
         "color": null,
         "degree": 1,
         "elems": [],
         "name": "three",
         "set_names": [
          "three"
         ],
         "type": "distinctIntersection"
        },
        {
         "cardinality": 1,
         "color": null,
         "degree": 1,
         "elems": [
          3
         ],
         "name": "two",
         "set_names": [
          "two"
         ],
         "type": "distinctIntersection"
        },
        {
         "cardinality": 0,
         "color": null,
         "degree": 2,
         "elems": [],
         "name": "(one ∩ five)",
         "set_names": [
          "five",
          "one"
         ],
         "type": "distinctIntersection"
        },
        {
         "cardinality": 0,
         "color": null,
         "degree": 2,
         "elems": [],
         "name": "(two ∩ five)",
         "set_names": [
          "two",
          "five"
         ],
         "type": "distinctIntersection"
        },
        {
         "cardinality": 0,
         "color": null,
         "degree": 2,
         "elems": [],
         "name": "(three ∩ five)",
         "set_names": [
          "three",
          "five"
         ],
         "type": "distinctIntersection"
        },
        {
         "cardinality": 0,
         "color": null,
         "degree": 2,
         "elems": [],
         "name": "(four ∩ five)",
         "set_names": [
          "five",
          "four"
         ],
         "type": "distinctIntersection"
        },
        {
         "cardinality": 0,
         "color": null,
         "degree": 2,
         "elems": [],
         "name": "(one ∩ four)",
         "set_names": [
          "four",
          "one"
         ],
         "type": "distinctIntersection"
        },
        {
         "cardinality": 0,
         "color": null,
         "degree": 2,
         "elems": [],
         "name": "(two ∩ four)",
         "set_names": [
          "two",
          "four"
         ],
         "type": "distinctIntersection"
        },
        {
         "cardinality": 0,
         "color": null,
         "degree": 2,
         "elems": [],
         "name": "(three ∩ four)",
         "set_names": [
          "three",
          "four"
         ],
         "type": "distinctIntersection"
        },
        {
         "cardinality": 1,
         "color": null,
         "degree": 2,
         "elems": [
          1
         ],
         "name": "(one ∩ two)",
         "set_names": [
          "two",
          "one"
         ],
         "type": "distinctIntersection"
        },
        {
         "cardinality": 0,
         "color": null,
         "degree": 2,
         "elems": [],
         "name": "(one ∩ three)",
         "set_names": [
          "three",
          "one"
         ],
         "type": "distinctIntersection"
        },
        {
         "cardinality": 0,
         "color": null,
         "degree": 2,
         "elems": [],
         "name": "(two ∩ three)",
         "set_names": [
          "two",
          "three"
         ],
         "type": "distinctIntersection"
        },
        {
         "cardinality": 0,
         "color": null,
         "degree": 3,
         "elems": [],
         "name": "(one ∩ two ∩ five)",
         "set_names": [
          "two",
          "five",
          "one"
         ],
         "type": "distinctIntersection"
        },
        {
         "cardinality": 0,
         "color": null,
         "degree": 3,
         "elems": [],
         "name": "(one ∩ three ∩ five)",
         "set_names": [
          "three",
          "five",
          "one"
         ],
         "type": "distinctIntersection"
        },
        {
         "cardinality": 0,
         "color": null,
         "degree": 3,
         "elems": [],
         "name": "(one ∩ four ∩ five)",
         "set_names": [
          "five",
          "four",
          "one"
         ],
         "type": "distinctIntersection"
        },
        {
         "cardinality": 0,
         "color": null,
         "degree": 3,
         "elems": [],
         "name": "(two ∩ three ∩ five)",
         "set_names": [
          "two",
          "three",
          "five"
         ],
         "type": "distinctIntersection"
        },
        {
         "cardinality": 0,
         "color": null,
         "degree": 3,
         "elems": [],
         "name": "(two ∩ four ∩ five)",
         "set_names": [
          "two",
          "five",
          "four"
         ],
         "type": "distinctIntersection"
        },
        {
         "cardinality": 2,
         "color": null,
         "degree": 3,
         "elems": [
          5,
          8
         ],
         "name": "(three ∩ four ∩ five)",
         "set_names": [
          "three",
          "five",
          "four"
         ],
         "type": "distinctIntersection"
        },
        {
         "cardinality": 0,
         "color": null,
         "degree": 3,
         "elems": [],
         "name": "(one ∩ two ∩ four)",
         "set_names": [
          "two",
          "four",
          "one"
         ],
         "type": "distinctIntersection"
        },
        {
         "cardinality": 0,
         "color": null,
         "degree": 3,
         "elems": [],
         "name": "(one ∩ three ∩ four)",
         "set_names": [
          "three",
          "four",
          "one"
         ],
         "type": "distinctIntersection"
        },
        {
         "cardinality": 0,
         "color": null,
         "degree": 3,
         "elems": [],
         "name": "(two ∩ three ∩ four)",
         "set_names": [
          "two",
          "three",
          "four"
         ],
         "type": "distinctIntersection"
        },
        {
         "cardinality": 0,
         "color": null,
         "degree": 3,
         "elems": [],
         "name": "(one ∩ two ∩ three)",
         "set_names": [
          "two",
          "three",
          "one"
         ],
         "type": "distinctIntersection"
        },
        {
         "cardinality": 0,
         "color": null,
         "degree": 4,
         "elems": [],
         "name": "(one ∩ two ∩ three ∩ five)",
         "set_names": [
          "two",
          "three",
          "five",
          "one"
         ],
         "type": "distinctIntersection"
        },
        {
         "cardinality": 0,
         "color": null,
         "degree": 4,
         "elems": [],
         "name": "(one ∩ two ∩ four ∩ five)",
         "set_names": [
          "two",
          "five",
          "four",
          "one"
         ],
         "type": "distinctIntersection"
        },
        {
         "cardinality": 4,
         "color": null,
         "degree": 4,
         "elems": [
          6,
          12,
          7,
          11
         ],
         "name": "(one ∩ three ∩ four ∩ five)",
         "set_names": [
          "three",
          "five",
          "four",
          "one"
         ],
         "type": "distinctIntersection"
        },
        {
         "cardinality": 1,
         "color": null,
         "degree": 4,
         "elems": [
          9
         ],
         "name": "(two ∩ three ∩ four ∩ five)",
         "set_names": [
          "two",
          "three",
          "five",
          "four"
         ],
         "type": "distinctIntersection"
        },
        {
         "cardinality": 0,
         "color": null,
         "degree": 4,
         "elems": [],
         "name": "(one ∩ two ∩ three ∩ four)",
         "set_names": [
          "two",
          "three",
          "four",
          "one"
         ],
         "type": "distinctIntersection"
        },
        {
         "cardinality": 2,
         "color": null,
         "degree": 5,
         "elems": [
          0,
          4
         ],
         "name": "(one ∩ two ∩ three ∩ four ∩ five)",
         "set_names": [
          "five",
          "one",
          "two",
          "three",
          "four"
         ],
         "type": "distinctIntersection"
        }
       ],
       "description": null,
       "elems": [
        "a",
        "b",
        "c",
        "d",
        "e",
        "f",
        "g",
        "h",
        "i",
        "j",
        "k",
        "l",
        "m"
       ],
       "export_buttons": null,
       "font_family": null,
       "font_sizes": {},
       "has_selection_color": null,
       "has_selection_opacity": null,
       "layout": "IPY_MODEL_7cea33f01d0247f288c27633e4c6e20a",
       "mode": "hover",
       "opacity": null,
       "padding": null,
       "queries": [],
       "query_legend": null,
       "selection_color": null,
       "sets": [
        {
         "cardinality": 9,
         "color": null,
         "elems": [
          12,
          7,
          8,
          6,
          11,
          5,
          0,
          9,
          4
         ],
         "name": "five",
         "type": "set"
        },
        {
         "cardinality": 9,
         "color": null,
         "elems": [
          12,
          7,
          8,
          6,
          11,
          5,
          0,
          9,
          4
         ],
         "name": "four",
         "type": "set"
        },
        {
         "cardinality": 9,
         "color": null,
         "elems": [
          12,
          7,
          2,
          6,
          10,
          1,
          11,
          0,
          4
         ],
         "name": "one",
         "type": "set"
        },
        {
         "cardinality": 9,
         "color": null,
         "elems": [
          12,
          7,
          8,
          6,
          11,
          5,
          0,
          9,
          4
         ],
         "name": "three",
         "type": "set"
        },
        {
         "cardinality": 5,
         "color": null,
         "elems": [
          1,
          3,
          0,
          9,
          4
         ],
         "name": "two",
         "type": "set"
        }
       ],
       "stroke_color": null,
       "text_color": null,
       "theme": "light",
       "title": null,
       "value": null,
       "value_text_color": null
      }
     },
     "d357f362e65849cebf0855db74ec3c2a": {
      "model_module": "@upsetjs/jupyter_widget",
      "model_module_version": "^1.3.0",
      "model_name": "UpSetModel",
      "state": {
       "_expression_data": false,
       "_model_module_version": "^1.3.0",
       "_render_mode": "venn",
       "_view_module_version": "^1.3.0",
       "color": null,
       "combinations": [
        {
         "cardinality": 2,
         "color": null,
         "degree": 1,
         "elems": [
          2,
          10
         ],
         "name": "one",
         "set_names": [
          "one"
         ],
         "type": "distinctIntersection"
        },
        {
         "cardinality": 2,
         "color": null,
         "degree": 1,
         "elems": [
          5,
          8
         ],
         "name": "three",
         "set_names": [
          "three"
         ],
         "type": "distinctIntersection"
        },
        {
         "cardinality": 1,
         "color": null,
         "degree": 1,
         "elems": [
          3
         ],
         "name": "two",
         "set_names": [
          "two"
         ],
         "type": "distinctIntersection"
        },
        {
         "cardinality": 1,
         "color": null,
         "degree": 2,
         "elems": [
          1
         ],
         "name": "(one ∩ two)",
         "set_names": [
          "one",
          "two"
         ],
         "type": "distinctIntersection"
        },
        {
         "cardinality": 4,
         "color": null,
         "degree": 2,
         "elems": [
          6,
          12,
          7,
          11
         ],
         "name": "(one ∩ three)",
         "set_names": [
          "one",
          "three"
         ],
         "type": "distinctIntersection"
        },
        {
         "cardinality": 1,
         "color": null,
         "degree": 2,
         "elems": [
          9
         ],
         "name": "(two ∩ three)",
         "set_names": [
          "two",
          "three"
         ],
         "type": "distinctIntersection"
        },
        {
         "cardinality": 2,
         "color": null,
         "degree": 3,
         "elems": [
          0,
          4
         ],
         "name": "(one ∩ two ∩ three)",
         "set_names": [
          "one",
          "three",
          "two"
         ],
         "type": "distinctIntersection"
        }
       ],
       "description": null,
       "elems": [
        "a",
        "b",
        "c",
        "d",
        "e",
        "f",
        "g",
        "h",
        "i",
        "j",
        "k",
        "l",
        "m"
       ],
       "export_buttons": null,
       "font_family": null,
       "font_sizes": {},
       "has_selection_color": null,
       "has_selection_opacity": null,
       "layout": "IPY_MODEL_eea479bcd1f14791a2fdbc117603e77b",
       "mode": "hover",
       "opacity": null,
       "padding": null,
       "queries": [],
       "query_legend": null,
       "selection_color": null,
       "sets": [
        {
         "cardinality": 9,
         "color": null,
         "elems": [
          12,
          7,
          2,
          6,
          10,
          1,
          11,
          0,
          4
         ],
         "name": "one",
         "type": "set"
        },
        {
         "cardinality": 9,
         "color": null,
         "elems": [
          12,
          7,
          8,
          6,
          11,
          5,
          0,
          9,
          4
         ],
         "name": "three",
         "type": "set"
        },
        {
         "cardinality": 5,
         "color": null,
         "elems": [
          1,
          3,
          0,
          9,
          4
         ],
         "name": "two",
         "type": "set"
        }
       ],
       "stroke_color": null,
       "text_color": null,
       "theme": "light",
       "title": null,
       "value": null,
       "value_text_color": null
      }
     },
     "eea479bcd1f14791a2fdbc117603e77b": {
      "model_module": "@jupyter-widgets/base",
      "model_module_version": "2.0.0",
      "model_name": "LayoutModel",
      "state": {
       "align_self": "stretch",
       "height": "400px"
      }
     },
     "f855e1e4722b48eabc2cf978408a3877": {
      "model_module": "@jupyter-widgets/base",
      "model_module_version": "2.0.0",
      "model_name": "LayoutModel",
      "state": {
       "align_self": "stretch",
       "height": "400px"
      }
     }
    },
    "version_major": 2,
    "version_minor": 0
   }
  }
 },
 "nbformat": 4,
 "nbformat_minor": 4
}
