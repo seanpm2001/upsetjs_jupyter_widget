{
 "cells": [
  {
   "cell_type": "markdown",
   "metadata": {},
   "source": [
    "# UpSet.js Jupyter Widget - Venn Diagram\n",
    "\n",
    "UpSet.js has a basic support for classical Venn diagrams for two or three sets."
   ]
  },
  {
   "cell_type": "code",
   "execution_count": 1,
   "metadata": {},
   "outputs": [],
   "source": [
    "from ipywidgets import interact\n",
    "from upsetjs_jupyter_widget import UpSetJSVennDiagramWidget\n",
    "import pandas as pd"
   ]
  },
  {
   "cell_type": "markdown",
   "metadata": {},
   "source": [
    "This wrapper is implemented in Python 3 with mypy typings and generics. The generic type `T` of the `UpSetJSVennDiagramWidget` is type of element that we wanna handle. In the following example we handle `str` elements."
   ]
  },
  {
   "cell_type": "code",
   "execution_count": 2,
   "metadata": {},
   "outputs": [],
   "source": [
    "w = UpSetJSVennDiagramWidget[str]()"
   ]
  },
  {
   "cell_type": "markdown",
   "metadata": {},
   "source": [
    "## Basic User Interface\n",
    "\n",
    "**Note**: The input data will be described in more detail in the next section"
   ]
  },
  {
   "cell_type": "code",
   "execution_count": 3,
   "metadata": {},
   "outputs": [
    {
     "data": {
      "application/vnd.jupyter.widget-view+json": {
       "model_id": "998d9cf9f4724d70ac938bf4fbee813b",
       "version_major": 2,
       "version_minor": 0
      },
      "text/plain": [
       "UpSetJSVennDiagramWidget(value=None, combinations=[UpSetSetDistinctIntersection(name=one, sets={'one'}, elems=…"
      ]
     },
     "execution_count": 3,
     "metadata": {},
     "output_type": "execute_result"
    }
   ],
   "source": [
    "dict_input = dict(one = ['a', 'b', 'c', 'e', 'g', 'h', 'k', 'l', 'm'], two = ['a', 'b', 'd', 'e', 'j'], three = ['a', 'e', 'f', 'g', 'h', 'i', 'j', 'l', 'm'])\n",
    "w.from_dict(dict_input)"
   ]
  },
  {
   "cell_type": "markdown",
   "metadata": {},
   "source": [
    "## Input Formats\n",
    "\n",
    "In the current version the UpSet.js wrapper supports two input data formats: `dictionary` and through a Pandas `dataframe`.\n",
    "\n",
    "### Dictionary Input\n",
    "\n",
    "The first format is a dictionary of type `Dict[str, List[T]]`, `T` refers again to the elements type, in this case it is a list of `str`. The key of the dictionary entry is the set name while the value is the list of elements this set has."
   ]
  },
  {
   "cell_type": "code",
   "execution_count": 4,
   "metadata": {},
   "outputs": [
    {
     "data": {
      "application/vnd.jupyter.widget-view+json": {
       "model_id": "998d9cf9f4724d70ac938bf4fbee813b",
       "version_major": 2,
       "version_minor": 0
      },
      "text/plain": [
       "UpSetJSVennDiagramWidget(value=None, combinations=[UpSetSetDistinctIntersection(name=one, sets={'one'}, elems=…"
      ]
     },
     "execution_count": 4,
     "metadata": {},
     "output_type": "execute_result"
    }
   ],
   "source": [
    "w.from_dict(dict(one = ['a', 'b', 'c', 'e', 'g', 'h', 'k', 'l', 'm'], two = ['a', 'b', 'd', 'e', 'j'], three = ['a', 'e', 'f', 'g', 'h', 'i', 'j', 'l', 'm']))"
   ]
  },
  {
   "cell_type": "markdown",
   "metadata": {},
   "source": [
    "### Data Frame Input\n",
    "\n",
    "The second format is a a binary/boolean data frame. The index column contains the list of elements. Each regular color represents a sets with boolean values (e.g., 0 and 1) whether the row represented by the index value is part of the set or not.\n",
    "\n",
    "The following data frame defines the same set structure as the dictionary format before."
   ]
  },
  {
   "cell_type": "code",
   "execution_count": 5,
   "metadata": {},
   "outputs": [
    {
     "data": {
      "application/vnd.jupyter.widget-view+json": {
       "model_id": "998d9cf9f4724d70ac938bf4fbee813b",
       "version_major": 2,
       "version_minor": 0
      },
      "text/plain": [
       "UpSetJSVennDiagramWidget(value=None, combinations=[UpSetSetDistinctIntersection(name=one, sets={'one'}, elems=…"
      ]
     },
     "execution_count": 5,
     "metadata": {},
     "output_type": "execute_result"
    }
   ],
   "source": [
    "df = pd.DataFrame(dict(\n",
    "    one=[1, 1, 1, 0, 1, 0, 1, 1, 0, 0, 1, 1, 1], \n",
    "    two=[1, 1, 0, 1, 1, 0, 0, 0, 0, 1, 0, 0, 0], \n",
    "    three=[1, 0, 0, 0, 1, 1, 1, 1, 1, 1, 0, 1, 1]\n",
    "), index=['a', 'b', 'c', 'd', 'e', 'f', 'g', 'h', 'i', 'j', 'k', 'l', 'm'])\n",
    "w.from_dataframe(df)"
   ]
  },
  {
   "cell_type": "markdown",
   "metadata": {},
   "source": [
    "## Basic Attrributes"
   ]
  },
  {
   "cell_type": "markdown",
   "metadata": {},
   "source": [
    "`.elems` returns the list of extracted elements"
   ]
  },
  {
   "cell_type": "code",
   "execution_count": 6,
   "metadata": {},
   "outputs": [
    {
     "data": {
      "text/plain": [
       "['a', 'b', 'c', 'd', 'e', 'f', 'g', 'h', 'i', 'j', 'k', 'l', 'm']"
      ]
     },
     "execution_count": 6,
     "metadata": {},
     "output_type": "execute_result"
    }
   ],
   "source": [
    "w.elems"
   ]
  },
  {
   "cell_type": "markdown",
   "metadata": {},
   "source": [
    "`.sets` returns the list of extracted sets as `UpSetSet` objects"
   ]
  },
  {
   "cell_type": "code",
   "execution_count": 7,
   "metadata": {},
   "outputs": [
    {
     "data": {
      "text/plain": [
       "[UpSetSet(name=one, elems={'e', 'k', 'b', 'g', 'l', 'a', 'm', 'c', 'h'}),\n",
       " UpSetSet(name=three, elems={'e', 'j', 'g', 'l', 'a', 'i', 'm', 'f', 'h'}),\n",
       " UpSetSet(name=two, elems={'a', 'e', 'd', 'j', 'b'})]"
      ]
     },
     "execution_count": 7,
     "metadata": {},
     "output_type": "execute_result"
    }
   ],
   "source": [
    "w.sets"
   ]
  },
  {
   "cell_type": "markdown",
   "metadata": {},
   "source": [
    "Similariy, `.combinations` returns the list of set intersections that are visualized as `UpSetIntersection` objects. \n",
    "\n",
    "**Note**: the attribute is called `.combinations` instead of `.intersections` since one customized the generation of the set combinations that are visualized. E.g., one can also generate set unions."
   ]
  },
  {
   "cell_type": "code",
   "execution_count": 8,
   "metadata": {},
   "outputs": [
    {
     "data": {
      "text/plain": [
       "[UpSetSetDistinctIntersection(name=one, sets={'one'}, elems={'c', 'k'}),\n",
       " UpSetSetDistinctIntersection(name=three, sets={'three'}, elems={'i', 'f'}),\n",
       " UpSetSetDistinctIntersection(name=two, sets={'two'}, elems={'d'}),\n",
       " UpSetSetDistinctIntersection(name=(one ∩ three), sets={'three', 'one'}, elems={'m', 'g', 'l', 'h'}),\n",
       " UpSetSetDistinctIntersection(name=(one ∩ two), sets={'two', 'one'}, elems={'b'}),\n",
       " UpSetSetDistinctIntersection(name=(three ∩ two), sets={'three', 'two'}, elems={'j'})]"
      ]
     },
     "execution_count": 8,
     "metadata": {},
     "output_type": "execute_result"
    }
   ],
   "source": [
    "w.combinations"
   ]
  },
  {
   "cell_type": "markdown",
   "metadata": {},
   "source": [
    "## Interaction\n",
    "\n",
    "UpSet.js allows three intersection modes settable via `.mode`\n",
    "\n",
    "- `'hover'` (default) when the user hovers over a set or set intersection it will be highlighted. This is the default mode\n",
    "- `'click'` when the user clicks on a set or a set intersection, the selection will be updated\n",
    "- `'contextMenu'` when the user right clicks on a set or a set intersection, the selection will be updated\n",
    "- `'static'` disables interactivity"
   ]
  },
  {
   "cell_type": "code",
   "execution_count": 9,
   "metadata": {},
   "outputs": [
    {
     "data": {
      "application/vnd.jupyter.widget-view+json": {
       "model_id": "998d9cf9f4724d70ac938bf4fbee813b",
       "version_major": 2,
       "version_minor": 0
      },
      "text/plain": [
       "UpSetJSVennDiagramWidget(value=None, combinations=[UpSetSetDistinctIntersection(name=one, sets={'one'}, elems=…"
      ]
     },
     "execution_count": 9,
     "metadata": {},
     "output_type": "execute_result"
    }
   ],
   "source": [
    "w.mode = 'click'\n",
    "w"
   ]
  },
  {
   "cell_type": "markdown",
   "metadata": {},
   "source": [
    "with `.selection` one manually sets the selection that is currently highlighted. Manually setting the selection is only useful in `click` and `static` modes."
   ]
  },
  {
   "cell_type": "code",
   "execution_count": 10,
   "metadata": {},
   "outputs": [
    {
     "data": {
      "application/vnd.jupyter.widget-view+json": {
       "model_id": "998d9cf9f4724d70ac938bf4fbee813b",
       "version_major": 2,
       "version_minor": 0
      },
      "text/plain": [
       "UpSetJSVennDiagramWidget(value={'type': 'set', 'name': 'one'}, combinations=[UpSetSetDistinctIntersection(name…"
      ]
     },
     "execution_count": 10,
     "metadata": {},
     "output_type": "execute_result"
    }
   ],
   "source": [
    "w.selection = w.sets[0]\n",
    "w"
   ]
  },
  {
   "cell_type": "markdown",
   "metadata": {},
   "source": [
    "The current selection is synced with the server. It is designed to work with the `interact` of the `ipywidgets` package. In the following example the current selected set will be automatically written below the chart and updated interactivly."
   ]
  },
  {
   "cell_type": "code",
   "execution_count": 11,
   "metadata": {},
   "outputs": [
    {
     "data": {
      "application/vnd.jupyter.widget-view+json": {
       "model_id": "39d51ee1924f487dbe4a48c5f4d43460",
       "version_major": 2,
       "version_minor": 0
      },
      "text/plain": [
       "interactive(children=(UpSetJSVennDiagramWidget(value={'type': 'set', 'name': 'one'}, combinations=[UpSetSetDis…"
      ]
     },
     "metadata": {},
     "output_type": "display_data"
    },
    {
     "data": {
      "text/plain": [
       "<function __main__.selection_changed(s)>"
      ]
     },
     "execution_count": 11,
     "metadata": {},
     "output_type": "execute_result"
    }
   ],
   "source": [
    "w.mode = 'hover'\n",
    "def selection_changed(s):\n",
    "    return s # s[\"name\"] if s else None\n",
    "interact(selection_changed, s=w)"
   ]
  },
  {
   "cell_type": "markdown",
   "metadata": {},
   "source": [
    "## Queries\n",
    "\n",
    "besides the selection UpSet.js supports defining queries. A query can be a list of elements or a set that should be highlighted. A query consists of a name, a color, and either the list of elements or the set (combination) to highlight."
   ]
  },
  {
   "cell_type": "code",
   "execution_count": 12,
   "metadata": {},
   "outputs": [
    {
     "data": {
      "application/vnd.jupyter.widget-view+json": {
       "model_id": "380dbbe730d442e284a44064794ddffb",
       "version_major": 2,
       "version_minor": 0
      },
      "text/plain": [
       "UpSetJSVennDiagramWidget(value=None, combinations=[UpSetSetDistinctIntersection(name=one, sets={'one'}, elems=…"
      ]
     },
     "execution_count": 12,
     "metadata": {},
     "output_type": "execute_result"
    }
   ],
   "source": [
    "wq = w.copy()\n",
    "wq.mode = 'static'\n",
    "wq.selection = None\n",
    "wq.append_query('Q1', color='red', elems=['a', 'b', 'c'])\n",
    "wq.append_query('Q1', color='blue', upset=wq.sets[1])\n",
    "wq"
   ]
  },
  {
   "cell_type": "markdown",
   "metadata": {},
   "source": [
    "## Styling\n",
    "\n",
    "### Theme\n",
    "\n",
    "UpSet.js supports three themes: `light`, `dark`, and `vega`. The theme can be set by the `.theme` property"
   ]
  },
  {
   "cell_type": "code",
   "execution_count": 14,
   "metadata": {},
   "outputs": [
    {
     "data": {
      "application/vnd.jupyter.widget-view+json": {
       "model_id": "fc8676a5595e4cebacd5c554e02282b8",
       "version_major": 2,
       "version_minor": 0
      },
      "text/plain": [
       "UpSetJSVennDiagramWidget(value={'type': 'set', 'name': 'one'}, combinations=[UpSetSetDistinctIntersection(name…"
      ]
     },
     "execution_count": 14,
     "metadata": {},
     "output_type": "execute_result"
    }
   ],
   "source": [
    "w_dark = w.copy()\n",
    "w_dark.theme = 'dark'\n",
    "w_dark"
   ]
  },
  {
   "cell_type": "markdown",
   "metadata": {},
   "source": [
    "### Labels"
   ]
  },
  {
   "cell_type": "code",
   "execution_count": 15,
   "metadata": {},
   "outputs": [
    {
     "data": {
      "application/vnd.jupyter.widget-view+json": {
       "model_id": "3d47a7e307114255bca53dea422d9dcc",
       "version_major": 2,
       "version_minor": 0
      },
      "text/plain": [
       "UpSetJSVennDiagramWidget(value={'type': 'set', 'name': 'one'}, combinations=[UpSetSetDistinctIntersection(name…"
      ]
     },
     "execution_count": 15,
     "metadata": {},
     "output_type": "execute_result"
    }
   ],
   "source": [
    "w_label = w.copy()\n",
    "w_label.title = 'Chart Title'\n",
    "w_label.description = 'a long chart description'\n",
    "w_label"
   ]
  },
  {
   "cell_type": "code",
   "execution_count": null,
   "metadata": {},
   "outputs": [],
   "source": []
  }
 ],
 "metadata": {
  "kernelspec": {
   "display_name": "Python 3.7.1 64-bit ('upsetjs_jupyter_widget': pipenv)",
   "language": "python",
   "name": "python37164bitupsetjsjupyterwidgetpipenvfee1645c874046dc9f0c363432ab7182"
  },
  "language_info": {
   "codemirror_mode": {
    "name": "ipython",
    "version": 3
   },
   "file_extension": ".py",
   "mimetype": "text/x-python",
   "name": "python",
   "nbconvert_exporter": "python",
   "pygments_lexer": "ipython3",
   "version": "3.7.1"
  },
  "widgets": {
   "application/vnd.jupyter.widget-state+json": {
    "state": {
     "1bc8d510b0444ab2ae259d072d3969f7": {
      "model_module": "@jupyter-widgets/base",
      "model_module_version": "2.0.0",
      "model_name": "LayoutModel",
      "state": {}
     },
     "1f164eeb4cfe4de3a619ba77d0cecd78": {
      "model_module": "@jupyter-widgets/base",
      "model_module_version": "2.0.0",
      "model_name": "LayoutModel",
      "state": {
       "align_self": "stretch",
       "height": "400px"
      }
     },
     "262e84aab5b5433d9ff27234dc52e783": {
      "model_module": "@jupyter-widgets/base",
      "model_module_version": "2.0.0",
      "model_name": "LayoutModel",
      "state": {
       "align_self": "stretch",
       "height": "400px"
      }
     },
     "380dbbe730d442e284a44064794ddffb": {
      "model_module": "@upsetjs/jupyter_widget",
      "model_module_version": "^1.1.0",
      "model_name": "UpSetModel",
      "state": {
       "_model_module_version": "^1.1.0",
       "_render_mode": "venn",
       "_view_module_version": "^1.1.0",
       "color": null,
       "combinations": [
        {
         "cardinality": 2,
         "degree": 1,
         "elems": [
          2,
          10
         ],
         "name": "one",
         "set_names": [
          "one"
         ],
         "type": "distinctIntersection"
        },
        {
         "cardinality": 2,
         "degree": 1,
         "elems": [
          8,
          5
         ],
         "name": "three",
         "set_names": [
          "three"
         ],
         "type": "distinctIntersection"
        },
        {
         "cardinality": 1,
         "degree": 1,
         "elems": [
          3
         ],
         "name": "two",
         "set_names": [
          "two"
         ],
         "type": "distinctIntersection"
        },
        {
         "cardinality": 4,
         "degree": 2,
         "elems": [
          12,
          6,
          11,
          7
         ],
         "name": "(one ∩ three)",
         "set_names": [
          "three",
          "one"
         ],
         "type": "distinctIntersection"
        },
        {
         "cardinality": 1,
         "degree": 2,
         "elems": [
          1
         ],
         "name": "(one ∩ two)",
         "set_names": [
          "one",
          "two"
         ],
         "type": "distinctIntersection"
        },
        {
         "cardinality": 1,
         "degree": 2,
         "elems": [
          9
         ],
         "name": "(three ∩ two)",
         "set_names": [
          "three",
          "two"
         ],
         "type": "distinctIntersection"
        }
       ],
       "description": "s",
       "elems": [
        "a",
        "b",
        "c",
        "d",
        "e",
        "f",
        "g",
        "h",
        "i",
        "j",
        "k",
        "l",
        "m"
       ],
       "export_buttons": null,
       "font_family": null,
       "font_sizes": {},
       "has_selection_color": null,
       "layout": "IPY_MODEL_262e84aab5b5433d9ff27234dc52e783",
       "mode": "static",
       "padding": null,
       "queries": [
        {
         "color": "red",
         "elems": [
          0,
          1,
          2
         ],
         "name": "Q1"
        },
        {
         "color": "blue",
         "name": "Q1",
         "set": {
          "name": "three",
          "type": "set"
         }
        }
       ],
       "query_legend": null,
       "selection_color": null,
       "sets": [
        {
         "cardinality": 9,
         "elems": [
          4,
          10,
          1,
          6,
          11,
          0,
          12,
          2,
          7
         ],
         "name": "one",
         "type": "set"
        },
        {
         "cardinality": 9,
         "elems": [
          4,
          9,
          6,
          11,
          0,
          8,
          12,
          5,
          7
         ],
         "name": "three",
         "type": "set"
        },
        {
         "cardinality": 5,
         "elems": [
          4,
          9,
          1,
          0,
          3
         ],
         "name": "two",
         "type": "set"
        }
       ],
       "stroke_color": null,
       "text_color": null,
       "theme": "light",
       "title": null,
       "value": null,
       "value_text_color": null
      }
     },
     "39d51ee1924f487dbe4a48c5f4d43460": {
      "model_module": "@jupyter-widgets/controls",
      "model_module_version": "2.0.0",
      "model_name": "VBoxModel",
      "state": {
       "_dom_classes": [
        "widget-interact"
       ],
       "children": [
        "IPY_MODEL_998d9cf9f4724d70ac938bf4fbee813b",
        "IPY_MODEL_49bbce32016e43d898c996227e419e71"
       ],
       "layout": "IPY_MODEL_e0c7876db18146c4bb5d308342939d70"
      }
     },
     "3d47a7e307114255bca53dea422d9dcc": {
      "model_module": "@upsetjs/jupyter_widget",
      "model_module_version": "^1.1.0",
      "model_name": "UpSetModel",
      "state": {
       "_model_module_version": "^1.1.0",
       "_render_mode": "venn",
       "_view_module_version": "^1.1.0",
       "color": null,
       "combinations": [
        {
         "cardinality": 2,
         "degree": 1,
         "elems": [
          2,
          10
         ],
         "name": "one",
         "set_names": [
          "one"
         ],
         "type": "distinctIntersection"
        },
        {
         "cardinality": 2,
         "degree": 1,
         "elems": [
          8,
          5
         ],
         "name": "three",
         "set_names": [
          "three"
         ],
         "type": "distinctIntersection"
        },
        {
         "cardinality": 1,
         "degree": 1,
         "elems": [
          3
         ],
         "name": "two",
         "set_names": [
          "two"
         ],
         "type": "distinctIntersection"
        },
        {
         "cardinality": 4,
         "degree": 2,
         "elems": [
          12,
          6,
          11,
          7
         ],
         "name": "(one ∩ three)",
         "set_names": [
          "three",
          "one"
         ],
         "type": "distinctIntersection"
        },
        {
         "cardinality": 1,
         "degree": 2,
         "elems": [
          1
         ],
         "name": "(one ∩ two)",
         "set_names": [
          "one",
          "two"
         ],
         "type": "distinctIntersection"
        },
        {
         "cardinality": 1,
         "degree": 2,
         "elems": [
          9
         ],
         "name": "(three ∩ two)",
         "set_names": [
          "three",
          "two"
         ],
         "type": "distinctIntersection"
        }
       ],
       "description": "a long chart description",
       "elems": [
        "a",
        "b",
        "c",
        "d",
        "e",
        "f",
        "g",
        "h",
        "i",
        "j",
        "k",
        "l",
        "m"
       ],
       "export_buttons": null,
       "font_family": null,
       "font_sizes": {},
       "has_selection_color": null,
       "layout": "IPY_MODEL_541ffdc6a62843a4b02bd5bc3f6f3b50",
       "mode": "hover",
       "padding": null,
       "queries": [],
       "query_legend": null,
       "selection_color": null,
       "sets": [
        {
         "cardinality": 9,
         "elems": [
          4,
          10,
          1,
          6,
          11,
          0,
          12,
          2,
          7
         ],
         "name": "one",
         "type": "set"
        },
        {
         "cardinality": 9,
         "elems": [
          4,
          9,
          6,
          11,
          0,
          8,
          12,
          5,
          7
         ],
         "name": "three",
         "type": "set"
        },
        {
         "cardinality": 5,
         "elems": [
          4,
          9,
          1,
          0,
          3
         ],
         "name": "two",
         "type": "set"
        }
       ],
       "stroke_color": null,
       "text_color": null,
       "theme": "light",
       "title": "Chart Title",
       "value": {
        "name": "one",
        "type": "set"
       },
       "value_text_color": null
      }
     },
     "49bbce32016e43d898c996227e419e71": {
      "model_module": "@jupyter-widgets/output",
      "model_module_version": "1.0.0",
      "model_name": "OutputModel",
      "state": {
       "layout": "IPY_MODEL_1bc8d510b0444ab2ae259d072d3969f7",
       "outputs": [
        {
         "data": {
          "text/plain": "UpSetSet(name=one, elems={'e', 'k', 'b', 'g', 'l', 'a', 'm', 'c', 'h'})"
         },
         "metadata": {},
         "output_type": "display_data"
        }
       ]
      }
     },
     "541ffdc6a62843a4b02bd5bc3f6f3b50": {
      "model_module": "@jupyter-widgets/base",
      "model_module_version": "2.0.0",
      "model_name": "LayoutModel",
      "state": {
       "align_self": "stretch",
       "height": "400px"
      }
     },
     "5aea08cec7394ebdbf0468c7ace3cd72": {
      "model_module": "@upsetjs/jupyter_widget",
      "model_module_version": "^1.1.0",
      "model_name": "UpSetModel",
      "state": {
       "_model_module_version": "^1.1.0",
       "_render_mode": "venn",
       "_view_module_version": "^1.1.0",
       "color": null,
       "combinations": [
        {
         "cardinality": 2,
         "degree": 1,
         "elems": [
          2,
          10
         ],
         "name": "one",
         "set_names": [
          "one"
         ],
         "type": "distinctIntersection"
        },
        {
         "cardinality": 2,
         "degree": 1,
         "elems": [
          8,
          5
         ],
         "name": "three",
         "set_names": [
          "three"
         ],
         "type": "distinctIntersection"
        },
        {
         "cardinality": 1,
         "degree": 1,
         "elems": [
          3
         ],
         "name": "two",
         "set_names": [
          "two"
         ],
         "type": "distinctIntersection"
        },
        {
         "cardinality": 4,
         "degree": 2,
         "elems": [
          12,
          6,
          11,
          7
         ],
         "name": "(one ∩ three)",
         "set_names": [
          "three",
          "one"
         ],
         "type": "distinctIntersection"
        },
        {
         "cardinality": 1,
         "degree": 2,
         "elems": [
          1
         ],
         "name": "(one ∩ two)",
         "set_names": [
          "one",
          "two"
         ],
         "type": "distinctIntersection"
        },
        {
         "cardinality": 1,
         "degree": 2,
         "elems": [
          9
         ],
         "name": "(three ∩ two)",
         "set_names": [
          "three",
          "two"
         ],
         "type": "distinctIntersection"
        }
       ],
       "description": "s",
       "elems": [
        "a",
        "b",
        "c",
        "d",
        "e",
        "f",
        "g",
        "h",
        "i",
        "j",
        "k",
        "l",
        "m"
       ],
       "export_buttons": null,
       "font_family": null,
       "font_sizes": {},
       "has_selection_color": null,
       "layout": "IPY_MODEL_fbda4f9fccfc4732a7bbf20dc77f5195",
       "mode": "hover",
       "padding": null,
       "queries": [],
       "query_legend": null,
       "selection_color": null,
       "sets": [
        {
         "cardinality": 9,
         "elems": [
          4,
          10,
          1,
          6,
          11,
          0,
          12,
          2,
          7
         ],
         "name": "one",
         "type": "set"
        },
        {
         "cardinality": 9,
         "elems": [
          4,
          9,
          6,
          11,
          0,
          8,
          12,
          5,
          7
         ],
         "name": "three",
         "type": "set"
        },
        {
         "cardinality": 5,
         "elems": [
          4,
          9,
          1,
          0,
          3
         ],
         "name": "two",
         "type": "set"
        }
       ],
       "stroke_color": null,
       "text_color": null,
       "theme": "dark",
       "title": null,
       "value": null,
       "value_text_color": null
      }
     },
     "998d9cf9f4724d70ac938bf4fbee813b": {
      "model_module": "@upsetjs/jupyter_widget",
      "model_module_version": "^1.1.0",
      "model_name": "UpSetModel",
      "state": {
       "_model_module_version": "^1.1.0",
       "_render_mode": "venn",
       "_view_module_version": "^1.1.0",
       "color": null,
       "combinations": [
        {
         "cardinality": 2,
         "degree": 1,
         "elems": [
          2,
          10
         ],
         "name": "one",
         "set_names": [
          "one"
         ],
         "type": "distinctIntersection"
        },
        {
         "cardinality": 2,
         "degree": 1,
         "elems": [
          8,
          5
         ],
         "name": "three",
         "set_names": [
          "three"
         ],
         "type": "distinctIntersection"
        },
        {
         "cardinality": 1,
         "degree": 1,
         "elems": [
          3
         ],
         "name": "two",
         "set_names": [
          "two"
         ],
         "type": "distinctIntersection"
        },
        {
         "cardinality": 4,
         "degree": 2,
         "elems": [
          12,
          6,
          11,
          7
         ],
         "name": "(one ∩ three)",
         "set_names": [
          "three",
          "one"
         ],
         "type": "distinctIntersection"
        },
        {
         "cardinality": 1,
         "degree": 2,
         "elems": [
          1
         ],
         "name": "(one ∩ two)",
         "set_names": [
          "one",
          "two"
         ],
         "type": "distinctIntersection"
        },
        {
         "cardinality": 1,
         "degree": 2,
         "elems": [
          9
         ],
         "name": "(three ∩ two)",
         "set_names": [
          "three",
          "two"
         ],
         "type": "distinctIntersection"
        }
       ],
       "description": "s",
       "elems": [
        "a",
        "b",
        "c",
        "d",
        "e",
        "f",
        "g",
        "h",
        "i",
        "j",
        "k",
        "l",
        "m"
       ],
       "export_buttons": null,
       "font_family": null,
       "font_sizes": {},
       "has_selection_color": null,
       "layout": "IPY_MODEL_cdc0f58e4e8142458b26419f7b835866",
       "mode": "hover",
       "padding": null,
       "queries": [],
       "query_legend": null,
       "selection_color": null,
       "sets": [
        {
         "cardinality": 9,
         "elems": [
          4,
          10,
          1,
          6,
          11,
          0,
          12,
          2,
          7
         ],
         "name": "one",
         "type": "set"
        },
        {
         "cardinality": 9,
         "elems": [
          4,
          9,
          6,
          11,
          0,
          8,
          12,
          5,
          7
         ],
         "name": "three",
         "type": "set"
        },
        {
         "cardinality": 5,
         "elems": [
          4,
          9,
          1,
          0,
          3
         ],
         "name": "two",
         "type": "set"
        }
       ],
       "stroke_color": null,
       "text_color": null,
       "theme": "light",
       "title": null,
       "value": {
        "name": "one",
        "type": "set"
       },
       "value_text_color": null
      }
     },
     "cdc0f58e4e8142458b26419f7b835866": {
      "model_module": "@jupyter-widgets/base",
      "model_module_version": "2.0.0",
      "model_name": "LayoutModel",
      "state": {
       "align_self": "stretch",
       "height": "400px"
      }
     },
     "e0c7876db18146c4bb5d308342939d70": {
      "model_module": "@jupyter-widgets/base",
      "model_module_version": "2.0.0",
      "model_name": "LayoutModel",
      "state": {}
     },
     "fbda4f9fccfc4732a7bbf20dc77f5195": {
      "model_module": "@jupyter-widgets/base",
      "model_module_version": "2.0.0",
      "model_name": "LayoutModel",
      "state": {
       "align_self": "stretch",
       "height": "400px"
      }
     },
     "fc8676a5595e4cebacd5c554e02282b8": {
      "model_module": "@upsetjs/jupyter_widget",
      "model_module_version": "^1.1.0",
      "model_name": "UpSetModel",
      "state": {
       "_model_module_version": "^1.1.0",
       "_render_mode": "venn",
       "_view_module_version": "^1.1.0",
       "color": null,
       "combinations": [
        {
         "cardinality": 2,
         "degree": 1,
         "elems": [
          2,
          10
         ],
         "name": "one",
         "set_names": [
          "one"
         ],
         "type": "distinctIntersection"
        },
        {
         "cardinality": 2,
         "degree": 1,
         "elems": [
          8,
          5
         ],
         "name": "three",
         "set_names": [
          "three"
         ],
         "type": "distinctIntersection"
        },
        {
         "cardinality": 1,
         "degree": 1,
         "elems": [
          3
         ],
         "name": "two",
         "set_names": [
          "two"
         ],
         "type": "distinctIntersection"
        },
        {
         "cardinality": 4,
         "degree": 2,
         "elems": [
          12,
          6,
          11,
          7
         ],
         "name": "(one ∩ three)",
         "set_names": [
          "three",
          "one"
         ],
         "type": "distinctIntersection"
        },
        {
         "cardinality": 1,
         "degree": 2,
         "elems": [
          1
         ],
         "name": "(one ∩ two)",
         "set_names": [
          "one",
          "two"
         ],
         "type": "distinctIntersection"
        },
        {
         "cardinality": 1,
         "degree": 2,
         "elems": [
          9
         ],
         "name": "(three ∩ two)",
         "set_names": [
          "three",
          "two"
         ],
         "type": "distinctIntersection"
        }
       ],
       "description": "s",
       "elems": [
        "a",
        "b",
        "c",
        "d",
        "e",
        "f",
        "g",
        "h",
        "i",
        "j",
        "k",
        "l",
        "m"
       ],
       "export_buttons": null,
       "font_family": null,
       "font_sizes": {},
       "has_selection_color": null,
       "layout": "IPY_MODEL_1f164eeb4cfe4de3a619ba77d0cecd78",
       "mode": "hover",
       "padding": null,
       "queries": [],
       "query_legend": null,
       "selection_color": null,
       "sets": [
        {
         "cardinality": 9,
         "elems": [
          4,
          10,
          1,
          6,
          11,
          0,
          12,
          2,
          7
         ],
         "name": "one",
         "type": "set"
        },
        {
         "cardinality": 9,
         "elems": [
          4,
          9,
          6,
          11,
          0,
          8,
          12,
          5,
          7
         ],
         "name": "three",
         "type": "set"
        },
        {
         "cardinality": 5,
         "elems": [
          4,
          9,
          1,
          0,
          3
         ],
         "name": "two",
         "type": "set"
        }
       ],
       "stroke_color": null,
       "text_color": null,
       "theme": "dark",
       "title": null,
       "value": {
        "name": "one",
        "type": "set"
       },
       "value_text_color": null
      }
     }
    },
    "version_major": 2,
    "version_minor": 0
   }
  }
 },
 "nbformat": 4,
 "nbformat_minor": 4
}
